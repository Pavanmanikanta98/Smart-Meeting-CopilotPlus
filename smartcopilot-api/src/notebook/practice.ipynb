{
 "cells": [
  {
   "cell_type": "code",
   "execution_count": 18,
   "metadata": {},
   "outputs": [
    {
     "name": "stdout",
     "output_type": "stream",
     "text": [
      "/home/pavan/Ds/pro/smart-meeting-copilot/smartcopilot-api/.venv/bin/python\n"
     ]
    }
   ],
   "source": [
    "!which python\n"
   ]
  },
  {
   "cell_type": "code",
   "execution_count": 1,
   "metadata": {},
   "outputs": [
    {
     "data": {
      "text/plain": [
       "True"
      ]
     },
     "execution_count": 1,
     "metadata": {},
     "output_type": "execute_result"
    }
   ],
   "source": [
    "\n",
    "import os\n",
    "import time\n",
    "import json\n",
    "from typing import List, Optional, Dict, TypedDict, Literal\n",
    "from pydantic import BaseModel, Field\n",
    "from langchain_core.prompts import ChatPromptTemplate\n",
    "from langchain_core.messages import BaseMessage, HumanMessage\n",
    "from langchain_groq import ChatGroq\n",
    "from langchain_core.output_parsers import JsonOutputParser\n",
    "from langgraph.graph import StateGraph, END\n",
    "from langchain_core.tools import tool\n",
    "\n",
    "from dotenv import load_dotenv\n",
    "load_dotenv()"
   ]
  },
  {
   "cell_type": "code",
   "execution_count": 2,
   "metadata": {},
   "outputs": [],
   "source": [
    "\n",
    "groq_api_key = os.getenv(\"GROQ_API_KEY\") \n",
    "\n",
    "os.environ[\"GROQ_API_KEY\"] = groq_api_key \n",
    "\n",
    "llm = ChatGroq(temperature=0, model_name=\"llama3-70b-8192\") \n"
   ]
  },
  {
   "cell_type": "code",
   "execution_count": 3,
   "metadata": {},
   "outputs": [
    {
     "data": {
      "text/plain": [
       "AIMessage(content=\"Hii! How's it going?\", additional_kwargs={}, response_metadata={'token_usage': {'completion_tokens': 9, 'prompt_tokens': 12, 'total_tokens': 21, 'completion_time': 0.045381642, 'prompt_time': 0.000246218, 'queue_time': 0.277750322, 'total_time': 0.04562786}, 'model_name': 'llama3-70b-8192', 'system_fingerprint': 'fp_de9fa14705', 'finish_reason': 'stop', 'logprobs': None}, id='run--05acf5a0-2477-4330-a554-20aac89a5257-0', usage_metadata={'input_tokens': 12, 'output_tokens': 9, 'total_tokens': 21})"
      ]
     },
     "execution_count": 3,
     "metadata": {},
     "output_type": "execute_result"
    }
   ],
   "source": [
    "llm.invoke(\"hii\")"
   ]
  },
  {
   "cell_type": "code",
   "execution_count": 4,
   "metadata": {},
   "outputs": [],
   "source": [
    "# Define State and Structured Models\n",
    "\n",
    "class ActionItem(BaseModel):\n",
    "    task: str = Field(description=\"The specific action or task to be completed.\")\n",
    "    owner: str = Field(description=\"The person or group responsible for the task.\")\n",
    "    deadline: Optional[str] = Field(None, description=\"The deadline for the task if mentioned.\")\n",
    "    priority: str = Field(\"Normal\", description=\"The priority of the task (High, Normal, Low).\")\n"
   ]
  },
  {
   "cell_type": "code",
   "execution_count": 5,
   "metadata": {},
   "outputs": [],
   "source": [
    "class AgentState(TypedDict):\n",
    "    transcript_id: str\n",
    "    summary_id: Optional[str]\n",
    "    insights_id: Optional[str]\n",
    "    action_items_id: Optional[str]\n",
    "    email_id: Optional[str]\n",
    "    status: Dict[str, Literal[\"pending\", \"processing\", \"success\", \"error\", \"retrying\"]]\n",
    "    last_reasoning: str\n",
    "    error_log: List[str]\n",
    "    retry_count: Dict[str, int]\n",
    "    current_step: Literal[\"supervisor\", \"summarization\", \"insights\", \"action_items\", \"verification\", \"slack\", \"END\"]"
   ]
  },
  {
   "cell_type": "code",
   "execution_count": 6,
   "metadata": {},
   "outputs": [],
   "source": [
    "# Storage implemention (Prototype)\n",
    "\n",
    "class DataStorage:\n",
    "    _storage = {\n",
    "        'transcripts': {},\n",
    "        'summaries': {},\n",
    "        'insights': {},\n",
    "        'action_items': {},\n",
    "        'emails': {}\n",
    "    }\n",
    "    \n",
    "    @classmethod\n",
    "    def store(cls, data_type: str, data: any) -> str:\n",
    "        \"\"\"Store data and return reference ID\"\"\"\n",
    "        uid = f\"{data_type}_{int(time.time())}\"\n",
    "        cls._storage[data_type][uid] = data\n",
    "        return uid\n",
    "    \n",
    "    @classmethod\n",
    "    def retrieve(cls, data_type: str, uid: str) -> any:\n",
    "        \"\"\"Retrieve data by reference ID\"\"\"\n",
    "        return cls._storage[data_type].get(uid)\n",
    "    "
   ]
  },
  {
   "cell_type": "code",
   "execution_count": 7,
   "metadata": {},
   "outputs": [
    {
     "name": "stdout",
     "output_type": "stream",
     "text": [
      "Added to path: /home/pavan/Ds/pro/smart-meeting-copilot/smartcopilot-api/src/notebook/src\n"
     ]
    }
   ],
   "source": [
    "import sys\n",
    "import os\n",
    "\n",
    "# Add src directory to Python path\n",
    "src_dir = os.path.abspath(os.path.join(os.getcwd(), \"src\"))\n",
    "if src_dir not in sys.path:\n",
    "    sys.path.insert(0, src_dir)\n",
    "\n",
    "print(f\"Added to path: {src_dir}\")"
   ]
  },
  {
   "cell_type": "code",
   "execution_count": null,
   "metadata": {},
   "outputs": [],
   "source": []
  },
  {
   "cell_type": "code",
   "execution_count": 8,
   "metadata": {},
   "outputs": [
    {
     "name": "stdout",
     "output_type": "stream",
     "text": [
      "🔧 Initializing MCP Manager...\n",
      "<built-in function getcwd>\n",
      "❌ Failed to import MCPClient: No module named 'src'\n",
      "   Make sure mcpserver.py is in your Python path\n",
      "⚠️  MCP Client not available. Make sure mcpserver.py is accessible\n"
     ]
    }
   ],
   "source": [
    "# Cell 3.5: MCP Integration via Singleton Manager\n",
    "import time\n",
    "import json\n",
    "import threading\n",
    "from queue import Queue, Empty\n",
    "import os\n",
    "\n",
    "class MCPManager:\n",
    "    \"\"\"Singleton MCP Manager for notebook integration with external MCP server\"\"\"\n",
    "    _instance = None\n",
    "    _lock = threading.Lock()\n",
    "    \n",
    "    def __new__(cls):\n",
    "        if cls._instance is None:\n",
    "            with cls._lock:\n",
    "                if cls._instance is None:\n",
    "                    cls._instance = super().__new__(cls)\n",
    "                    cls._instance._initialized = False\n",
    "        return cls._instance\n",
    "    \n",
    "    def __init__(self):\n",
    "        if not self._initialized:\n",
    "            self.mcp_client = None\n",
    "            self.debug = True\n",
    "            self._initialized = True\n",
    "    \n",
    "    def _get_mcp_client(self):\n",
    "        \"\"\"Lazy initialization of MCP client\"\"\"\n",
    "        if self.mcp_client is None:\n",
    "            try:\n",
    "                # Import the MCP client from your separate file\n",
    "                os.chdir('../')\n",
    "                print(os.getcwd)\n",
    "                from src.mcpserver import MCPClient  \n",
    "                self.mcp_client = MCPClient()\n",
    "                print(\"📦 MCP Client imported successfully\")\n",
    "            except ImportError as e:\n",
    "                print(f\"❌ Failed to import MCPClient: {e}\")\n",
    "                print(\"   Make sure mcpserver.py is in your Python path\")\n",
    "                return None\n",
    "        return self.mcp_client\n",
    "    \n",
    "    def start_server(self):\n",
    "        \"\"\"Start MCP server and initialize connection\"\"\"\n",
    "        client = self._get_mcp_client()\n",
    "        if not client:\n",
    "            return False\n",
    "        \n",
    "        try:\n",
    "            # Start the server process\n",
    "            if not client.start_server():\n",
    "                print(\"❌ Failed to start MCP server\")\n",
    "                return False\n",
    "            \n",
    "            # Initialize the connection\n",
    "            if not client.initialize():\n",
    "                print(\"❌ Failed to initialize MCP connection\")\n",
    "                return False\n",
    "            \n",
    "            print(\"✅ MCP server started and initialized successfully\")\n",
    "            return True\n",
    "            \n",
    "        except Exception as e:\n",
    "            print(f\"❌ Error starting MCP server: {e}\")\n",
    "            return False\n",
    "    \n",
    "    def is_server_running(self):\n",
    "        \"\"\"Check if MCP server is running\"\"\"\n",
    "        client = self._get_mcp_client()\n",
    "        if not client:\n",
    "            return False\n",
    "        return hasattr(client, 'running') and client.running and client.initialized\n",
    "    \n",
    "    def list_tools(self):\n",
    "        \"\"\"List available MCP tools\"\"\"\n",
    "        if not self.is_server_running():\n",
    "            print(\"⚠️  Server not running, starting...\")\n",
    "            if not self.start_server():\n",
    "                return {\"error\": \"Failed to start MCP server\"}\n",
    "        \n",
    "        client = self._get_mcp_client()\n",
    "        if not client:\n",
    "            return {\"error\": \"MCP client not available\"}\n",
    "        \n",
    "        try:\n",
    "            result = client.list_tools()\n",
    "            if self.debug:\n",
    "                print(f\"[TOOLS LIST] {json.dumps(result, indent=2)}\")\n",
    "            return result\n",
    "        except Exception as e:\n",
    "            return {\"error\": f\"Failed to list tools: {str(e)}\"}\n",
    "    \n",
    "    def call_tool(self, tool_name: str, arguments: dict = None) -> dict:\n",
    "        \"\"\"Call a specific MCP tool\"\"\"\n",
    "        if not self.is_server_running():\n",
    "            print(\"⚠️  Server not running, starting...\")\n",
    "            if not self.start_server():\n",
    "                return {\"error\": \"Failed to start MCP server\"}\n",
    "        \n",
    "        client = self._get_mcp_client()\n",
    "        if not client:\n",
    "            return {\"error\": \"MCP client not available\"}\n",
    "        \n",
    "        try:\n",
    "            result = client.call_tool(tool_name, arguments or {})\n",
    "            if self.debug:\n",
    "                print(f\"[TOOL CALL] {tool_name} -> {json.dumps(result, indent=2)}\")\n",
    "            return result\n",
    "        except Exception as e:\n",
    "            return {\"error\": f\"Failed to call tool {tool_name}: {str(e)}\"}\n",
    "    \n",
    "    def mcp_request(self, tool_name: str, args: dict = None) -> dict:\n",
    "        \"\"\"Alias for call_tool to match your original interface\"\"\"\n",
    "        return self.call_tool(tool_name, args)\n",
    "    \n",
    "    def get_server_status(self):\n",
    "        \"\"\"Get comprehensive server status\"\"\"\n",
    "        client = self._get_mcp_client()\n",
    "        if not client:\n",
    "            return {\"status\": \"client_not_available\", \"running\": False}\n",
    "        \n",
    "        status = {\n",
    "            \"running\": self.is_server_running(),\n",
    "            \"client_available\": True,\n",
    "            \"process_id\": getattr(client.process, 'pid', None) if hasattr(client, 'process') and client.process else None\n",
    "        }\n",
    "        \n",
    "        if status[\"running\"]:\n",
    "            # Try to get tools to verify connectivity\n",
    "            try:\n",
    "                tools_response = self.list_tools()\n",
    "                if (\n",
    "                    \"result\" in tools_response\n",
    "                    and isinstance(tools_response[\"result\"], dict)\n",
    "                    and \"tools\" in tools_response[\"result\"]\n",
    "                    and isinstance(tools_response[\"result\"][\"tools\"], list)\n",
    "                ):\n",
    "                    status[\"tools_count\"] = len(tools_response[\"result\"][\"tools\"])\n",
    "                    status[\"status\"] = \"healthy\"\n",
    "                    status[\"tools\"] = [t[\"name\"] for t in tools_response[\"result\"][\"tools\"]]\n",
    "                else:\n",
    "                    status[\"status\"] = \"connection_issues\"\n",
    "                    status[\"error\"] = tools_response.get(\"error\", \"Unknown error\")\n",
    "            except Exception as e:\n",
    "                status[\"status\"] = \"connection_error\"\n",
    "                status[\"error\"] = str(e)\n",
    "        else:\n",
    "            status[\"status\"] = \"not_running\"\n",
    "        \n",
    "        return status\n",
    "    \n",
    "    def restart_server(self):\n",
    "        \"\"\"Restart the MCP server\"\"\"\n",
    "        print(\"🔄 Restarting MCP server...\")\n",
    "        self.stop_server()\n",
    "        time.sleep(2)\n",
    "        return self.start_server()\n",
    "    \n",
    "    def stop_server(self):\n",
    "        \"\"\"Stop the MCP server\"\"\"\n",
    "        client = self._get_mcp_client()\n",
    "        if client and hasattr(client, 'stop'):\n",
    "            try:\n",
    "                client.stop()\n",
    "                print(\"✅ MCP server stopped\")\n",
    "            except Exception as e:\n",
    "                print(f\"⚠️  Error stopping server: {e}\")\n",
    "    \n",
    "    def test_connection(self):\n",
    "        \"\"\"Test MCP connection with basic tool listing\"\"\"\n",
    "        print(\"🧪 Testing MCP connection...\")\n",
    "        \n",
    "        status = self.get_server_status()\n",
    "        print(f\"📊 Server Status: {status['status']}\")\n",
    "        \n",
    "        if status[\"status\"] == \"healthy\":\n",
    "            tools = status.get(\"tools\", [])\n",
    "            print(f\"✅ Connection successful! Found {len(tools)} tools:\")\n",
    "            for i, tool_name in enumerate(tools[:5], 1):  # Show first 5 tools\n",
    "                print(f\"  {i}. {tool_name}\")\n",
    "            if len(tools) > 5:\n",
    "                print(f\"  ... and {len(tools) - 5} more tools\")\n",
    "            return True\n",
    "        else:\n",
    "            print(f\"❌ Connection failed: {status.get('error', 'Unknown error')}\")\n",
    "            return False\n",
    "    \n",
    "    def show_tools(self):\n",
    "        \"\"\"Display available tools in a user-friendly format\"\"\"\n",
    "        tools_response = self.list_tools()\n",
    "        \n",
    "        if \"error\" in tools_response:\n",
    "            print(f\"❌ Error getting tools: {tools_response['error']}\")\n",
    "            return\n",
    "        \n",
    "        if \"result\" not in tools_response:\n",
    "            print(\"❌ No tools found or invalid response\")\n",
    "            return\n",
    "\n",
    "        result = tools_response[\"result\"]\n",
    "        # Handle both dict and list cases for result\n",
    "        if isinstance(result, dict) and \"tools\" in result and isinstance(result[\"tools\"], list):\n",
    "            tools = result[\"tools\"]\n",
    "        elif isinstance(result, list):\n",
    "            tools = result\n",
    "        else:\n",
    "            print(\"❌ No tools found or invalid response structure\")\n",
    "            return\n",
    "\n",
    "        print(f\"\\n📋 Available Tools ({len(tools)}):\")\n",
    "        print(\"=\" * 50)\n",
    "        \n",
    "        for i, tool in enumerate(tools, 1):\n",
    "            print(f\"{i}. 🔧 {tool.get('name', 'Unnamed Tool')}\")\n",
    "            if 'description' in tool:\n",
    "                print(f\"   📝 {tool['description']}\")\n",
    "            if 'inputSchema' in tool and isinstance(tool['inputSchema'], dict) and 'properties' in tool['inputSchema']:\n",
    "                props = tool['inputSchema']['properties']\n",
    "                if props:\n",
    "                    print(f\"   📥 Parameters: {', '.join(props.keys())}\")\n",
    "            print()\n",
    "    \n",
    "    def quick_call(self, tool_name: str, **kwargs):\n",
    "        \"\"\"Quick tool call with keyword arguments\"\"\"\n",
    "        return self.call_tool(tool_name, kwargs)\n",
    "\n",
    "# Initialize MCP manager (singleton)\n",
    "print(\"🔧 Initializing MCP Manager...\")\n",
    "mcp_manager = MCPManager()\n",
    "\n",
    "# Test if we can import the MCP client\n",
    "try:\n",
    "    client_test = mcp_manager._get_mcp_client()\n",
    "    if client_test:\n",
    "        print(\"✅ MCP Client import successful\")\n",
    "        \n",
    "        # Auto-start server\n",
    "        print(\"🚀 Starting MCP server...\")\n",
    "        if mcp_manager.start_server():\n",
    "            print(\"🎉 MCP Manager ready for use!\")\n",
    "            \n",
    "            # Quick connection test\n",
    "            if mcp_manager.test_connection():\n",
    "                print(\"\\n📋 Use mcp_manager.show_tools() to see all available tools\")\n",
    "        else:\n",
    "            print(\"⚠️  MCP server failed to start. Use mcp_manager.start_server() to retry\")\n",
    "    else:\n",
    "        print(\"⚠️  MCP Client not available. Make sure mcpserver.py is accessible\")\n",
    "        \n",
    "except Exception as e:\n",
    "    print(f\"⚠️  MCP initialization error: {e}\")\n",
    "    print(\"   The manager is available but server needs manual start\")\n"
   ]
  },
  {
   "cell_type": "code",
   "execution_count": 9,
   "metadata": {},
   "outputs": [
    {
     "name": "stdout",
     "output_type": "stream",
     "text": [
      "<built-in function getcwd>\n",
      "📦 MCP Client imported successfully\n",
      "⚠️  Server not running, starting...\n",
      "⏳ Waiting for MCP server to start...\n",
      "[MCP STDERR] Starting Slack MCP Server...\n",
      "[MCP STDERR] Connecting server to transport...\n",
      "[MCP STDERR] Slack MCP Server running on stdio\n",
      "✅ MCP Server started successfully\n",
      "\n",
      "🤝 Sending initialize...\n",
      "[MCP REQUEST] {\n",
      "  \"jsonrpc\": \"2.0\",\n",
      "  \"method\": \"initialize\",\n",
      "  \"params\": {\n",
      "    \"protocolVersion\": \"2024-11-05\",\n",
      "    \"capabilities\": {},\n",
      "    \"clientInfo\": {\n",
      "      \"name\": \"mcp-python-client\",\n",
      "      \"version\": \"1.0\"\n",
      "    }\n",
      "  },\n",
      "  \"id\": 1\n",
      "}\n",
      "[MCP STDOUT] {\"result\":{\"protocolVersion\":\"2024-11-05\",\"capabilities\":{\"tools\":{}},\"serverInfo\":{\"name\":\"Slack MCP Server\",\"version\":\"1.0.0\"}},\"jsonrpc\":\"2.0\",\"id\":1}\n",
      "[MCP RESPONSE] {\n",
      "  \"result\": {\n",
      "    \"protocolVersion\": \"2024-11-05\",\n",
      "    \"capabilities\": {\n",
      "      \"tools\": {}\n",
      "    },\n",
      "    \"serverInfo\": {\n",
      "      \"name\": \"Slack MCP Server\",\n",
      "      \"version\": \"1.0.0\"\n",
      "    }\n",
      "  },\n",
      "  \"jsonrpc\": \"2.0\",\n",
      "  \"id\": 1\n",
      "}\n",
      "✅ Initialize successful\n",
      "📤 Sending initialized notification...\n",
      "[MCP NOTIFICATION] {\n",
      "  \"jsonrpc\": \"2.0\",\n",
      "  \"method\": \"notifications/initialized\"\n",
      "}\n",
      "✅ MCP server started and initialized successfully\n",
      "[MCP REQUEST] {\n",
      "  \"jsonrpc\": \"2.0\",\n",
      "  \"method\": \"tools/call\",\n",
      "  \"params\": {\n",
      "    \"name\": \"slack_post_message\",\n",
      "    \"arguments\": {\n",
      "      \"channel_id\": \"C0934AS6UB1\",\n",
      "      \"text\": \"testing no.3\"\n",
      "    }\n",
      "  },\n",
      "  \"id\": 2\n",
      "}\n",
      "[MCP STDERR] Received CallToolRequest: {\n",
      "[MCP STDERR] method: \u001b[32m'tools/call'\u001b[39m,\n",
      "[MCP STDERR] params: {\n",
      "[MCP STDERR] name: \u001b[32m'slack_post_message'\u001b[39m,\n",
      "[MCP STDERR] arguments: { channel_id: \u001b[32m'C0934AS6UB1'\u001b[39m, text: \u001b[32m'testing no.3'\u001b[39m }\n",
      "[MCP STDERR] }\n",
      "[MCP STDERR] }\n",
      "[MCP STDOUT] {\"result\":{\"content\":[{\"type\":\"text\",\"text\":\"{\\\"ok\\\":true,\\\"channel\\\":\\\"C0934AS6UB1\\\",\\\"ts\\\":\\\"1752753902.610729\\\",\\\"message\\\":{\\\"user\\\":\\\"U0946J1TQHW\\\",\\\"type\\\":\\\"message\\\",\\\"ts\\\":\\\"1752753902.610729\\\",\\\"bot_id\\\":\\\"B0946J1T4M6\\\",\\\"app_id\\\":\\\"A093GGX8TE1\\\",\\\"text\\\":\\\"testing no.3\\\",\\\"team\\\":\\\"T093JHQS18A\\\",\\\"bot_profile\\\":{\\\"id\\\":\\\"B0946J1T4M6\\\",\\\"app_id\\\":\\\"A093GGX8TE1\\\",\\\"user_id\\\":\\\"U0946J1TQHW\\\",\\\"name\\\":\\\"meetingplus\\\",\\\"icons\\\":{\\\"image_36\\\":\\\"https://a.slack-edge.com/80588/img/plugins/app/bot_36.png\\\",\\\"image_48\\\":\\\"https://a.slack-edge.com/80588/img/plugins/app/bot_48.png\\\",\\\"image_72\\\":\\\"https://a.slack-edge.com/80588/img/plugins/app/service_72.png\\\"},\\\"deleted\\\":false,\\\"updated\\\":1751170336,\\\"team_id\\\":\\\"T093JHQS18A\\\"},\\\"blocks\\\":[{\\\"type\\\":\\\"rich_text\\\",\\\"block_id\\\":\\\"KUsy\\\",\\\"elements\\\":[{\\\"type\\\":\\\"rich_text_section\\\",\\\"elements\\\":[{\\\"type\\\":\\\"text\\\",\\\"text\\\":\\\"testing no.3\\\"}]}]}]},\\\"warning\\\":\\\"missing_charset\\\",\\\"response_metadata\\\":{\\\"warnings\\\":[\\\"missing_charset\\\"]}}\"}]},\"jsonrpc\":\"2.0\",\"id\":2}\n",
      "[MCP RESPONSE] {\n",
      "  \"result\": {\n",
      "    \"content\": [\n",
      "      {\n",
      "        \"type\": \"text\",\n",
      "        \"text\": \"{\\\"ok\\\":true,\\\"channel\\\":\\\"C0934AS6UB1\\\",\\\"ts\\\":\\\"1752753902.610729\\\",\\\"message\\\":{\\\"user\\\":\\\"U0946J1TQHW\\\",\\\"type\\\":\\\"message\\\",\\\"ts\\\":\\\"1752753902.610729\\\",\\\"bot_id\\\":\\\"B0946J1T4M6\\\",\\\"app_id\\\":\\\"A093GGX8TE1\\\",\\\"text\\\":\\\"testing no.3\\\",\\\"team\\\":\\\"T093JHQS18A\\\",\\\"bot_profile\\\":{\\\"id\\\":\\\"B0946J1T4M6\\\",\\\"app_id\\\":\\\"A093GGX8TE1\\\",\\\"user_id\\\":\\\"U0946J1TQHW\\\",\\\"name\\\":\\\"meetingplus\\\",\\\"icons\\\":{\\\"image_36\\\":\\\"https://a.slack-edge.com/80588/img/plugins/app/bot_36.png\\\",\\\"image_48\\\":\\\"https://a.slack-edge.com/80588/img/plugins/app/bot_48.png\\\",\\\"image_72\\\":\\\"https://a.slack-edge.com/80588/img/plugins/app/service_72.png\\\"},\\\"deleted\\\":false,\\\"updated\\\":1751170336,\\\"team_id\\\":\\\"T093JHQS18A\\\"},\\\"blocks\\\":[{\\\"type\\\":\\\"rich_text\\\",\\\"block_id\\\":\\\"KUsy\\\",\\\"elements\\\":[{\\\"type\\\":\\\"rich_text_section\\\",\\\"elements\\\":[{\\\"type\\\":\\\"text\\\",\\\"text\\\":\\\"testing no.3\\\"}]}]}]},\\\"warning\\\":\\\"missing_charset\\\",\\\"response_metadata\\\":{\\\"warnings\\\":[\\\"missing_charset\\\"]}}\"\n",
      "      }\n",
      "    ]\n",
      "  },\n",
      "  \"jsonrpc\": \"2.0\",\n",
      "  \"id\": 2\n",
      "}\n",
      "[TOOL CALL] slack_post_message -> {\n",
      "  \"result\": {\n",
      "    \"content\": [\n",
      "      {\n",
      "        \"type\": \"text\",\n",
      "        \"text\": \"{\\\"ok\\\":true,\\\"channel\\\":\\\"C0934AS6UB1\\\",\\\"ts\\\":\\\"1752753902.610729\\\",\\\"message\\\":{\\\"user\\\":\\\"U0946J1TQHW\\\",\\\"type\\\":\\\"message\\\",\\\"ts\\\":\\\"1752753902.610729\\\",\\\"bot_id\\\":\\\"B0946J1T4M6\\\",\\\"app_id\\\":\\\"A093GGX8TE1\\\",\\\"text\\\":\\\"testing no.3\\\",\\\"team\\\":\\\"T093JHQS18A\\\",\\\"bot_profile\\\":{\\\"id\\\":\\\"B0946J1T4M6\\\",\\\"app_id\\\":\\\"A093GGX8TE1\\\",\\\"user_id\\\":\\\"U0946J1TQHW\\\",\\\"name\\\":\\\"meetingplus\\\",\\\"icons\\\":{\\\"image_36\\\":\\\"https://a.slack-edge.com/80588/img/plugins/app/bot_36.png\\\",\\\"image_48\\\":\\\"https://a.slack-edge.com/80588/img/plugins/app/bot_48.png\\\",\\\"image_72\\\":\\\"https://a.slack-edge.com/80588/img/plugins/app/service_72.png\\\"},\\\"deleted\\\":false,\\\"updated\\\":1751170336,\\\"team_id\\\":\\\"T093JHQS18A\\\"},\\\"blocks\\\":[{\\\"type\\\":\\\"rich_text\\\",\\\"block_id\\\":\\\"KUsy\\\",\\\"elements\\\":[{\\\"type\\\":\\\"rich_text_section\\\",\\\"elements\\\":[{\\\"type\\\":\\\"text\\\",\\\"text\\\":\\\"testing no.3\\\"}]}]}]},\\\"warning\\\":\\\"missing_charset\\\",\\\"response_metadata\\\":{\\\"warnings\\\":[\\\"missing_charset\\\"]}}\"\n",
      "      }\n",
      "    ]\n",
      "  },\n",
      "  \"jsonrpc\": \"2.0\",\n",
      "  \"id\": 2\n",
      "}\n"
     ]
    },
    {
     "data": {
      "text/plain": [
       "{'result': {'content': [{'type': 'text',\n",
       "    'text': '{\"ok\":true,\"channel\":\"C0934AS6UB1\",\"ts\":\"1752753902.610729\",\"message\":{\"user\":\"U0946J1TQHW\",\"type\":\"message\",\"ts\":\"1752753902.610729\",\"bot_id\":\"B0946J1T4M6\",\"app_id\":\"A093GGX8TE1\",\"text\":\"testing no.3\",\"team\":\"T093JHQS18A\",\"bot_profile\":{\"id\":\"B0946J1T4M6\",\"app_id\":\"A093GGX8TE1\",\"user_id\":\"U0946J1TQHW\",\"name\":\"meetingplus\",\"icons\":{\"image_36\":\"https://a.slack-edge.com/80588/img/plugins/app/bot_36.png\",\"image_48\":\"https://a.slack-edge.com/80588/img/plugins/app/bot_48.png\",\"image_72\":\"https://a.slack-edge.com/80588/img/plugins/app/service_72.png\"},\"deleted\":false,\"updated\":1751170336,\"team_id\":\"T093JHQS18A\"},\"blocks\":[{\"type\":\"rich_text\",\"block_id\":\"KUsy\",\"elements\":[{\"type\":\"rich_text_section\",\"elements\":[{\"type\":\"text\",\"text\":\"testing no.3\"}]}]}]},\"warning\":\"missing_charset\",\"response_metadata\":{\"warnings\":[\"missing_charset\"]}}'}]},\n",
       " 'jsonrpc': '2.0',\n",
       " 'id': 2}"
      ]
     },
     "execution_count": 9,
     "metadata": {},
     "output_type": "execute_result"
    },
    {
     "name": "stdout",
     "output_type": "stream",
     "text": [
      "[MCP STDERR] Received CallToolRequest: {\n",
      "[MCP STDERR] method: \u001b[32m'tools/call'\u001b[39m,\n",
      "[MCP STDERR] params: { name: \u001b[32m'slack_list_channels'\u001b[39m, arguments: {} }\n",
      "[MCP STDERR] }\n",
      "[MCP STDOUT] {\"result\":{\"content\":[{\"type\":\"text\",\"text\":\"{\\\"ok\\\":true,\\\"channels\\\":[{\\\"id\\\":\\\"C093KK8DBGC\\\",\\\"name\\\":\\\"ai-team\\\",\\\"is_channel\\\":true,\\\"is_group\\\":false,\\\"is_im\\\":false,\\\"is_mpim\\\":false,\\\"is_private\\\":false,\\\"created\\\":1751170632,\\\"is_archived\\\":false,\\\"is_general\\\":false,\\\"unlinked\\\":0,\\\"name_normalized\\\":\\\"ai-team\\\",\\\"is_shared\\\":false,\\\"is_org_shared\\\":false,\\\"is_pending_ext_shared\\\":false,\\\"pending_shared\\\":[],\\\"context_team_id\\\":\\\"T093JHQS18A\\\",\\\"updated\\\":1751170632496,\\\"parent_conversation\\\":null,\\\"creator\\\":\\\"U093JHQT2JW\\\",\\\"is_ext_shared\\\":false,\\\"shared_team_ids\\\":[\\\"T093JHQS18A\\\"],\\\"pending_connected_team_ids\\\":[],\\\"is_member\\\":true,\\\"last_read\\\":\\\"1751276461.859299\\\",\\\"topic\\\":{\\\"value\\\":\\\"\\\",\\\"creator\\\":\\\"\\\",\\\"last_set\\\":0},\\\"purpose\\\":{\\\"value\\\":\\\"\\\",\\\"creator\\\":\\\"\\\",\\\"last_set\\\":0},\\\"previous_names\\\":[]},{\\\"id\\\":\\\"C093XNMPFLZ\\\",\\\"name\\\":\\\"designing-team\\\",\\\"is_channel\\\":true,\\\"is_group\\\":false,\\\"is_im\\\":false,\\\"is_mpim\\\":false,\\\"is_private\\\":false,\\\"created\\\":1751170654,\\\"is_archived\\\":false,\\\"is_general\\\":false,\\\"unlinked\\\":0,\\\"name_normalized\\\":\\\"designing-team\\\",\\\"is_shared\\\":false,\\\"is_org_shared\\\":false,\\\"is_pending_ext_shared\\\":false,\\\"pending_shared\\\":[],\\\"context_team_id\\\":\\\"T093JHQS18A\\\",\\\"updated\\\":1751170654995,\\\"parent_conversation\\\":null,\\\"creator\\\":\\\"U093JHQT2JW\\\",\\\"is_ext_shared\\\":false,\\\"shared_team_ids\\\":[\\\"T093JHQS18A\\\"],\\\"pending_connected_team_ids\\\":[],\\\"is_member\\\":true,\\\"last_read\\\":\\\"1751276289.363369\\\",\\\"topic\\\":{\\\"value\\\":\\\"\\\",\\\"creator\\\":\\\"\\\",\\\"last_set\\\":0},\\\"purpose\\\":{\\\"value\\\":\\\"\\\",\\\"creator\\\":\\\"\\\",\\\"last_set\\\":0},\\\"previous_names\\\":[]},{\\\"id\\\":\\\"C093JHR4DNE\\\",\\\"name\\\":\\\"all-abc\\\",\\\"is_channel\\\":true,\\\"is_group\\\":false,\\\"is_im\\\":false,\\\"is_mpim\\\":false,\\\"is_private\\\":false,\\\"created\\\":1751169199,\\\"is_archived\\\":false,\\\"is_general\\\":true,\\\"unlinked\\\":0,\\\"name_normalized\\\":\\\"all-abc\\\",\\\"is_shared\\\":false,\\\"is_org_shared\\\":false,\\\"is_pending_ext_shared\\\":false,\\\"pending_shared\\\":[],\\\"context_team_id\\\":\\\"T093JHQS18A\\\",\\\"updated\\\":1751169717797,\\\"parent_conversation\\\":null,\\\"creator\\\":\\\"U093JHQT2JW\\\",\\\"is_read_only\\\":false,\\\"is_thread_only\\\":false,\\\"is_non_threadable\\\":false,\\\"is_ext_shared\\\":false,\\\"shared_team_ids\\\":[\\\"T093JHQS18A\\\"],\\\"pending_connected_team_ids\\\":[],\\\"is_member\\\":true,\\\"last_read\\\":\\\"1751276355.711219\\\",\\\"topic\\\":{\\\"value\\\":\\\"\\\",\\\"creator\\\":\\\"\\\",\\\"last_set\\\":0},\\\"purpose\\\":{\\\"value\\\":\\\"Share announcements and updates about company news, upcoming events, or teammates who deserve some kudos. ⭐\\\",\\\"creator\\\":\\\"U093JHQT2JW\\\",\\\"last_set\\\":1751169199},\\\"properties\\\":{\\\"tabs\\\":[{\\\"id\\\":\\\"Ct093GG15ZBP\\\",\\\"type\\\":\\\"canvas\\\",\\\"data\\\":{\\\"file_id\\\":\\\"F093GG15ZAR\\\",\\\"shared_ts\\\":\\\"1751169203.499769\\\"},\\\"label\\\":\\\"\\\"}],\\\"tabz\\\":[{\\\"id\\\":\\\"Ct093GG15ZBP\\\",\\\"type\\\":\\\"canvas\\\",\\\"data\\\":{\\\"file_id\\\":\\\"F093GG15ZAR\\\",\\\"shared_ts\\\":\\\"1751169203.499769\\\"}}],\\\"use_case\\\":\\\"welcome\\\"},\\\"previous_names\\\":[\\\"all-new-workspace\\\"]},{\\\"id\\\":\\\"C0934AS6UB1\\\",\\\"name\\\":\\\"ljm\\\",\\\"is_channel\\\":true,\\\"is_group\\\":false,\\\"is_im\\\":false,\\\"is_mpim\\\":false,\\\"is_private\\\":false,\\\"created\\\":1751170141,\\\"is_archived\\\":false,\\\"is_general\\\":false,\\\"unlinked\\\":0,\\\"name_normalized\\\":\\\"ljm\\\",\\\"is_shared\\\":false,\\\"is_org_shared\\\":false,\\\"is_pending_ext_shared\\\":false,\\\"pending_shared\\\":[],\\\"context_team_id\\\":\\\"T093JHQS18A\\\",\\\"updated\\\":1751170141578,\\\"parent_conversation\\\":null,\\\"creator\\\":\\\"U093JHQT2JW\\\",\\\"is_ext_shared\\\":false,\\\"shared_team_ids\\\":[\\\"T093JHQS18A\\\"],\\\"pending_connected_team_ids\\\":[],\\\"is_member\\\":true,\\\"last_read\\\":\\\"1751276441.093129\\\",\\\"topic\\\":{\\\"value\\\":\\\"\\\",\\\"creator\\\":\\\"\\\",\\\"last_set\\\":0},\\\"purpose\\\":{\\\"value\\\":\\\"\\\",\\\"creator\\\":\\\"\\\",\\\"last_set\\\":0},\\\"previous_names\\\":[]}],\\\"response_metadata\\\":{\\\"next_cursor\\\":\\\"\\\"}}\"}]},\"jsonrpc\":\"2.0\",\"id\":3}\n"
     ]
    }
   ],
   "source": [
    "mcp_manager.call_tool(tool_name= \"slack_post_message\", arguments= {\n",
    "    \"channel_id\": 'C0934AS6UB1', \n",
    "    \"text\": \"testing no.3\"\n",
    "})"
   ]
  },
  {
   "cell_type": "code",
   "execution_count": 10,
   "metadata": {},
   "outputs": [
    {
     "name": "stdout",
     "output_type": "stream",
     "text": [
      "[MCP REQUEST] {\n",
      "  \"jsonrpc\": \"2.0\",\n",
      "  \"method\": \"tools/call\",\n",
      "  \"params\": {\n",
      "    \"name\": \"slack_list_channels\",\n",
      "    \"arguments\": {}\n",
      "  },\n",
      "  \"id\": 3\n",
      "}\n",
      "[MCP RESPONSE] {\n",
      "  \"result\": {\n",
      "    \"content\": [\n",
      "      {\n",
      "        \"type\": \"text\",\n",
      "        \"text\": \"{\\\"ok\\\":true,\\\"channels\\\":[{\\\"id\\\":\\\"C093KK8DBGC\\\",\\\"name\\\":\\\"ai-team\\\",\\\"is_channel\\\":true,\\\"is_group\\\":false,\\\"is_im\\\":false,\\\"is_mpim\\\":false,\\\"is_private\\\":false,\\\"created\\\":1751170632,\\\"is_archived\\\":false,\\\"is_general\\\":false,\\\"unlinked\\\":0,\\\"name_normalized\\\":\\\"ai-team\\\",\\\"is_shared\\\":false,\\\"is_org_shared\\\":false,\\\"is_pending_ext_shared\\\":false,\\\"pending_shared\\\":[],\\\"context_team_id\\\":\\\"T093JHQS18A\\\",\\\"updated\\\":1751170632496,\\\"parent_conversation\\\":null,\\\"creator\\\":\\\"U093JHQT2JW\\\",\\\"is_ext_shared\\\":false,\\\"shared_team_ids\\\":[\\\"T093JHQS18A\\\"],\\\"pending_connected_team_ids\\\":[],\\\"is_member\\\":true,\\\"last_read\\\":\\\"1751276461.859299\\\",\\\"topic\\\":{\\\"value\\\":\\\"\\\",\\\"creator\\\":\\\"\\\",\\\"last_set\\\":0},\\\"purpose\\\":{\\\"value\\\":\\\"\\\",\\\"creator\\\":\\\"\\\",\\\"last_set\\\":0},\\\"previous_names\\\":[]},{\\\"id\\\":\\\"C093XNMPFLZ\\\",\\\"name\\\":\\\"designing-team\\\",\\\"is_channel\\\":true,\\\"is_group\\\":false,\\\"is_im\\\":false,\\\"is_mpim\\\":false,\\\"is_private\\\":false,\\\"created\\\":1751170654,\\\"is_archived\\\":false,\\\"is_general\\\":false,\\\"unlinked\\\":0,\\\"name_normalized\\\":\\\"designing-team\\\",\\\"is_shared\\\":false,\\\"is_org_shared\\\":false,\\\"is_pending_ext_shared\\\":false,\\\"pending_shared\\\":[],\\\"context_team_id\\\":\\\"T093JHQS18A\\\",\\\"updated\\\":1751170654995,\\\"parent_conversation\\\":null,\\\"creator\\\":\\\"U093JHQT2JW\\\",\\\"is_ext_shared\\\":false,\\\"shared_team_ids\\\":[\\\"T093JHQS18A\\\"],\\\"pending_connected_team_ids\\\":[],\\\"is_member\\\":true,\\\"last_read\\\":\\\"1751276289.363369\\\",\\\"topic\\\":{\\\"value\\\":\\\"\\\",\\\"creator\\\":\\\"\\\",\\\"last_set\\\":0},\\\"purpose\\\":{\\\"value\\\":\\\"\\\",\\\"creator\\\":\\\"\\\",\\\"last_set\\\":0},\\\"previous_names\\\":[]},{\\\"id\\\":\\\"C093JHR4DNE\\\",\\\"name\\\":\\\"all-abc\\\",\\\"is_channel\\\":true,\\\"is_group\\\":false,\\\"is_im\\\":false,\\\"is_mpim\\\":false,\\\"is_private\\\":false,\\\"created\\\":1751169199,\\\"is_archived\\\":false,\\\"is_general\\\":true,\\\"unlinked\\\":0,\\\"name_normalized\\\":\\\"all-abc\\\",\\\"is_shared\\\":false,\\\"is_org_shared\\\":false,\\\"is_pending_ext_shared\\\":false,\\\"pending_shared\\\":[],\\\"context_team_id\\\":\\\"T093JHQS18A\\\",\\\"updated\\\":1751169717797,\\\"parent_conversation\\\":null,\\\"creator\\\":\\\"U093JHQT2JW\\\",\\\"is_read_only\\\":false,\\\"is_thread_only\\\":false,\\\"is_non_threadable\\\":false,\\\"is_ext_shared\\\":false,\\\"shared_team_ids\\\":[\\\"T093JHQS18A\\\"],\\\"pending_connected_team_ids\\\":[],\\\"is_member\\\":true,\\\"last_read\\\":\\\"1751276355.711219\\\",\\\"topic\\\":{\\\"value\\\":\\\"\\\",\\\"creator\\\":\\\"\\\",\\\"last_set\\\":0},\\\"purpose\\\":{\\\"value\\\":\\\"Share announcements and updates about company news, upcoming events, or teammates who deserve some kudos. \\u2b50\\\",\\\"creator\\\":\\\"U093JHQT2JW\\\",\\\"last_set\\\":1751169199},\\\"properties\\\":{\\\"tabs\\\":[{\\\"id\\\":\\\"Ct093GG15ZBP\\\",\\\"type\\\":\\\"canvas\\\",\\\"data\\\":{\\\"file_id\\\":\\\"F093GG15ZAR\\\",\\\"shared_ts\\\":\\\"1751169203.499769\\\"},\\\"label\\\":\\\"\\\"}],\\\"tabz\\\":[{\\\"id\\\":\\\"Ct093GG15ZBP\\\",\\\"type\\\":\\\"canvas\\\",\\\"data\\\":{\\\"file_id\\\":\\\"F093GG15ZAR\\\",\\\"shared_ts\\\":\\\"1751169203.499769\\\"}}],\\\"use_case\\\":\\\"welcome\\\"},\\\"previous_names\\\":[\\\"all-new-workspace\\\"]},{\\\"id\\\":\\\"C0934AS6UB1\\\",\\\"name\\\":\\\"ljm\\\",\\\"is_channel\\\":true,\\\"is_group\\\":false,\\\"is_im\\\":false,\\\"is_mpim\\\":false,\\\"is_private\\\":false,\\\"created\\\":1751170141,\\\"is_archived\\\":false,\\\"is_general\\\":false,\\\"unlinked\\\":0,\\\"name_normalized\\\":\\\"ljm\\\",\\\"is_shared\\\":false,\\\"is_org_shared\\\":false,\\\"is_pending_ext_shared\\\":false,\\\"pending_shared\\\":[],\\\"context_team_id\\\":\\\"T093JHQS18A\\\",\\\"updated\\\":1751170141578,\\\"parent_conversation\\\":null,\\\"creator\\\":\\\"U093JHQT2JW\\\",\\\"is_ext_shared\\\":false,\\\"shared_team_ids\\\":[\\\"T093JHQS18A\\\"],\\\"pending_connected_team_ids\\\":[],\\\"is_member\\\":true,\\\"last_read\\\":\\\"1751276441.093129\\\",\\\"topic\\\":{\\\"value\\\":\\\"\\\",\\\"creator\\\":\\\"\\\",\\\"last_set\\\":0},\\\"purpose\\\":{\\\"value\\\":\\\"\\\",\\\"creator\\\":\\\"\\\",\\\"last_set\\\":0},\\\"previous_names\\\":[]}],\\\"response_metadata\\\":{\\\"next_cursor\\\":\\\"\\\"}}\"\n",
      "      }\n",
      "    ]\n",
      "  },\n",
      "  \"jsonrpc\": \"2.0\",\n",
      "  \"id\": 3\n",
      "}\n",
      "[TOOL CALL] slack_list_channels -> {\n",
      "  \"result\": {\n",
      "    \"content\": [\n",
      "      {\n",
      "        \"type\": \"text\",\n",
      "        \"text\": \"{\\\"ok\\\":true,\\\"channels\\\":[{\\\"id\\\":\\\"C093KK8DBGC\\\",\\\"name\\\":\\\"ai-team\\\",\\\"is_channel\\\":true,\\\"is_group\\\":false,\\\"is_im\\\":false,\\\"is_mpim\\\":false,\\\"is_private\\\":false,\\\"created\\\":1751170632,\\\"is_archived\\\":false,\\\"is_general\\\":false,\\\"unlinked\\\":0,\\\"name_normalized\\\":\\\"ai-team\\\",\\\"is_shared\\\":false,\\\"is_org_shared\\\":false,\\\"is_pending_ext_shared\\\":false,\\\"pending_shared\\\":[],\\\"context_team_id\\\":\\\"T093JHQS18A\\\",\\\"updated\\\":1751170632496,\\\"parent_conversation\\\":null,\\\"creator\\\":\\\"U093JHQT2JW\\\",\\\"is_ext_shared\\\":false,\\\"shared_team_ids\\\":[\\\"T093JHQS18A\\\"],\\\"pending_connected_team_ids\\\":[],\\\"is_member\\\":true,\\\"last_read\\\":\\\"1751276461.859299\\\",\\\"topic\\\":{\\\"value\\\":\\\"\\\",\\\"creator\\\":\\\"\\\",\\\"last_set\\\":0},\\\"purpose\\\":{\\\"value\\\":\\\"\\\",\\\"creator\\\":\\\"\\\",\\\"last_set\\\":0},\\\"previous_names\\\":[]},{\\\"id\\\":\\\"C093XNMPFLZ\\\",\\\"name\\\":\\\"designing-team\\\",\\\"is_channel\\\":true,\\\"is_group\\\":false,\\\"is_im\\\":false,\\\"is_mpim\\\":false,\\\"is_private\\\":false,\\\"created\\\":1751170654,\\\"is_archived\\\":false,\\\"is_general\\\":false,\\\"unlinked\\\":0,\\\"name_normalized\\\":\\\"designing-team\\\",\\\"is_shared\\\":false,\\\"is_org_shared\\\":false,\\\"is_pending_ext_shared\\\":false,\\\"pending_shared\\\":[],\\\"context_team_id\\\":\\\"T093JHQS18A\\\",\\\"updated\\\":1751170654995,\\\"parent_conversation\\\":null,\\\"creator\\\":\\\"U093JHQT2JW\\\",\\\"is_ext_shared\\\":false,\\\"shared_team_ids\\\":[\\\"T093JHQS18A\\\"],\\\"pending_connected_team_ids\\\":[],\\\"is_member\\\":true,\\\"last_read\\\":\\\"1751276289.363369\\\",\\\"topic\\\":{\\\"value\\\":\\\"\\\",\\\"creator\\\":\\\"\\\",\\\"last_set\\\":0},\\\"purpose\\\":{\\\"value\\\":\\\"\\\",\\\"creator\\\":\\\"\\\",\\\"last_set\\\":0},\\\"previous_names\\\":[]},{\\\"id\\\":\\\"C093JHR4DNE\\\",\\\"name\\\":\\\"all-abc\\\",\\\"is_channel\\\":true,\\\"is_group\\\":false,\\\"is_im\\\":false,\\\"is_mpim\\\":false,\\\"is_private\\\":false,\\\"created\\\":1751169199,\\\"is_archived\\\":false,\\\"is_general\\\":true,\\\"unlinked\\\":0,\\\"name_normalized\\\":\\\"all-abc\\\",\\\"is_shared\\\":false,\\\"is_org_shared\\\":false,\\\"is_pending_ext_shared\\\":false,\\\"pending_shared\\\":[],\\\"context_team_id\\\":\\\"T093JHQS18A\\\",\\\"updated\\\":1751169717797,\\\"parent_conversation\\\":null,\\\"creator\\\":\\\"U093JHQT2JW\\\",\\\"is_read_only\\\":false,\\\"is_thread_only\\\":false,\\\"is_non_threadable\\\":false,\\\"is_ext_shared\\\":false,\\\"shared_team_ids\\\":[\\\"T093JHQS18A\\\"],\\\"pending_connected_team_ids\\\":[],\\\"is_member\\\":true,\\\"last_read\\\":\\\"1751276355.711219\\\",\\\"topic\\\":{\\\"value\\\":\\\"\\\",\\\"creator\\\":\\\"\\\",\\\"last_set\\\":0},\\\"purpose\\\":{\\\"value\\\":\\\"Share announcements and updates about company news, upcoming events, or teammates who deserve some kudos. \\u2b50\\\",\\\"creator\\\":\\\"U093JHQT2JW\\\",\\\"last_set\\\":1751169199},\\\"properties\\\":{\\\"tabs\\\":[{\\\"id\\\":\\\"Ct093GG15ZBP\\\",\\\"type\\\":\\\"canvas\\\",\\\"data\\\":{\\\"file_id\\\":\\\"F093GG15ZAR\\\",\\\"shared_ts\\\":\\\"1751169203.499769\\\"},\\\"label\\\":\\\"\\\"}],\\\"tabz\\\":[{\\\"id\\\":\\\"Ct093GG15ZBP\\\",\\\"type\\\":\\\"canvas\\\",\\\"data\\\":{\\\"file_id\\\":\\\"F093GG15ZAR\\\",\\\"shared_ts\\\":\\\"1751169203.499769\\\"}}],\\\"use_case\\\":\\\"welcome\\\"},\\\"previous_names\\\":[\\\"all-new-workspace\\\"]},{\\\"id\\\":\\\"C0934AS6UB1\\\",\\\"name\\\":\\\"ljm\\\",\\\"is_channel\\\":true,\\\"is_group\\\":false,\\\"is_im\\\":false,\\\"is_mpim\\\":false,\\\"is_private\\\":false,\\\"created\\\":1751170141,\\\"is_archived\\\":false,\\\"is_general\\\":false,\\\"unlinked\\\":0,\\\"name_normalized\\\":\\\"ljm\\\",\\\"is_shared\\\":false,\\\"is_org_shared\\\":false,\\\"is_pending_ext_shared\\\":false,\\\"pending_shared\\\":[],\\\"context_team_id\\\":\\\"T093JHQS18A\\\",\\\"updated\\\":1751170141578,\\\"parent_conversation\\\":null,\\\"creator\\\":\\\"U093JHQT2JW\\\",\\\"is_ext_shared\\\":false,\\\"shared_team_ids\\\":[\\\"T093JHQS18A\\\"],\\\"pending_connected_team_ids\\\":[],\\\"is_member\\\":true,\\\"last_read\\\":\\\"1751276441.093129\\\",\\\"topic\\\":{\\\"value\\\":\\\"\\\",\\\"creator\\\":\\\"\\\",\\\"last_set\\\":0},\\\"purpose\\\":{\\\"value\\\":\\\"\\\",\\\"creator\\\":\\\"\\\",\\\"last_set\\\":0},\\\"previous_names\\\":[]}],\\\"response_metadata\\\":{\\\"next_cursor\\\":\\\"\\\"}}\"\n",
      "      }\n",
      "    ]\n",
      "  },\n",
      "  \"jsonrpc\": \"2.0\",\n",
      "  \"id\": 3\n",
      "}\n"
     ]
    },
    {
     "data": {
      "text/plain": [
       "{'result': {'content': [{'type': 'text',\n",
       "    'text': '{\"ok\":true,\"channels\":[{\"id\":\"C093KK8DBGC\",\"name\":\"ai-team\",\"is_channel\":true,\"is_group\":false,\"is_im\":false,\"is_mpim\":false,\"is_private\":false,\"created\":1751170632,\"is_archived\":false,\"is_general\":false,\"unlinked\":0,\"name_normalized\":\"ai-team\",\"is_shared\":false,\"is_org_shared\":false,\"is_pending_ext_shared\":false,\"pending_shared\":[],\"context_team_id\":\"T093JHQS18A\",\"updated\":1751170632496,\"parent_conversation\":null,\"creator\":\"U093JHQT2JW\",\"is_ext_shared\":false,\"shared_team_ids\":[\"T093JHQS18A\"],\"pending_connected_team_ids\":[],\"is_member\":true,\"last_read\":\"1751276461.859299\",\"topic\":{\"value\":\"\",\"creator\":\"\",\"last_set\":0},\"purpose\":{\"value\":\"\",\"creator\":\"\",\"last_set\":0},\"previous_names\":[]},{\"id\":\"C093XNMPFLZ\",\"name\":\"designing-team\",\"is_channel\":true,\"is_group\":false,\"is_im\":false,\"is_mpim\":false,\"is_private\":false,\"created\":1751170654,\"is_archived\":false,\"is_general\":false,\"unlinked\":0,\"name_normalized\":\"designing-team\",\"is_shared\":false,\"is_org_shared\":false,\"is_pending_ext_shared\":false,\"pending_shared\":[],\"context_team_id\":\"T093JHQS18A\",\"updated\":1751170654995,\"parent_conversation\":null,\"creator\":\"U093JHQT2JW\",\"is_ext_shared\":false,\"shared_team_ids\":[\"T093JHQS18A\"],\"pending_connected_team_ids\":[],\"is_member\":true,\"last_read\":\"1751276289.363369\",\"topic\":{\"value\":\"\",\"creator\":\"\",\"last_set\":0},\"purpose\":{\"value\":\"\",\"creator\":\"\",\"last_set\":0},\"previous_names\":[]},{\"id\":\"C093JHR4DNE\",\"name\":\"all-abc\",\"is_channel\":true,\"is_group\":false,\"is_im\":false,\"is_mpim\":false,\"is_private\":false,\"created\":1751169199,\"is_archived\":false,\"is_general\":true,\"unlinked\":0,\"name_normalized\":\"all-abc\",\"is_shared\":false,\"is_org_shared\":false,\"is_pending_ext_shared\":false,\"pending_shared\":[],\"context_team_id\":\"T093JHQS18A\",\"updated\":1751169717797,\"parent_conversation\":null,\"creator\":\"U093JHQT2JW\",\"is_read_only\":false,\"is_thread_only\":false,\"is_non_threadable\":false,\"is_ext_shared\":false,\"shared_team_ids\":[\"T093JHQS18A\"],\"pending_connected_team_ids\":[],\"is_member\":true,\"last_read\":\"1751276355.711219\",\"topic\":{\"value\":\"\",\"creator\":\"\",\"last_set\":0},\"purpose\":{\"value\":\"Share announcements and updates about company news, upcoming events, or teammates who deserve some kudos. ⭐\",\"creator\":\"U093JHQT2JW\",\"last_set\":1751169199},\"properties\":{\"tabs\":[{\"id\":\"Ct093GG15ZBP\",\"type\":\"canvas\",\"data\":{\"file_id\":\"F093GG15ZAR\",\"shared_ts\":\"1751169203.499769\"},\"label\":\"\"}],\"tabz\":[{\"id\":\"Ct093GG15ZBP\",\"type\":\"canvas\",\"data\":{\"file_id\":\"F093GG15ZAR\",\"shared_ts\":\"1751169203.499769\"}}],\"use_case\":\"welcome\"},\"previous_names\":[\"all-new-workspace\"]},{\"id\":\"C0934AS6UB1\",\"name\":\"ljm\",\"is_channel\":true,\"is_group\":false,\"is_im\":false,\"is_mpim\":false,\"is_private\":false,\"created\":1751170141,\"is_archived\":false,\"is_general\":false,\"unlinked\":0,\"name_normalized\":\"ljm\",\"is_shared\":false,\"is_org_shared\":false,\"is_pending_ext_shared\":false,\"pending_shared\":[],\"context_team_id\":\"T093JHQS18A\",\"updated\":1751170141578,\"parent_conversation\":null,\"creator\":\"U093JHQT2JW\",\"is_ext_shared\":false,\"shared_team_ids\":[\"T093JHQS18A\"],\"pending_connected_team_ids\":[],\"is_member\":true,\"last_read\":\"1751276441.093129\",\"topic\":{\"value\":\"\",\"creator\":\"\",\"last_set\":0},\"purpose\":{\"value\":\"\",\"creator\":\"\",\"last_set\":0},\"previous_names\":[]}],\"response_metadata\":{\"next_cursor\":\"\"}}'}]},\n",
       " 'jsonrpc': '2.0',\n",
       " 'id': 3}"
      ]
     },
     "execution_count": 10,
     "metadata": {},
     "output_type": "execute_result"
    }
   ],
   "source": [
    "mcp_manager.call_tool(tool_name= \"slack_list_channels\", arguments= {})"
   ]
  },
  {
   "cell_type": "code",
   "execution_count": 14,
   "metadata": {},
   "outputs": [
    {
     "name": "stdout",
     "output_type": "stream",
     "text": [
      "[MCP REQUEST] {\n",
      "  \"jsonrpc\": \"2.0\",\n",
      "  \"method\": \"tools/call\",\n",
      "  \"params\": {\n",
      "    \"name\": \"slack_get_users\",\n",
      "    \"arguments\": {\n",
      "      \"limit\": 2\n",
      "    }\n",
      "  },\n",
      "  \"id\": 4\n",
      "}\n",
      "[MCP RESPONSE] {\n",
      "  \"result\": {\n",
      "    \"content\": [\n",
      "      {\n",
      "        \"type\": \"text\",\n",
      "        \"text\": \"{\\\"ok\\\":true,\\\"offset\\\":\\\"U0946HH4GNL\\\",\\\"members\\\":[{\\\"id\\\":\\\"USLACKBOT\\\",\\\"name\\\":\\\"slackbot\\\",\\\"is_bot\\\":false,\\\"updated\\\":0,\\\"is_app_user\\\":false,\\\"team_id\\\":\\\"T093JHQS18A\\\",\\\"deleted\\\":false,\\\"color\\\":\\\"757575\\\",\\\"is_email_confirmed\\\":false,\\\"real_name\\\":\\\"Slackbot\\\",\\\"tz\\\":\\\"America/Los_Angeles\\\",\\\"tz_label\\\":\\\"Pacific Daylight Time\\\",\\\"tz_offset\\\":-25200,\\\"is_admin\\\":false,\\\"is_owner\\\":false,\\\"is_primary_owner\\\":false,\\\"is_restricted\\\":false,\\\"is_ultra_restricted\\\":false,\\\"who_can_share_contact_card\\\":\\\"EVERYONE\\\",\\\"profile\\\":{\\\"real_name\\\":\\\"Slackbot\\\",\\\"display_name\\\":\\\"Slackbot\\\",\\\"avatar_hash\\\":\\\"sv41d8cd98f0\\\",\\\"real_name_normalized\\\":\\\"Slackbot\\\",\\\"display_name_normalized\\\":\\\"Slackbot\\\",\\\"image_24\\\":\\\"https://a.slack-edge.com/80588/img/slackbot_24.png\\\",\\\"image_32\\\":\\\"https://a.slack-edge.com/80588/img/slackbot_32.png\\\",\\\"image_48\\\":\\\"https://a.slack-edge.com/80588/img/slackbot_48.png\\\",\\\"image_72\\\":\\\"https://a.slack-edge.com/80588/img/slackbot_72.png\\\",\\\"image_192\\\":\\\"https://a.slack-edge.com/80588/marketing/img/avatars/slackbot/avatar-slackbot.png\\\",\\\"image_512\\\":\\\"https://a.slack-edge.com/80588/img/slackbot_512.png\\\",\\\"first_name\\\":\\\"slackbot\\\",\\\"last_name\\\":\\\"\\\",\\\"team\\\":\\\"T093JHQS18A\\\",\\\"title\\\":\\\"\\\",\\\"phone\\\":\\\"\\\",\\\"skype\\\":\\\"\\\",\\\"fields\\\":{},\\\"status_text\\\":\\\"\\\",\\\"status_text_canonical\\\":\\\"\\\",\\\"status_emoji\\\":\\\"\\\",\\\"status_emoji_display_info\\\":[],\\\"status_expiration\\\":0,\\\"always_active\\\":true}},{\\\"id\\\":\\\"U093JHQT2JW\\\",\\\"name\\\":\\\"cme04408\\\",\\\"is_bot\\\":false,\\\"updated\\\":1751169830,\\\"is_app_user\\\":false,\\\"team_id\\\":\\\"T093JHQS18A\\\",\\\"deleted\\\":false,\\\"color\\\":\\\"9b3b45\\\",\\\"is_email_confirmed\\\":true,\\\"real_name\\\":\\\"Pavan Manikanta\\\",\\\"tz\\\":\\\"Asia/Kolkata\\\",\\\"tz_label\\\":\\\"India Standard Time\\\",\\\"tz_offset\\\":19800,\\\"is_admin\\\":true,\\\"is_owner\\\":true,\\\"is_primary_owner\\\":true,\\\"is_restricted\\\":false,\\\"is_ultra_restricted\\\":false,\\\"who_can_share_contact_card\\\":\\\"EVERYONE\\\",\\\"profile\\\":{\\\"real_name\\\":\\\"Pavan Manikanta\\\",\\\"display_name\\\":\\\"\\\",\\\"avatar_hash\\\":\\\"6d3936e1f916\\\",\\\"real_name_normalized\\\":\\\"Pavan Manikanta\\\",\\\"display_name_normalized\\\":\\\"\\\",\\\"image_24\\\":\\\"https://avatars.slack-edge.com/2025-06-28/9142579702096_6d3936e1f916a570271f_24.jpg\\\",\\\"image_32\\\":\\\"https://avatars.slack-edge.com/2025-06-28/9142579702096_6d3936e1f916a570271f_32.jpg\\\",\\\"image_48\\\":\\\"https://avatars.slack-edge.com/2025-06-28/9142579702096_6d3936e1f916a570271f_48.jpg\\\",\\\"image_72\\\":\\\"https://avatars.slack-edge.com/2025-06-28/9142579702096_6d3936e1f916a570271f_72.jpg\\\",\\\"image_192\\\":\\\"https://avatars.slack-edge.com/2025-06-28/9142579702096_6d3936e1f916a570271f_192.jpg\\\",\\\"image_512\\\":\\\"https://avatars.slack-edge.com/2025-06-28/9142579702096_6d3936e1f916a570271f_512.jpg\\\",\\\"image_1024\\\":\\\"https://avatars.slack-edge.com/2025-06-28/9142579702096_6d3936e1f916a570271f_1024.jpg\\\",\\\"image_original\\\":\\\"https://avatars.slack-edge.com/2025-06-28/9142579702096_6d3936e1f916a570271f_original.jpg\\\",\\\"is_custom_image\\\":true,\\\"first_name\\\":\\\"Pavan\\\",\\\"last_name\\\":\\\"Manikanta\\\",\\\"team\\\":\\\"T093JHQS18A\\\",\\\"title\\\":\\\"\\\",\\\"phone\\\":\\\"\\\",\\\"skype\\\":\\\"\\\",\\\"status_text\\\":\\\"\\\",\\\"status_text_canonical\\\":\\\"\\\",\\\"status_emoji\\\":\\\"\\\",\\\"status_emoji_display_info\\\":[],\\\"status_expiration\\\":0}}],\\\"cache_ts\\\":1751378473,\\\"response_metadata\\\":{\\\"next_cursor\\\":\\\"dXNlcjpVMDk0NkhINEdOTA==\\\"}}\"\n",
      "      }\n",
      "    ]\n",
      "  },\n",
      "  \"jsonrpc\": \"2.0\",\n",
      "  \"id\": 4\n",
      "}\n",
      "[TOOL CALL] slack_get_users -> {\n",
      "  \"result\": {\n",
      "    \"content\": [\n",
      "      {\n",
      "        \"type\": \"text\",\n",
      "        \"text\": \"{\\\"ok\\\":true,\\\"offset\\\":\\\"U0946HH4GNL\\\",\\\"members\\\":[{\\\"id\\\":\\\"USLACKBOT\\\",\\\"name\\\":\\\"slackbot\\\",\\\"is_bot\\\":false,\\\"updated\\\":0,\\\"is_app_user\\\":false,\\\"team_id\\\":\\\"T093JHQS18A\\\",\\\"deleted\\\":false,\\\"color\\\":\\\"757575\\\",\\\"is_email_confirmed\\\":false,\\\"real_name\\\":\\\"Slackbot\\\",\\\"tz\\\":\\\"America/Los_Angeles\\\",\\\"tz_label\\\":\\\"Pacific Daylight Time\\\",\\\"tz_offset\\\":-25200,\\\"is_admin\\\":false,\\\"is_owner\\\":false,\\\"is_primary_owner\\\":false,\\\"is_restricted\\\":false,\\\"is_ultra_restricted\\\":false,\\\"who_can_share_contact_card\\\":\\\"EVERYONE\\\",\\\"profile\\\":{\\\"real_name\\\":\\\"Slackbot\\\",\\\"display_name\\\":\\\"Slackbot\\\",\\\"avatar_hash\\\":\\\"sv41d8cd98f0\\\",\\\"real_name_normalized\\\":\\\"Slackbot\\\",\\\"display_name_normalized\\\":\\\"Slackbot\\\",\\\"image_24\\\":\\\"https://a.slack-edge.com/80588/img/slackbot_24.png\\\",\\\"image_32\\\":\\\"https://a.slack-edge.com/80588/img/slackbot_32.png\\\",\\\"image_48\\\":\\\"https://a.slack-edge.com/80588/img/slackbot_48.png\\\",\\\"image_72\\\":\\\"https://a.slack-edge.com/80588/img/slackbot_72.png\\\",\\\"image_192\\\":\\\"https://a.slack-edge.com/80588/marketing/img/avatars/slackbot/avatar-slackbot.png\\\",\\\"image_512\\\":\\\"https://a.slack-edge.com/80588/img/slackbot_512.png\\\",\\\"first_name\\\":\\\"slackbot\\\",\\\"last_name\\\":\\\"\\\",\\\"team\\\":\\\"T093JHQS18A\\\",\\\"title\\\":\\\"\\\",\\\"phone\\\":\\\"\\\",\\\"skype\\\":\\\"\\\",\\\"fields\\\":{},\\\"status_text\\\":\\\"\\\",\\\"status_text_canonical\\\":\\\"\\\",\\\"status_emoji\\\":\\\"\\\",\\\"status_emoji_display_info\\\":[],\\\"status_expiration\\\":0,\\\"always_active\\\":true}},{\\\"id\\\":\\\"U093JHQT2JW\\\",\\\"name\\\":\\\"cme04408\\\",\\\"is_bot\\\":false,\\\"updated\\\":1751169830,\\\"is_app_user\\\":false,\\\"team_id\\\":\\\"T093JHQS18A\\\",\\\"deleted\\\":false,\\\"color\\\":\\\"9b3b45\\\",\\\"is_email_confirmed\\\":true,\\\"real_name\\\":\\\"Pavan Manikanta\\\",\\\"tz\\\":\\\"Asia/Kolkata\\\",\\\"tz_label\\\":\\\"India Standard Time\\\",\\\"tz_offset\\\":19800,\\\"is_admin\\\":true,\\\"is_owner\\\":true,\\\"is_primary_owner\\\":true,\\\"is_restricted\\\":false,\\\"is_ultra_restricted\\\":false,\\\"who_can_share_contact_card\\\":\\\"EVERYONE\\\",\\\"profile\\\":{\\\"real_name\\\":\\\"Pavan Manikanta\\\",\\\"display_name\\\":\\\"\\\",\\\"avatar_hash\\\":\\\"6d3936e1f916\\\",\\\"real_name_normalized\\\":\\\"Pavan Manikanta\\\",\\\"display_name_normalized\\\":\\\"\\\",\\\"image_24\\\":\\\"https://avatars.slack-edge.com/2025-06-28/9142579702096_6d3936e1f916a570271f_24.jpg\\\",\\\"image_32\\\":\\\"https://avatars.slack-edge.com/2025-06-28/9142579702096_6d3936e1f916a570271f_32.jpg\\\",\\\"image_48\\\":\\\"https://avatars.slack-edge.com/2025-06-28/9142579702096_6d3936e1f916a570271f_48.jpg\\\",\\\"image_72\\\":\\\"https://avatars.slack-edge.com/2025-06-28/9142579702096_6d3936e1f916a570271f_72.jpg\\\",\\\"image_192\\\":\\\"https://avatars.slack-edge.com/2025-06-28/9142579702096_6d3936e1f916a570271f_192.jpg\\\",\\\"image_512\\\":\\\"https://avatars.slack-edge.com/2025-06-28/9142579702096_6d3936e1f916a570271f_512.jpg\\\",\\\"image_1024\\\":\\\"https://avatars.slack-edge.com/2025-06-28/9142579702096_6d3936e1f916a570271f_1024.jpg\\\",\\\"image_original\\\":\\\"https://avatars.slack-edge.com/2025-06-28/9142579702096_6d3936e1f916a570271f_original.jpg\\\",\\\"is_custom_image\\\":true,\\\"first_name\\\":\\\"Pavan\\\",\\\"last_name\\\":\\\"Manikanta\\\",\\\"team\\\":\\\"T093JHQS18A\\\",\\\"title\\\":\\\"\\\",\\\"phone\\\":\\\"\\\",\\\"skype\\\":\\\"\\\",\\\"status_text\\\":\\\"\\\",\\\"status_text_canonical\\\":\\\"\\\",\\\"status_emoji\\\":\\\"\\\",\\\"status_emoji_display_info\\\":[],\\\"status_expiration\\\":0}}],\\\"cache_ts\\\":1751378473,\\\"response_metadata\\\":{\\\"next_cursor\\\":\\\"dXNlcjpVMDk0NkhINEdOTA==\\\"}}\"\n",
      "      }\n",
      "    ]\n",
      "  },\n",
      "  \"jsonrpc\": \"2.0\",\n",
      "  \"id\": 4\n",
      "}\n"
     ]
    }
   ],
   "source": [
    "args = {\"limit\": 2}\n",
    " \n",
    "res = mcp_manager.mcp_request( tool_name =\"slack_get_users\", args= args)\n"
   ]
  },
  {
   "cell_type": "code",
   "execution_count": 15,
   "metadata": {},
   "outputs": [
    {
     "data": {
      "text/plain": [
       "'{\"ok\":true,\"offset\":\"U0946HH4GNL\",\"members\":[{\"id\":\"USLACKBOT\",\"name\":\"slackbot\",\"is_bot\":false,\"updated\":0,\"is_app_user\":false,\"team_id\":\"T093JHQS18A\",\"deleted\":false,\"color\":\"757575\",\"is_email_confirmed\":false,\"real_name\":\"Slackbot\",\"tz\":\"America/Los_Angeles\",\"tz_label\":\"Pacific Daylight Time\",\"tz_offset\":-25200,\"is_admin\":false,\"is_owner\":false,\"is_primary_owner\":false,\"is_restricted\":false,\"is_ultra_restricted\":false,\"who_can_share_contact_card\":\"EVERYONE\",\"profile\":{\"real_name\":\"Slackbot\",\"display_name\":\"Slackbot\",\"avatar_hash\":\"sv41d8cd98f0\",\"real_name_normalized\":\"Slackbot\",\"display_name_normalized\":\"Slackbot\",\"image_24\":\"https://a.slack-edge.com/80588/img/slackbot_24.png\",\"image_32\":\"https://a.slack-edge.com/80588/img/slackbot_32.png\",\"image_48\":\"https://a.slack-edge.com/80588/img/slackbot_48.png\",\"image_72\":\"https://a.slack-edge.com/80588/img/slackbot_72.png\",\"image_192\":\"https://a.slack-edge.com/80588/marketing/img/avatars/slackbot/avatar-slackbot.png\",\"image_512\":\"https://a.slack-edge.com/80588/img/slackbot_512.png\",\"first_name\":\"slackbot\",\"last_name\":\"\",\"team\":\"T093JHQS18A\",\"title\":\"\",\"phone\":\"\",\"skype\":\"\",\"fields\":{},\"status_text\":\"\",\"status_text_canonical\":\"\",\"status_emoji\":\"\",\"status_emoji_display_info\":[],\"status_expiration\":0,\"always_active\":true}},{\"id\":\"U093JHQT2JW\",\"name\":\"cme04408\",\"is_bot\":false,\"updated\":1751169830,\"is_app_user\":false,\"team_id\":\"T093JHQS18A\",\"deleted\":false,\"color\":\"9b3b45\",\"is_email_confirmed\":true,\"real_name\":\"Pavan Manikanta\",\"tz\":\"Asia/Kolkata\",\"tz_label\":\"India Standard Time\",\"tz_offset\":19800,\"is_admin\":true,\"is_owner\":true,\"is_primary_owner\":true,\"is_restricted\":false,\"is_ultra_restricted\":false,\"who_can_share_contact_card\":\"EVERYONE\",\"profile\":{\"real_name\":\"Pavan Manikanta\",\"display_name\":\"\",\"avatar_hash\":\"6d3936e1f916\",\"real_name_normalized\":\"Pavan Manikanta\",\"display_name_normalized\":\"\",\"image_24\":\"https://avatars.slack-edge.com/2025-06-28/9142579702096_6d3936e1f916a570271f_24.jpg\",\"image_32\":\"https://avatars.slack-edge.com/2025-06-28/9142579702096_6d3936e1f916a570271f_32.jpg\",\"image_48\":\"https://avatars.slack-edge.com/2025-06-28/9142579702096_6d3936e1f916a570271f_48.jpg\",\"image_72\":\"https://avatars.slack-edge.com/2025-06-28/9142579702096_6d3936e1f916a570271f_72.jpg\",\"image_192\":\"https://avatars.slack-edge.com/2025-06-28/9142579702096_6d3936e1f916a570271f_192.jpg\",\"image_512\":\"https://avatars.slack-edge.com/2025-06-28/9142579702096_6d3936e1f916a570271f_512.jpg\",\"image_1024\":\"https://avatars.slack-edge.com/2025-06-28/9142579702096_6d3936e1f916a570271f_1024.jpg\",\"image_original\":\"https://avatars.slack-edge.com/2025-06-28/9142579702096_6d3936e1f916a570271f_original.jpg\",\"is_custom_image\":true,\"first_name\":\"Pavan\",\"last_name\":\"Manikanta\",\"team\":\"T093JHQS18A\",\"title\":\"\",\"phone\":\"\",\"skype\":\"\",\"status_text\":\"\",\"status_text_canonical\":\"\",\"status_emoji\":\"\",\"status_emoji_display_info\":[],\"status_expiration\":0}}],\"cache_ts\":1751378473,\"response_metadata\":{\"next_cursor\":\"dXNlcjpVMDk0NkhINEdOTA==\"}}'"
      ]
     },
     "execution_count": 15,
     "metadata": {},
     "output_type": "execute_result"
    }
   ],
   "source": [
    "\n",
    "res1 = res.get(\"result\",[])\n",
    "# res2 = res1.get('text')\n",
    "\n",
    "res2 = res1.get('content')[0].get('text')\n",
    "\n",
    "res2"
   ]
  },
  {
   "cell_type": "code",
   "execution_count": 16,
   "metadata": {},
   "outputs": [
    {
     "data": {
      "text/plain": [
       "{'id': 'U093JHQT2JW',\n",
       " 'name': 'cme04408',\n",
       " 'is_bot': False,\n",
       " 'updated': 1751169830,\n",
       " 'is_app_user': False,\n",
       " 'team_id': 'T093JHQS18A',\n",
       " 'deleted': False,\n",
       " 'color': '9b3b45',\n",
       " 'is_email_confirmed': True,\n",
       " 'real_name': 'Pavan Manikanta',\n",
       " 'tz': 'Asia/Kolkata',\n",
       " 'tz_label': 'India Standard Time',\n",
       " 'tz_offset': 19800,\n",
       " 'is_admin': True,\n",
       " 'is_owner': True,\n",
       " 'is_primary_owner': True,\n",
       " 'is_restricted': False,\n",
       " 'is_ultra_restricted': False,\n",
       " 'who_can_share_contact_card': 'EVERYONE',\n",
       " 'profile': {'real_name': 'Pavan Manikanta',\n",
       "  'display_name': '',\n",
       "  'avatar_hash': '6d3936e1f916',\n",
       "  'real_name_normalized': 'Pavan Manikanta',\n",
       "  'display_name_normalized': '',\n",
       "  'image_24': 'https://avatars.slack-edge.com/2025-06-28/9142579702096_6d3936e1f916a570271f_24.jpg',\n",
       "  'image_32': 'https://avatars.slack-edge.com/2025-06-28/9142579702096_6d3936e1f916a570271f_32.jpg',\n",
       "  'image_48': 'https://avatars.slack-edge.com/2025-06-28/9142579702096_6d3936e1f916a570271f_48.jpg',\n",
       "  'image_72': 'https://avatars.slack-edge.com/2025-06-28/9142579702096_6d3936e1f916a570271f_72.jpg',\n",
       "  'image_192': 'https://avatars.slack-edge.com/2025-06-28/9142579702096_6d3936e1f916a570271f_192.jpg',\n",
       "  'image_512': 'https://avatars.slack-edge.com/2025-06-28/9142579702096_6d3936e1f916a570271f_512.jpg',\n",
       "  'image_1024': 'https://avatars.slack-edge.com/2025-06-28/9142579702096_6d3936e1f916a570271f_1024.jpg',\n",
       "  'image_original': 'https://avatars.slack-edge.com/2025-06-28/9142579702096_6d3936e1f916a570271f_original.jpg',\n",
       "  'is_custom_image': True,\n",
       "  'first_name': 'Pavan',\n",
       "  'last_name': 'Manikanta',\n",
       "  'team': 'T093JHQS18A',\n",
       "  'title': '',\n",
       "  'phone': '',\n",
       "  'skype': '',\n",
       "  'status_text': '',\n",
       "  'status_text_canonical': '',\n",
       "  'status_emoji': '',\n",
       "  'status_emoji_display_info': [],\n",
       "  'status_expiration': 0}}"
      ]
     },
     "execution_count": 16,
     "metadata": {},
     "output_type": "execute_result"
    }
   ],
   "source": [
    "res3 = json.loads(res2)\n",
    "\n",
    "res3.get('members')[1]"
   ]
  },
  {
   "cell_type": "code",
   "execution_count": 11,
   "metadata": {},
   "outputs": [
    {
     "ename": "NameError",
     "evalue": "name 'res3' is not defined",
     "output_type": "error",
     "traceback": [
      "\u001b[31m---------------------------------------------------------------------------\u001b[39m",
      "\u001b[31mNameError\u001b[39m                                 Traceback (most recent call last)",
      "\u001b[36mCell\u001b[39m\u001b[36m \u001b[39m\u001b[32mIn[11]\u001b[39m\u001b[32m, line 1\u001b[39m\n\u001b[32m----> \u001b[39m\u001b[32m1\u001b[39m \u001b[38;5;28;01mfor\u001b[39;00m user \u001b[38;5;129;01min\u001b[39;00m \u001b[38;5;28mrange\u001b[39m(\u001b[38;5;28mlen\u001b[39m(\u001b[43mres3\u001b[49m.get(\u001b[33m'\u001b[39m\u001b[33mmembers\u001b[39m\u001b[33m'\u001b[39m))):\n\u001b[32m      3\u001b[39m     man = res3.get(\u001b[33m'\u001b[39m\u001b[33mmembers\u001b[39m\u001b[33m'\u001b[39m)[user]\n\u001b[32m      5\u001b[39m     \u001b[38;5;28mprint\u001b[39m(man.get(\u001b[33m'\u001b[39m\u001b[33mreal_name\u001b[39m\u001b[33m'\u001b[39m))\n",
      "\u001b[31mNameError\u001b[39m: name 'res3' is not defined"
     ]
    }
   ],
   "source": [
    "for user in range(len(res3.get('members'))):\n",
    "    \n",
    "    man = res3.get('members')[user]\n",
    "\n",
    "    print(man.get('real_name'))\n"
   ]
  },
  {
   "cell_type": "code",
   "execution_count": null,
   "metadata": {},
   "outputs": [
    {
     "name": "stdout",
     "output_type": "stream",
     "text": [
      "[MCP REQUEST] {\n",
      "  \"jsonrpc\": \"2.0\",\n",
      "  \"method\": \"tools/call\",\n",
      "  \"params\": {\n",
      "    \"name\": \"slack_get_users\",\n",
      "    \"arguments\": {\n",
      "      \"limit\": 200\n",
      "    }\n",
      "  },\n",
      "  \"id\": 35\n",
      "}\n",
      "[MCP RESPONSE] {\n",
      "  \"result\": {\n",
      "    \"content\": [\n",
      "      {\n",
      "        \"type\": \"text\",\n",
      "        \"text\": \"{\\\"ok\\\":true,\\\"members\\\":[{\\\"id\\\":\\\"USLACKBOT\\\",\\\"name\\\":\\\"slackbot\\\",\\\"is_bot\\\":false,\\\"updated\\\":0,\\\"is_app_user\\\":false,\\\"team_id\\\":\\\"T093JHQS18A\\\",\\\"deleted\\\":false,\\\"color\\\":\\\"757575\\\",\\\"is_email_confirmed\\\":false,\\\"real_name\\\":\\\"Slackbot\\\",\\\"tz\\\":\\\"America/Los_Angeles\\\",\\\"tz_label\\\":\\\"Pacific Daylight Time\\\",\\\"tz_offset\\\":-25200,\\\"is_admin\\\":false,\\\"is_owner\\\":false,\\\"is_primary_owner\\\":false,\\\"is_restricted\\\":false,\\\"is_ultra_restricted\\\":false,\\\"who_can_share_contact_card\\\":\\\"EVERYONE\\\",\\\"profile\\\":{\\\"real_name\\\":\\\"Slackbot\\\",\\\"display_name\\\":\\\"Slackbot\\\",\\\"avatar_hash\\\":\\\"sv41d8cd98f0\\\",\\\"real_name_normalized\\\":\\\"Slackbot\\\",\\\"display_name_normalized\\\":\\\"Slackbot\\\",\\\"image_24\\\":\\\"https://a.slack-edge.com/80588/img/slackbot_24.png\\\",\\\"image_32\\\":\\\"https://a.slack-edge.com/80588/img/slackbot_32.png\\\",\\\"image_48\\\":\\\"https://a.slack-edge.com/80588/img/slackbot_48.png\\\",\\\"image_72\\\":\\\"https://a.slack-edge.com/80588/img/slackbot_72.png\\\",\\\"image_192\\\":\\\"https://a.slack-edge.com/80588/marketing/img/avatars/slackbot/avatar-slackbot.png\\\",\\\"image_512\\\":\\\"https://a.slack-edge.com/80588/img/slackbot_512.png\\\",\\\"first_name\\\":\\\"slackbot\\\",\\\"last_name\\\":\\\"\\\",\\\"team\\\":\\\"T093JHQS18A\\\",\\\"title\\\":\\\"\\\",\\\"phone\\\":\\\"\\\",\\\"skype\\\":\\\"\\\",\\\"fields\\\":{},\\\"status_text\\\":\\\"\\\",\\\"status_text_canonical\\\":\\\"\\\",\\\"status_emoji\\\":\\\"\\\",\\\"status_emoji_display_info\\\":[],\\\"status_expiration\\\":0,\\\"always_active\\\":true}},{\\\"id\\\":\\\"U093JHQT2JW\\\",\\\"name\\\":\\\"cme04408\\\",\\\"is_bot\\\":false,\\\"updated\\\":1751169830,\\\"is_app_user\\\":false,\\\"team_id\\\":\\\"T093JHQS18A\\\",\\\"deleted\\\":false,\\\"color\\\":\\\"9b3b45\\\",\\\"is_email_confirmed\\\":true,\\\"real_name\\\":\\\"Pavan Manikanta\\\",\\\"tz\\\":\\\"Asia/Kolkata\\\",\\\"tz_label\\\":\\\"India Standard Time\\\",\\\"tz_offset\\\":19800,\\\"is_admin\\\":true,\\\"is_owner\\\":true,\\\"is_primary_owner\\\":true,\\\"is_restricted\\\":false,\\\"is_ultra_restricted\\\":false,\\\"who_can_share_contact_card\\\":\\\"EVERYONE\\\",\\\"profile\\\":{\\\"real_name\\\":\\\"Pavan Manikanta\\\",\\\"display_name\\\":\\\"\\\",\\\"avatar_hash\\\":\\\"6d3936e1f916\\\",\\\"real_name_normalized\\\":\\\"Pavan Manikanta\\\",\\\"display_name_normalized\\\":\\\"\\\",\\\"image_24\\\":\\\"https://avatars.slack-edge.com/2025-06-28/9142579702096_6d3936e1f916a570271f_24.jpg\\\",\\\"image_32\\\":\\\"https://avatars.slack-edge.com/2025-06-28/9142579702096_6d3936e1f916a570271f_32.jpg\\\",\\\"image_48\\\":\\\"https://avatars.slack-edge.com/2025-06-28/9142579702096_6d3936e1f916a570271f_48.jpg\\\",\\\"image_72\\\":\\\"https://avatars.slack-edge.com/2025-06-28/9142579702096_6d3936e1f916a570271f_72.jpg\\\",\\\"image_192\\\":\\\"https://avatars.slack-edge.com/2025-06-28/9142579702096_6d3936e1f916a570271f_192.jpg\\\",\\\"image_512\\\":\\\"https://avatars.slack-edge.com/2025-06-28/9142579702096_6d3936e1f916a570271f_512.jpg\\\",\\\"image_1024\\\":\\\"https://avatars.slack-edge.com/2025-06-28/9142579702096_6d3936e1f916a570271f_1024.jpg\\\",\\\"image_original\\\":\\\"https://avatars.slack-edge.com/2025-06-28/9142579702096_6d3936e1f916a570271f_original.jpg\\\",\\\"is_custom_image\\\":true,\\\"first_name\\\":\\\"Pavan\\\",\\\"last_name\\\":\\\"Manikanta\\\",\\\"team\\\":\\\"T093JHQS18A\\\",\\\"title\\\":\\\"\\\",\\\"phone\\\":\\\"\\\",\\\"skype\\\":\\\"\\\",\\\"status_text\\\":\\\"\\\",\\\"status_text_canonical\\\":\\\"\\\",\\\"status_emoji\\\":\\\"\\\",\\\"status_emoji_display_info\\\":[],\\\"status_expiration\\\":0}},{\\\"id\\\":\\\"U0946HH4GNL\\\",\\\"name\\\":\\\"smart_meeting_agent\\\",\\\"is_bot\\\":true,\\\"updated\\\":1751169526,\\\"is_app_user\\\":false,\\\"team_id\\\":\\\"T093JHQS18A\\\",\\\"deleted\\\":false,\\\"color\\\":\\\"c386df\\\",\\\"is_email_confirmed\\\":false,\\\"real_name\\\":\\\"Smart meeting Agent\\\",\\\"tz\\\":\\\"America/Los_Angeles\\\",\\\"tz_label\\\":\\\"Pacific Daylight Time\\\",\\\"tz_offset\\\":-25200,\\\"is_admin\\\":false,\\\"is_owner\\\":false,\\\"is_primary_owner\\\":false,\\\"is_restricted\\\":false,\\\"is_ultra_restricted\\\":false,\\\"who_can_share_contact_card\\\":\\\"EVERYONE\\\",\\\"profile\\\":{\\\"real_name\\\":\\\"Smart meeting Agent\\\",\\\"display_name\\\":\\\"\\\",\\\"avatar_hash\\\":\\\"g47c43287ba7\\\",\\\"real_name_normalized\\\":\\\"Smart meeting Agent\\\",\\\"display_name_normalized\\\":\\\"\\\",\\\"image_24\\\":\\\"https://secure.gravatar.com/avatar/47c43287ba7df9f68bce7581302f5e6a.jpg?s=24&d=https%3A%2F%2Fa.slack-edge.com%2Fdf10d%2Fimg%2Favatars%2Fava_0002-24.png\\\",\\\"image_32\\\":\\\"https://secure.gravatar.com/avatar/47c43287ba7df9f68bce7581302f5e6a.jpg?s=32&d=https%3A%2F%2Fa.slack-edge.com%2Fdf10d%2Fimg%2Favatars%2Fava_0002-32.png\\\",\\\"image_48\\\":\\\"https://secure.gravatar.com/avatar/47c43287ba7df9f68bce7581302f5e6a.jpg?s=48&d=https%3A%2F%2Fa.slack-edge.com%2Fdf10d%2Fimg%2Favatars%2Fava_0002-48.png\\\",\\\"image_72\\\":\\\"https://secure.gravatar.com/avatar/47c43287ba7df9f68bce7581302f5e6a.jpg?s=72&d=https%3A%2F%2Fa.slack-edge.com%2Fdf10d%2Fimg%2Favatars%2Fava_0002-72.png\\\",\\\"image_192\\\":\\\"https://secure.gravatar.com/avatar/47c43287ba7df9f68bce7581302f5e6a.jpg?s=192&d=https%3A%2F%2Fa.slack-edge.com%2Fdf10d%2Fimg%2Favatars%2Fava_0002-192.png\\\",\\\"image_512\\\":\\\"https://secure.gravatar.com/avatar/47c43287ba7df9f68bce7581302f5e6a.jpg?s=512&d=https%3A%2F%2Fa.slack-edge.com%2Fdf10d%2Fimg%2Favatars%2Fava_0002-512.png\\\",\\\"first_name\\\":\\\"Smart\\\",\\\"last_name\\\":\\\"meeting Agent\\\",\\\"team\\\":\\\"T093JHQS18A\\\",\\\"title\\\":\\\"\\\",\\\"phone\\\":\\\"\\\",\\\"skype\\\":\\\"\\\",\\\"status_text\\\":\\\"\\\",\\\"status_text_canonical\\\":\\\"\\\",\\\"status_emoji\\\":\\\"\\\",\\\"status_emoji_display_info\\\":[],\\\"status_expiration\\\":0,\\\"bot_id\\\":\\\"B0946HH4C3S\\\",\\\"api_app_id\\\":\\\"A0946HBJQ56\\\",\\\"always_active\\\":false}},{\\\"id\\\":\\\"U0946J1TQHW\\\",\\\"name\\\":\\\"meetingplus\\\",\\\"is_bot\\\":true,\\\"updated\\\":1751170336,\\\"is_app_user\\\":false,\\\"team_id\\\":\\\"T093JHQS18A\\\",\\\"deleted\\\":false,\\\"color\\\":\\\"bc3663\\\",\\\"is_email_confirmed\\\":false,\\\"real_name\\\":\\\"meetingplus\\\",\\\"tz\\\":\\\"America/Los_Angeles\\\",\\\"tz_label\\\":\\\"Pacific Daylight Time\\\",\\\"tz_offset\\\":-25200,\\\"is_admin\\\":false,\\\"is_owner\\\":false,\\\"is_primary_owner\\\":false,\\\"is_restricted\\\":false,\\\"is_ultra_restricted\\\":false,\\\"who_can_share_contact_card\\\":\\\"EVERYONE\\\",\\\"profile\\\":{\\\"real_name\\\":\\\"meetingplus\\\",\\\"display_name\\\":\\\"\\\",\\\"avatar_hash\\\":\\\"gbabdec417d6\\\",\\\"real_name_normalized\\\":\\\"meetingplus\\\",\\\"display_name_normalized\\\":\\\"\\\",\\\"image_24\\\":\\\"https://secure.gravatar.com/avatar/babdec417d67f90c1bcee397cdbd9086.jpg?s=24&d=https%3A%2F%2Fa.slack-edge.com%2Fdf10d%2Fimg%2Favatars%2Fava_0011-24.png\\\",\\\"image_32\\\":\\\"https://secure.gravatar.com/avatar/babdec417d67f90c1bcee397cdbd9086.jpg?s=32&d=https%3A%2F%2Fa.slack-edge.com%2Fdf10d%2Fimg%2Favatars%2Fava_0011-32.png\\\",\\\"image_48\\\":\\\"https://secure.gravatar.com/avatar/babdec417d67f90c1bcee397cdbd9086.jpg?s=48&d=https%3A%2F%2Fa.slack-edge.com%2Fdf10d%2Fimg%2Favatars%2Fava_0011-48.png\\\",\\\"image_72\\\":\\\"https://secure.gravatar.com/avatar/babdec417d67f90c1bcee397cdbd9086.jpg?s=72&d=https%3A%2F%2Fa.slack-edge.com%2Fdf10d%2Fimg%2Favatars%2Fava_0011-72.png\\\",\\\"image_192\\\":\\\"https://secure.gravatar.com/avatar/babdec417d67f90c1bcee397cdbd9086.jpg?s=192&d=https%3A%2F%2Fa.slack-edge.com%2Fdf10d%2Fimg%2Favatars%2Fava_0011-192.png\\\",\\\"image_512\\\":\\\"https://secure.gravatar.com/avatar/babdec417d67f90c1bcee397cdbd9086.jpg?s=512&d=https%3A%2F%2Fa.slack-edge.com%2Fdf10d%2Fimg%2Favatars%2Fava_0011-512.png\\\",\\\"first_name\\\":\\\"meetingplus\\\",\\\"last_name\\\":\\\"\\\",\\\"team\\\":\\\"T093JHQS18A\\\",\\\"title\\\":\\\"\\\",\\\"phone\\\":\\\"\\\",\\\"skype\\\":\\\"\\\",\\\"status_text\\\":\\\"\\\",\\\"status_text_canonical\\\":\\\"\\\",\\\"status_emoji\\\":\\\"\\\",\\\"status_emoji_display_info\\\":[],\\\"status_expiration\\\":0,\\\"bot_id\\\":\\\"B0946J1T4M6\\\",\\\"api_app_id\\\":\\\"A093GGX8TE1\\\",\\\"always_active\\\":false}}],\\\"cache_ts\\\":1751293526,\\\"response_metadata\\\":{\\\"next_cursor\\\":\\\"\\\"}}\"\n",
      "      }\n",
      "    ]\n",
      "  },\n",
      "  \"jsonrpc\": \"2.0\",\n",
      "  \"id\": 35\n",
      "}\n",
      "[TOOL CALL] slack_get_users -> {\n",
      "  \"result\": {\n",
      "    \"content\": [\n",
      "      {\n",
      "        \"type\": \"text\",\n",
      "        \"text\": \"{\\\"ok\\\":true,\\\"members\\\":[{\\\"id\\\":\\\"USLACKBOT\\\",\\\"name\\\":\\\"slackbot\\\",\\\"is_bot\\\":false,\\\"updated\\\":0,\\\"is_app_user\\\":false,\\\"team_id\\\":\\\"T093JHQS18A\\\",\\\"deleted\\\":false,\\\"color\\\":\\\"757575\\\",\\\"is_email_confirmed\\\":false,\\\"real_name\\\":\\\"Slackbot\\\",\\\"tz\\\":\\\"America/Los_Angeles\\\",\\\"tz_label\\\":\\\"Pacific Daylight Time\\\",\\\"tz_offset\\\":-25200,\\\"is_admin\\\":false,\\\"is_owner\\\":false,\\\"is_primary_owner\\\":false,\\\"is_restricted\\\":false,\\\"is_ultra_restricted\\\":false,\\\"who_can_share_contact_card\\\":\\\"EVERYONE\\\",\\\"profile\\\":{\\\"real_name\\\":\\\"Slackbot\\\",\\\"display_name\\\":\\\"Slackbot\\\",\\\"avatar_hash\\\":\\\"sv41d8cd98f0\\\",\\\"real_name_normalized\\\":\\\"Slackbot\\\",\\\"display_name_normalized\\\":\\\"Slackbot\\\",\\\"image_24\\\":\\\"https://a.slack-edge.com/80588/img/slackbot_24.png\\\",\\\"image_32\\\":\\\"https://a.slack-edge.com/80588/img/slackbot_32.png\\\",\\\"image_48\\\":\\\"https://a.slack-edge.com/80588/img/slackbot_48.png\\\",\\\"image_72\\\":\\\"https://a.slack-edge.com/80588/img/slackbot_72.png\\\",\\\"image_192\\\":\\\"https://a.slack-edge.com/80588/marketing/img/avatars/slackbot/avatar-slackbot.png\\\",\\\"image_512\\\":\\\"https://a.slack-edge.com/80588/img/slackbot_512.png\\\",\\\"first_name\\\":\\\"slackbot\\\",\\\"last_name\\\":\\\"\\\",\\\"team\\\":\\\"T093JHQS18A\\\",\\\"title\\\":\\\"\\\",\\\"phone\\\":\\\"\\\",\\\"skype\\\":\\\"\\\",\\\"fields\\\":{},\\\"status_text\\\":\\\"\\\",\\\"status_text_canonical\\\":\\\"\\\",\\\"status_emoji\\\":\\\"\\\",\\\"status_emoji_display_info\\\":[],\\\"status_expiration\\\":0,\\\"always_active\\\":true}},{\\\"id\\\":\\\"U093JHQT2JW\\\",\\\"name\\\":\\\"cme04408\\\",\\\"is_bot\\\":false,\\\"updated\\\":1751169830,\\\"is_app_user\\\":false,\\\"team_id\\\":\\\"T093JHQS18A\\\",\\\"deleted\\\":false,\\\"color\\\":\\\"9b3b45\\\",\\\"is_email_confirmed\\\":true,\\\"real_name\\\":\\\"Pavan Manikanta\\\",\\\"tz\\\":\\\"Asia/Kolkata\\\",\\\"tz_label\\\":\\\"India Standard Time\\\",\\\"tz_offset\\\":19800,\\\"is_admin\\\":true,\\\"is_owner\\\":true,\\\"is_primary_owner\\\":true,\\\"is_restricted\\\":false,\\\"is_ultra_restricted\\\":false,\\\"who_can_share_contact_card\\\":\\\"EVERYONE\\\",\\\"profile\\\":{\\\"real_name\\\":\\\"Pavan Manikanta\\\",\\\"display_name\\\":\\\"\\\",\\\"avatar_hash\\\":\\\"6d3936e1f916\\\",\\\"real_name_normalized\\\":\\\"Pavan Manikanta\\\",\\\"display_name_normalized\\\":\\\"\\\",\\\"image_24\\\":\\\"https://avatars.slack-edge.com/2025-06-28/9142579702096_6d3936e1f916a570271f_24.jpg\\\",\\\"image_32\\\":\\\"https://avatars.slack-edge.com/2025-06-28/9142579702096_6d3936e1f916a570271f_32.jpg\\\",\\\"image_48\\\":\\\"https://avatars.slack-edge.com/2025-06-28/9142579702096_6d3936e1f916a570271f_48.jpg\\\",\\\"image_72\\\":\\\"https://avatars.slack-edge.com/2025-06-28/9142579702096_6d3936e1f916a570271f_72.jpg\\\",\\\"image_192\\\":\\\"https://avatars.slack-edge.com/2025-06-28/9142579702096_6d3936e1f916a570271f_192.jpg\\\",\\\"image_512\\\":\\\"https://avatars.slack-edge.com/2025-06-28/9142579702096_6d3936e1f916a570271f_512.jpg\\\",\\\"image_1024\\\":\\\"https://avatars.slack-edge.com/2025-06-28/9142579702096_6d3936e1f916a570271f_1024.jpg\\\",\\\"image_original\\\":\\\"https://avatars.slack-edge.com/2025-06-28/9142579702096_6d3936e1f916a570271f_original.jpg\\\",\\\"is_custom_image\\\":true,\\\"first_name\\\":\\\"Pavan\\\",\\\"last_name\\\":\\\"Manikanta\\\",\\\"team\\\":\\\"T093JHQS18A\\\",\\\"title\\\":\\\"\\\",\\\"phone\\\":\\\"\\\",\\\"skype\\\":\\\"\\\",\\\"status_text\\\":\\\"\\\",\\\"status_text_canonical\\\":\\\"\\\",\\\"status_emoji\\\":\\\"\\\",\\\"status_emoji_display_info\\\":[],\\\"status_expiration\\\":0}},{\\\"id\\\":\\\"U0946HH4GNL\\\",\\\"name\\\":\\\"smart_meeting_agent\\\",\\\"is_bot\\\":true,\\\"updated\\\":1751169526,\\\"is_app_user\\\":false,\\\"team_id\\\":\\\"T093JHQS18A\\\",\\\"deleted\\\":false,\\\"color\\\":\\\"c386df\\\",\\\"is_email_confirmed\\\":false,\\\"real_name\\\":\\\"Smart meeting Agent\\\",\\\"tz\\\":\\\"America/Los_Angeles\\\",\\\"tz_label\\\":\\\"Pacific Daylight Time\\\",\\\"tz_offset\\\":-25200,\\\"is_admin\\\":false,\\\"is_owner\\\":false,\\\"is_primary_owner\\\":false,\\\"is_restricted\\\":false,\\\"is_ultra_restricted\\\":false,\\\"who_can_share_contact_card\\\":\\\"EVERYONE\\\",\\\"profile\\\":{\\\"real_name\\\":\\\"Smart meeting Agent\\\",\\\"display_name\\\":\\\"\\\",\\\"avatar_hash\\\":\\\"g47c43287ba7\\\",\\\"real_name_normalized\\\":\\\"Smart meeting Agent\\\",\\\"display_name_normalized\\\":\\\"\\\",\\\"image_24\\\":\\\"https://secure.gravatar.com/avatar/47c43287ba7df9f68bce7581302f5e6a.jpg?s=24&d=https%3A%2F%2Fa.slack-edge.com%2Fdf10d%2Fimg%2Favatars%2Fava_0002-24.png\\\",\\\"image_32\\\":\\\"https://secure.gravatar.com/avatar/47c43287ba7df9f68bce7581302f5e6a.jpg?s=32&d=https%3A%2F%2Fa.slack-edge.com%2Fdf10d%2Fimg%2Favatars%2Fava_0002-32.png\\\",\\\"image_48\\\":\\\"https://secure.gravatar.com/avatar/47c43287ba7df9f68bce7581302f5e6a.jpg?s=48&d=https%3A%2F%2Fa.slack-edge.com%2Fdf10d%2Fimg%2Favatars%2Fava_0002-48.png\\\",\\\"image_72\\\":\\\"https://secure.gravatar.com/avatar/47c43287ba7df9f68bce7581302f5e6a.jpg?s=72&d=https%3A%2F%2Fa.slack-edge.com%2Fdf10d%2Fimg%2Favatars%2Fava_0002-72.png\\\",\\\"image_192\\\":\\\"https://secure.gravatar.com/avatar/47c43287ba7df9f68bce7581302f5e6a.jpg?s=192&d=https%3A%2F%2Fa.slack-edge.com%2Fdf10d%2Fimg%2Favatars%2Fava_0002-192.png\\\",\\\"image_512\\\":\\\"https://secure.gravatar.com/avatar/47c43287ba7df9f68bce7581302f5e6a.jpg?s=512&d=https%3A%2F%2Fa.slack-edge.com%2Fdf10d%2Fimg%2Favatars%2Fava_0002-512.png\\\",\\\"first_name\\\":\\\"Smart\\\",\\\"last_name\\\":\\\"meeting Agent\\\",\\\"team\\\":\\\"T093JHQS18A\\\",\\\"title\\\":\\\"\\\",\\\"phone\\\":\\\"\\\",\\\"skype\\\":\\\"\\\",\\\"status_text\\\":\\\"\\\",\\\"status_text_canonical\\\":\\\"\\\",\\\"status_emoji\\\":\\\"\\\",\\\"status_emoji_display_info\\\":[],\\\"status_expiration\\\":0,\\\"bot_id\\\":\\\"B0946HH4C3S\\\",\\\"api_app_id\\\":\\\"A0946HBJQ56\\\",\\\"always_active\\\":false}},{\\\"id\\\":\\\"U0946J1TQHW\\\",\\\"name\\\":\\\"meetingplus\\\",\\\"is_bot\\\":true,\\\"updated\\\":1751170336,\\\"is_app_user\\\":false,\\\"team_id\\\":\\\"T093JHQS18A\\\",\\\"deleted\\\":false,\\\"color\\\":\\\"bc3663\\\",\\\"is_email_confirmed\\\":false,\\\"real_name\\\":\\\"meetingplus\\\",\\\"tz\\\":\\\"America/Los_Angeles\\\",\\\"tz_label\\\":\\\"Pacific Daylight Time\\\",\\\"tz_offset\\\":-25200,\\\"is_admin\\\":false,\\\"is_owner\\\":false,\\\"is_primary_owner\\\":false,\\\"is_restricted\\\":false,\\\"is_ultra_restricted\\\":false,\\\"who_can_share_contact_card\\\":\\\"EVERYONE\\\",\\\"profile\\\":{\\\"real_name\\\":\\\"meetingplus\\\",\\\"display_name\\\":\\\"\\\",\\\"avatar_hash\\\":\\\"gbabdec417d6\\\",\\\"real_name_normalized\\\":\\\"meetingplus\\\",\\\"display_name_normalized\\\":\\\"\\\",\\\"image_24\\\":\\\"https://secure.gravatar.com/avatar/babdec417d67f90c1bcee397cdbd9086.jpg?s=24&d=https%3A%2F%2Fa.slack-edge.com%2Fdf10d%2Fimg%2Favatars%2Fava_0011-24.png\\\",\\\"image_32\\\":\\\"https://secure.gravatar.com/avatar/babdec417d67f90c1bcee397cdbd9086.jpg?s=32&d=https%3A%2F%2Fa.slack-edge.com%2Fdf10d%2Fimg%2Favatars%2Fava_0011-32.png\\\",\\\"image_48\\\":\\\"https://secure.gravatar.com/avatar/babdec417d67f90c1bcee397cdbd9086.jpg?s=48&d=https%3A%2F%2Fa.slack-edge.com%2Fdf10d%2Fimg%2Favatars%2Fava_0011-48.png\\\",\\\"image_72\\\":\\\"https://secure.gravatar.com/avatar/babdec417d67f90c1bcee397cdbd9086.jpg?s=72&d=https%3A%2F%2Fa.slack-edge.com%2Fdf10d%2Fimg%2Favatars%2Fava_0011-72.png\\\",\\\"image_192\\\":\\\"https://secure.gravatar.com/avatar/babdec417d67f90c1bcee397cdbd9086.jpg?s=192&d=https%3A%2F%2Fa.slack-edge.com%2Fdf10d%2Fimg%2Favatars%2Fava_0011-192.png\\\",\\\"image_512\\\":\\\"https://secure.gravatar.com/avatar/babdec417d67f90c1bcee397cdbd9086.jpg?s=512&d=https%3A%2F%2Fa.slack-edge.com%2Fdf10d%2Fimg%2Favatars%2Fava_0011-512.png\\\",\\\"first_name\\\":\\\"meetingplus\\\",\\\"last_name\\\":\\\"\\\",\\\"team\\\":\\\"T093JHQS18A\\\",\\\"title\\\":\\\"\\\",\\\"phone\\\":\\\"\\\",\\\"skype\\\":\\\"\\\",\\\"status_text\\\":\\\"\\\",\\\"status_text_canonical\\\":\\\"\\\",\\\"status_emoji\\\":\\\"\\\",\\\"status_emoji_display_info\\\":[],\\\"status_expiration\\\":0,\\\"bot_id\\\":\\\"B0946J1T4M6\\\",\\\"api_app_id\\\":\\\"A093GGX8TE1\\\",\\\"always_active\\\":false}}],\\\"cache_ts\\\":1751293526,\\\"response_metadata\\\":{\\\"next_cursor\\\":\\\"\\\"}}\"\n",
      "      }\n",
      "    ]\n",
      "  },\n",
      "  \"jsonrpc\": \"2.0\",\n",
      "  \"id\": 35\n",
      "}\n",
      "not found \n",
      "not found \n",
      "not found \n",
      "not found \n"
     ]
    }
   ],
   "source": [
    "\n",
    "name = \"Pavan Manislackbotkanta\"\n",
    "result  = mcp_manager.mcp_request( tool_name =\"slack_get_users\", args= {\"limit\": 200})\n",
    "    \n",
    "result1 = result.get(\"result\", [])\n",
    "\n",
    "res2 = result1.get('content')[0].get('text')\n",
    "\n",
    "raw = json.loads(res2)\n",
    "\n",
    "users = raw.get('members')\n",
    "\n",
    "for user in users:\n",
    "    \n",
    "    # print(user.get(\"profile\").get('real_name'))\n",
    "\n",
    "    # print(user)\n",
    "            \n",
    "    if name.lower() in [\n",
    "    user.get(\"name\", \"\").lower(),\n",
    "    user.get(\"real_name\", \"\").lower(),\n",
    "    user.get(\"profile\", \"\").get('real_name').lower()\n",
    "    ]:\n",
    "        print(\"done:\", user)\n",
    "\n",
    "    else:\n",
    "        print(\"not found \")\n"
   ]
  },
  {
   "cell_type": "code",
   "execution_count": 15,
   "metadata": {},
   "outputs": [
    {
     "data": {
      "text/plain": [
       "{'result': {'content': [{'type': 'text',\n",
       "    'text': '{\"ok\":true,\"offset\":\"U0946HH4GNL\",\"members\":[{\"id\":\"USLACKBOT\",\"name\":\"slackbot\",\"is_bot\":false,\"updated\":0,\"is_app_user\":false,\"team_id\":\"T093JHQS18A\",\"deleted\":false,\"color\":\"757575\",\"is_email_confirmed\":false,\"real_name\":\"Slackbot\",\"tz\":\"America/Los_Angeles\",\"tz_label\":\"Pacific Daylight Time\",\"tz_offset\":-25200,\"is_admin\":false,\"is_owner\":false,\"is_primary_owner\":false,\"is_restricted\":false,\"is_ultra_restricted\":false,\"who_can_share_contact_card\":\"EVERYONE\",\"profile\":{\"real_name\":\"Slackbot\",\"display_name\":\"Slackbot\",\"avatar_hash\":\"sv41d8cd98f0\",\"real_name_normalized\":\"Slackbot\",\"display_name_normalized\":\"Slackbot\",\"image_24\":\"https://a.slack-edge.com/80588/img/slackbot_24.png\",\"image_32\":\"https://a.slack-edge.com/80588/img/slackbot_32.png\",\"image_48\":\"https://a.slack-edge.com/80588/img/slackbot_48.png\",\"image_72\":\"https://a.slack-edge.com/80588/img/slackbot_72.png\",\"image_192\":\"https://a.slack-edge.com/80588/marketing/img/avatars/slackbot/avatar-slackbot.png\",\"image_512\":\"https://a.slack-edge.com/80588/img/slackbot_512.png\",\"first_name\":\"slackbot\",\"last_name\":\"\",\"team\":\"T093JHQS18A\",\"title\":\"\",\"phone\":\"\",\"skype\":\"\",\"fields\":{},\"status_text\":\"\",\"status_text_canonical\":\"\",\"status_emoji\":\"\",\"status_emoji_display_info\":[],\"status_expiration\":0,\"always_active\":true}},{\"id\":\"U093JHQT2JW\",\"name\":\"cme04408\",\"is_bot\":false,\"updated\":1751169830,\"is_app_user\":false,\"team_id\":\"T093JHQS18A\",\"deleted\":false,\"color\":\"9b3b45\",\"is_email_confirmed\":true,\"real_name\":\"Pavan Manikanta\",\"tz\":\"Asia/Kolkata\",\"tz_label\":\"India Standard Time\",\"tz_offset\":19800,\"is_admin\":true,\"is_owner\":true,\"is_primary_owner\":true,\"is_restricted\":false,\"is_ultra_restricted\":false,\"who_can_share_contact_card\":\"EVERYONE\",\"profile\":{\"real_name\":\"Pavan Manikanta\",\"display_name\":\"\",\"avatar_hash\":\"6d3936e1f916\",\"real_name_normalized\":\"Pavan Manikanta\",\"display_name_normalized\":\"\",\"image_24\":\"https://avatars.slack-edge.com/2025-06-28/9142579702096_6d3936e1f916a570271f_24.jpg\",\"image_32\":\"https://avatars.slack-edge.com/2025-06-28/9142579702096_6d3936e1f916a570271f_32.jpg\",\"image_48\":\"https://avatars.slack-edge.com/2025-06-28/9142579702096_6d3936e1f916a570271f_48.jpg\",\"image_72\":\"https://avatars.slack-edge.com/2025-06-28/9142579702096_6d3936e1f916a570271f_72.jpg\",\"image_192\":\"https://avatars.slack-edge.com/2025-06-28/9142579702096_6d3936e1f916a570271f_192.jpg\",\"image_512\":\"https://avatars.slack-edge.com/2025-06-28/9142579702096_6d3936e1f916a570271f_512.jpg\",\"image_1024\":\"https://avatars.slack-edge.com/2025-06-28/9142579702096_6d3936e1f916a570271f_1024.jpg\",\"image_original\":\"https://avatars.slack-edge.com/2025-06-28/9142579702096_6d3936e1f916a570271f_original.jpg\",\"is_custom_image\":true,\"first_name\":\"Pavan\",\"last_name\":\"Manikanta\",\"team\":\"T093JHQS18A\",\"title\":\"\",\"phone\":\"\",\"skype\":\"\",\"status_text\":\"\",\"status_text_canonical\":\"\",\"status_emoji\":\"\",\"status_emoji_display_info\":[],\"status_expiration\":0}}],\"cache_ts\":1751284376,\"response_metadata\":{\"next_cursor\":\"dXNlcjpVMDk0NkhINEdOTA==\"}}'}]},\n",
       " 'jsonrpc': '2.0',\n",
       " 'id': 7}"
      ]
     },
     "execution_count": 15,
     "metadata": {},
     "output_type": "execute_result"
    }
   ],
   "source": [
    "res"
   ]
  },
  {
   "cell_type": "code",
   "execution_count": null,
   "metadata": {},
   "outputs": [],
   "source": [
    "\n",
    "print(\"\\n📚 Available methods:\")\n",
    "print(\"  🔧 mcp_manager.show_tools()                    # Show all available tools\")\n",
    "print(\"  ⚡ mcp_manager.call_tool(name, args)           # Call a specific tool\")  \n",
    "print(\"  🚀 mcp_manager.quick_call(name, **kwargs)      # Call tool with keyword args\")\n",
    "print(\"  📊 mcp_manager.get_server_status()             # Check server status\")\n",
    "print(\"  🧪 mcp_manager.test_connection()               # Test connection\")\n",
    "print(\"  🔄 mcp_manager.restart_server()                # Restart server\")\n",
    "print(\"  🛑 mcp_manager.stop_server()                   # Stop server\")\n"
   ]
  },
  {
   "cell_type": "code",
   "execution_count": 15,
   "metadata": {},
   "outputs": [
    {
     "name": "stdout",
     "output_type": "stream",
     "text": [
      "Hello, Async World? (not yet)\n"
     ]
    }
   ],
   "source": [
    "import time\n",
    "\n",
    "def say_hello():\n",
    "    time.sleep(3)\n",
    "    print(\"Hello, Async World? (not yet)\")\n",
    "\n",
    "say_hello()"
   ]
  },
  {
   "cell_type": "code",
   "execution_count": 1,
   "metadata": {},
   "outputs": [
    {
     "name": "stdout",
     "output_type": "stream",
     "text": [
      "/home/pavan/Ds/pro/smart-meeting-copilot/smartcopilot-api/.venv/bin/python\n"
     ]
    }
   ],
   "source": [
    "!which python"
   ]
  },
  {
   "cell_type": "code",
   "execution_count": 3,
   "metadata": {},
   "outputs": [
    {
     "name": "stdout",
     "output_type": "stream",
     "text": [
      "\u001b[2mUsing Python 3.12.3 environment at: /home/pavan/Ds/pro/smart-meeting-copilot/smartcopilot-api/.venv\u001b[0m\n",
      "\u001b[2K\u001b[2mResolved \u001b[1m1 package\u001b[0m \u001b[2min 927ms\u001b[0m\u001b[0m                                          \u001b[0m\n",
      "\u001b[2K\u001b[37m⠸\u001b[0m \u001b[2mPreparing packages...\u001b[0m (0/1)                                                   \n",
      "\u001b[2K\u001b[1A\u001b[37m⠼\u001b[0m \u001b[2mPreparing packages...\u001b[0m (0/1)--------------\u001b[0m\u001b[0m     0 B/99.38 KiB           \u001b[1A\n",
      "\u001b[2K\u001b[1A\u001b[37m⠼\u001b[0m \u001b[2mPreparing packages...\u001b[0m (0/1)--------------\u001b[0m\u001b[0m     0 B/99.38 KiB           \u001b[1A\n",
      "\u001b[2K\u001b[1A\u001b[37m⠴\u001b[0m \u001b[2mPreparing packages...\u001b[0m (0/1)--------------\u001b[0m\u001b[0m 30.84 KiB/99.38 KiB         \u001b[1A\n",
      "\u001b[2K\u001b[1A\u001b[37m⠴\u001b[0m \u001b[2mPreparing packages...\u001b[0m (0/1)--------------\u001b[0m\u001b[0m 30.84 KiB/99.38 KiB         \u001b[1A\n",
      "\u001b[2K\u001b[1A\u001b[37m⠴\u001b[0m \u001b[2mPreparing packages...\u001b[0m (0/1)--------------\u001b[0m\u001b[0m 46.62 KiB/99.38 KiB         \u001b[1A\n",
      "\u001b[2K\u001b[1A\u001b[37m⠦\u001b[0m \u001b[2mPreparing packages...\u001b[0m (0/1)--------------\u001b[0m\u001b[0m 48.97 KiB/99.38 KiB         \u001b[1A\n",
      "\u001b[2K\u001b[1A\u001b[37m⠦\u001b[0m \u001b[2mPreparing packages...\u001b[0m (0/1)--------------\u001b[0m\u001b[0m 48.97 KiB/99.38 KiB         \u001b[1A\n",
      "\u001b[2K\u001b[1A\u001b[37m⠦\u001b[0m \u001b[2mPreparing packages...\u001b[0m (0/1)\u001b[2m----------\u001b[0m\u001b[0m 64.97 KiB/99.38 KiB         \u001b[1A\n",
      "\u001b[2K\u001b[1A\u001b[37m⠦\u001b[0m \u001b[2mPreparing packages...\u001b[0m (0/1)----\u001b[2m------\u001b[0m\u001b[0m 78.84 KiB/99.38 KiB         \u001b[1A\n",
      "\u001b[2K\u001b[1A\u001b[37m⠦\u001b[0m \u001b[2mPreparing packages...\u001b[0m (0/1)---------\u001b[2m-\u001b[0m\u001b[0m 94.84 KiB/99.38 KiB         \u001b[1A\n",
      "\u001b[2K\u001b[2mPrepared \u001b[1m1 package\u001b[0m \u001b[2min 1.03s\u001b[0m\u001b[0m                                                  \u001b[1A\n",
      "\u001b[2K\u001b[2mInstalled \u001b[1m1 package\u001b[0m \u001b[2min 13ms\u001b[0m\u001b[0m                                 \u001b[0m\n",
      " \u001b[32m+\u001b[39m \u001b[1masyncio\u001b[0m\u001b[2m==3.4.3\u001b[0m\n"
     ]
    }
   ],
   "source": [
    "!uv pip install asyncio"
   ]
  },
  {
   "cell_type": "code",
   "execution_count": 11,
   "metadata": {},
   "outputs": [
    {
     "ename": "RuntimeError",
     "evalue": "asyncio.run() cannot be called from a running event loop",
     "output_type": "error",
     "traceback": [
      "\u001b[31m---------------------------------------------------------------------------\u001b[39m",
      "\u001b[31mRuntimeError\u001b[39m                              Traceback (most recent call last)",
      "\u001b[36mCell\u001b[39m\u001b[36m \u001b[39m\u001b[32mIn[11]\u001b[39m\u001b[32m, line 8\u001b[39m\n\u001b[32m      4\u001b[39m     \u001b[38;5;28;01mawait\u001b[39;00m asyncio.sleep(\u001b[32m2\u001b[39m)\n\u001b[32m      5\u001b[39m     \u001b[38;5;28mprint\u001b[39m(\u001b[33m\"\u001b[39m\u001b[33mHello, Async World!\u001b[39m\u001b[33m\"\u001b[39m)\n\u001b[32m----> \u001b[39m\u001b[32m8\u001b[39m \u001b[43masyncio\u001b[49m\u001b[43m.\u001b[49m\u001b[43mrun\u001b[49m\u001b[43m(\u001b[49m\u001b[43msay_hello_async\u001b[49m\u001b[43m(\u001b[49m\u001b[43m)\u001b[49m\u001b[43m)\u001b[49m\n",
      "\u001b[36mFile \u001b[39m\u001b[32m/usr/lib/python3.12/asyncio/runners.py:190\u001b[39m, in \u001b[36mrun\u001b[39m\u001b[34m(main, debug, loop_factory)\u001b[39m\n\u001b[32m    161\u001b[39m \u001b[38;5;250m\u001b[39m\u001b[33;03m\"\"\"Execute the coroutine and return the result.\u001b[39;00m\n\u001b[32m    162\u001b[39m \n\u001b[32m    163\u001b[39m \u001b[33;03mThis function runs the passed coroutine, taking care of\u001b[39;00m\n\u001b[32m   (...)\u001b[39m\u001b[32m    186\u001b[39m \u001b[33;03m    asyncio.run(main())\u001b[39;00m\n\u001b[32m    187\u001b[39m \u001b[33;03m\"\"\"\u001b[39;00m\n\u001b[32m    188\u001b[39m \u001b[38;5;28;01mif\u001b[39;00m events._get_running_loop() \u001b[38;5;129;01mis\u001b[39;00m \u001b[38;5;129;01mnot\u001b[39;00m \u001b[38;5;28;01mNone\u001b[39;00m:\n\u001b[32m    189\u001b[39m     \u001b[38;5;66;03m# fail fast with short traceback\u001b[39;00m\n\u001b[32m--> \u001b[39m\u001b[32m190\u001b[39m     \u001b[38;5;28;01mraise\u001b[39;00m \u001b[38;5;167;01mRuntimeError\u001b[39;00m(\n\u001b[32m    191\u001b[39m         \u001b[33m\"\u001b[39m\u001b[33masyncio.run() cannot be called from a running event loop\u001b[39m\u001b[33m\"\u001b[39m)\n\u001b[32m    193\u001b[39m \u001b[38;5;28;01mwith\u001b[39;00m Runner(debug=debug, loop_factory=loop_factory) \u001b[38;5;28;01mas\u001b[39;00m runner:\n\u001b[32m    194\u001b[39m     \u001b[38;5;28;01mreturn\u001b[39;00m runner.run(main)\n",
      "\u001b[31mRuntimeError\u001b[39m: asyncio.run() cannot be called from a running event loop"
     ]
    }
   ],
   "source": [
    "import asyncio\n",
    "\n",
    "async def say_hello_async():\n",
    "    await asyncio.sleep(2)\n",
    "    print(\"Hello, Async World!\")\n",
    "\n",
    "\n",
    "asyncio.run(say_hello_async())"
   ]
  },
  {
   "cell_type": "code",
   "execution_count": 12,
   "metadata": {},
   "outputs": [
    {
     "ename": "RuntimeError",
     "evalue": "asyncio.run() cannot be called from a running event loop",
     "output_type": "error",
     "traceback": [
      "\u001b[31m---------------------------------------------------------------------------\u001b[39m",
      "\u001b[31mRuntimeError\u001b[39m                              Traceback (most recent call last)",
      "\u001b[36mCell\u001b[39m\u001b[36m \u001b[39m\u001b[32mIn[12]\u001b[39m\u001b[32m, line 19\u001b[39m\n\u001b[32m     12\u001b[39m \u001b[38;5;28;01masync\u001b[39;00m \u001b[38;5;28;01mdef\u001b[39;00m\u001b[38;5;250m \u001b[39m\u001b[34mmain\u001b[39m():\n\u001b[32m     13\u001b[39m     \u001b[38;5;66;03m# Schedule both tasks to run concurrently\u001b[39;00m\n\u001b[32m     14\u001b[39m     \u001b[38;5;28;01mawait\u001b[39;00m asyncio.gather(\n\u001b[32m     15\u001b[39m         say_hello_async(),\n\u001b[32m     16\u001b[39m         do_something_else(),\n\u001b[32m     17\u001b[39m     )\n\u001b[32m---> \u001b[39m\u001b[32m19\u001b[39m \u001b[43masyncio\u001b[49m\u001b[43m.\u001b[49m\u001b[43mrun\u001b[49m\u001b[43m(\u001b[49m\u001b[43mmain\u001b[49m\u001b[43m(\u001b[49m\u001b[43m)\u001b[49m\u001b[43m)\u001b[49m\n",
      "\u001b[36mFile \u001b[39m\u001b[32m/usr/lib/python3.12/asyncio/runners.py:190\u001b[39m, in \u001b[36mrun\u001b[39m\u001b[34m(main, debug, loop_factory)\u001b[39m\n\u001b[32m    161\u001b[39m \u001b[38;5;250m\u001b[39m\u001b[33;03m\"\"\"Execute the coroutine and return the result.\u001b[39;00m\n\u001b[32m    162\u001b[39m \n\u001b[32m    163\u001b[39m \u001b[33;03mThis function runs the passed coroutine, taking care of\u001b[39;00m\n\u001b[32m   (...)\u001b[39m\u001b[32m    186\u001b[39m \u001b[33;03m    asyncio.run(main())\u001b[39;00m\n\u001b[32m    187\u001b[39m \u001b[33;03m\"\"\"\u001b[39;00m\n\u001b[32m    188\u001b[39m \u001b[38;5;28;01mif\u001b[39;00m events._get_running_loop() \u001b[38;5;129;01mis\u001b[39;00m \u001b[38;5;129;01mnot\u001b[39;00m \u001b[38;5;28;01mNone\u001b[39;00m:\n\u001b[32m    189\u001b[39m     \u001b[38;5;66;03m# fail fast with short traceback\u001b[39;00m\n\u001b[32m--> \u001b[39m\u001b[32m190\u001b[39m     \u001b[38;5;28;01mraise\u001b[39;00m \u001b[38;5;167;01mRuntimeError\u001b[39;00m(\n\u001b[32m    191\u001b[39m         \u001b[33m\"\u001b[39m\u001b[33masyncio.run() cannot be called from a running event loop\u001b[39m\u001b[33m\"\u001b[39m)\n\u001b[32m    193\u001b[39m \u001b[38;5;28;01mwith\u001b[39;00m Runner(debug=debug, loop_factory=loop_factory) \u001b[38;5;28;01mas\u001b[39;00m runner:\n\u001b[32m    194\u001b[39m     \u001b[38;5;28;01mreturn\u001b[39;00m runner.run(main)\n",
      "\u001b[31mRuntimeError\u001b[39m: asyncio.run() cannot be called from a running event loop"
     ]
    }
   ],
   "source": [
    "import asyncio\n",
    "\n",
    "async def say_hello_async():\n",
    "    await asyncio.sleep(2)  # Simulates waiting for 2 seconds\n",
    "    print(\"Hello, Async World!\")\n",
    "\n",
    "async def do_something_else():\n",
    "    print(\"Starting another task...\")\n",
    "    await asyncio.sleep(1)  # Simulates doing something else for 1 second\n",
    "    print(\"Finished another task!\")\n",
    "\n",
    "async def main():\n",
    "    # Schedule both tasks to run concurrently\n",
    "    await asyncio.gather(\n",
    "        say_hello_async(),\n",
    "        do_something_else(),\n",
    "    )\n",
    "\n",
    "asyncio.run(main())"
   ]
  },
  {
   "cell_type": "code",
   "execution_count": null,
   "metadata": {},
   "outputs": [],
   "source": []
  },
  {
   "cell_type": "code",
   "execution_count": null,
   "metadata": {},
   "outputs": [],
   "source": []
  },
  {
   "cell_type": "code",
   "execution_count": 20,
   "metadata": {},
   "outputs": [],
   "source": [
    "#  Enhanced Tools with MCP Integration via Stdio\n",
    "@tool\n",
    "def slack_post_message(channel_id: str, text: str) -> dict:\n",
    "    \"\"\"Post message to Slack channel via MCP server\"\"\"\n",
    "    # Truncate to Slack's limits\n",
    "    if len(text) > 3900:\n",
    "        text = text[:3900] + \"\\n\\n[Message truncated]\"\n",
    "    \n",
    "    return mcp_manager.call_tool(\n",
    "       tool_name = \"slack_post_message\",\n",
    "        arguments = {\"channel_id\": channel_id, \"text\": text}\n",
    "    )\n",
    "\n",
    "@tool\n",
    "def slack_list_channels(limit: int = 100, cursor: str = None) -> dict:\n",
    "    \"\"\"List accessible Slack channels via MCP server\"\"\"\n",
    "    args = {\"limit\": limit}\n",
    "    if cursor:\n",
    "        args[\"cursor\"] = cursor\n",
    "    return mcp_manager.call_tool(tool_name = \"slack_list_channels\", arguments = args)\n",
    "\n",
    "@tool\n",
    "def slack_get_users(limit: int = 100, cursor: str = None) -> dict:\n",
    "    \"\"\"Get workspace users via MCP server\"\"\"\n",
    "    args = {\"limit\": limit}\n",
    "    if cursor:\n",
    "        args[\"cursor\"] = cursor\n",
    "    return mcp_manager.call_tool( tool_name =\"slack_get_users\", arguments= args)\n",
    "\n",
    "@tool\n",
    "def slack_find_user_by_name(name: str) -> Optional[str]:\n",
    "    \"\"\"Find user by display name using MCP tools\"\"\"\n",
    "    try:\n",
    "        result = slack_get_users(limit=200)\n",
    "        result1 = result.get(\"result\", [])\n",
    "\n",
    "        res2 = result1.get('content')[0].get('text')\n",
    "\n",
    "        raw = json.loads(res2)\n",
    "\n",
    "        users = raw.get('members')\n",
    "        \n",
    "        for user in users:\n",
    "\n",
    "            print(user)\n",
    "            \n",
    "            if name.lower() in [\n",
    "                    user.get(\"name\", \"\").lower(),\n",
    "                    user.get(\"real_name\", \"\").lower(),\n",
    "                    user.get(\"profile\", \"\").get('real_name').lower()\n",
    "             ]:\n",
    "                return { \"user_id\" : user[\"id\"], \"user_name\":user }\n",
    "        return None\n",
    "    except Exception:\n",
    "        return None"
   ]
  },
  {
   "cell_type": "code",
   "execution_count": null,
   "metadata": {},
   "outputs": [],
   "source": []
  },
  {
   "cell_type": "code",
   "execution_count": 18,
   "metadata": {},
   "outputs": [],
   "source": [
    "from langchain_core.prompts import ChatPromptTemplate, MessagesPlaceholder\n",
    "from langgraph.prebuilt import create_react_agent\n",
    "\n",
    "def slack_node( message : str ):\n",
    "\n",
    "    \n",
    "    print(\"*****************slack NODE CALLED************\")\n",
    "    \n",
    "    system_prompt = \"\"\" you are an intelliagent sclak agent. your job is to:\n",
    "    <Instruction>\n",
    "    1. use the different tools to get the relate information. then pass message over the slack channels  \n",
    "    </Instruction>\n",
    "    \"\"\"\n",
    "    \n",
    "    prompt = ChatPromptTemplate.from_messages([\n",
    "        (\"system\", system_prompt),\n",
    "        MessagesPlaceholder(variable_name=\"messages\"),\n",
    "    ])\n",
    "    \n",
    "    # Create the react agent with tools\n",
    "    slack_agent = create_react_agent(\n",
    "        model=llm,\n",
    "        tools=[slack_find_user_by_name, slack_get_users, slack_post_message, slack_list_channels ],\n",
    "        prompt=prompt\n",
    "    )\n",
    "    \n",
    "    try:\n",
    "        \n",
    "        result = slack_agent.invoke({\"messages\": message})\n",
    "        \n",
    "        print(f\"Slack agent result: {result}\")\n",
    "\n",
    "        return result\n",
    "    \n",
    "    except Exception as e:\n",
    "        print(f\" Error in slack_node: {e}\")\n"
   ]
  },
  {
   "cell_type": "code",
   "execution_count": 22,
   "metadata": {},
   "outputs": [
    {
     "name": "stdout",
     "output_type": "stream",
     "text": [
      "*****************slack NODE CALLED************\n",
      "[MCP REQUEST] {\n",
      "  \"jsonrpc\": \"2.0\",\n",
      "  \"method\": \"tools/call\",\n",
      "  \"params\": {\n",
      "    \"name\": \"slack_post_message\",\n",
      "    \"arguments\": {\n",
      "      \"channel_id\": \"ai_team_channel\",\n",
      "      \"text\": \"Good Morning to ALL from Slack agent\"\n",
      "    }\n",
      "  },\n",
      "  \"id\": 4\n",
      "}\n",
      "[MCP RESPONSE] {\n",
      "  \"result\": {\n",
      "    \"content\": [\n",
      "      {\n",
      "        \"type\": \"text\",\n",
      "        \"text\": \"{\\\"ok\\\":false,\\\"error\\\":\\\"channel_not_found\\\",\\\"warning\\\":\\\"missing_charset\\\",\\\"response_metadata\\\":{\\\"warnings\\\":[\\\"missing_charset\\\"]}}\"\n",
      "      }\n",
      "    ]\n",
      "  },\n",
      "  \"jsonrpc\": \"2.0\",\n",
      "  \"id\": 4\n",
      "}\n",
      "[TOOL CALL] slack_post_message -> {\n",
      "  \"result\": {\n",
      "    \"content\": [\n",
      "      {\n",
      "        \"type\": \"text\",\n",
      "        \"text\": \"{\\\"ok\\\":false,\\\"error\\\":\\\"channel_not_found\\\",\\\"warning\\\":\\\"missing_charset\\\",\\\"response_metadata\\\":{\\\"warnings\\\":[\\\"missing_charset\\\"]}}\"\n",
      "      }\n",
      "    ]\n",
      "  },\n",
      "  \"jsonrpc\": \"2.0\",\n",
      "  \"id\": 4\n",
      "}\n",
      "[MCP REQUEST] {\n",
      "  \"jsonrpc\": \"2.0\",\n",
      "  \"method\": \"tools/call\",\n",
      "  \"params\": {\n",
      "    \"name\": \"slack_list_channels\",\n",
      "    \"arguments\": {\n",
      "      \"limit\": 100\n",
      "    }\n",
      "  },\n",
      "  \"id\": 5\n",
      "}\n",
      "[MCP RESPONSE] {\n",
      "  \"result\": {\n",
      "    \"content\": [\n",
      "      {\n",
      "        \"type\": \"text\",\n",
      "        \"text\": \"{\\\"ok\\\":true,\\\"channels\\\":[{\\\"id\\\":\\\"C093KK8DBGC\\\",\\\"name\\\":\\\"ai-team\\\",\\\"is_channel\\\":true,\\\"is_group\\\":false,\\\"is_im\\\":false,\\\"is_mpim\\\":false,\\\"is_private\\\":false,\\\"created\\\":1751170632,\\\"is_archived\\\":false,\\\"is_general\\\":false,\\\"unlinked\\\":0,\\\"name_normalized\\\":\\\"ai-team\\\",\\\"is_shared\\\":false,\\\"is_org_shared\\\":false,\\\"is_pending_ext_shared\\\":false,\\\"pending_shared\\\":[],\\\"context_team_id\\\":\\\"T093JHQS18A\\\",\\\"updated\\\":1751170632496,\\\"parent_conversation\\\":null,\\\"creator\\\":\\\"U093JHQT2JW\\\",\\\"is_ext_shared\\\":false,\\\"shared_team_ids\\\":[\\\"T093JHQS18A\\\"],\\\"pending_connected_team_ids\\\":[],\\\"is_member\\\":true,\\\"last_read\\\":\\\"1751276461.859299\\\",\\\"topic\\\":{\\\"value\\\":\\\"\\\",\\\"creator\\\":\\\"\\\",\\\"last_set\\\":0},\\\"purpose\\\":{\\\"value\\\":\\\"\\\",\\\"creator\\\":\\\"\\\",\\\"last_set\\\":0},\\\"previous_names\\\":[]},{\\\"id\\\":\\\"C093XNMPFLZ\\\",\\\"name\\\":\\\"designing-team\\\",\\\"is_channel\\\":true,\\\"is_group\\\":false,\\\"is_im\\\":false,\\\"is_mpim\\\":false,\\\"is_private\\\":false,\\\"created\\\":1751170654,\\\"is_archived\\\":false,\\\"is_general\\\":false,\\\"unlinked\\\":0,\\\"name_normalized\\\":\\\"designing-team\\\",\\\"is_shared\\\":false,\\\"is_org_shared\\\":false,\\\"is_pending_ext_shared\\\":false,\\\"pending_shared\\\":[],\\\"context_team_id\\\":\\\"T093JHQS18A\\\",\\\"updated\\\":1751170654995,\\\"parent_conversation\\\":null,\\\"creator\\\":\\\"U093JHQT2JW\\\",\\\"is_ext_shared\\\":false,\\\"shared_team_ids\\\":[\\\"T093JHQS18A\\\"],\\\"pending_connected_team_ids\\\":[],\\\"is_member\\\":true,\\\"last_read\\\":\\\"1751276289.363369\\\",\\\"topic\\\":{\\\"value\\\":\\\"\\\",\\\"creator\\\":\\\"\\\",\\\"last_set\\\":0},\\\"purpose\\\":{\\\"value\\\":\\\"\\\",\\\"creator\\\":\\\"\\\",\\\"last_set\\\":0},\\\"previous_names\\\":[]},{\\\"id\\\":\\\"C093JHR4DNE\\\",\\\"name\\\":\\\"all-abc\\\",\\\"is_channel\\\":true,\\\"is_group\\\":false,\\\"is_im\\\":false,\\\"is_mpim\\\":false,\\\"is_private\\\":false,\\\"created\\\":1751169199,\\\"is_archived\\\":false,\\\"is_general\\\":true,\\\"unlinked\\\":0,\\\"name_normalized\\\":\\\"all-abc\\\",\\\"is_shared\\\":false,\\\"is_org_shared\\\":false,\\\"is_pending_ext_shared\\\":false,\\\"pending_shared\\\":[],\\\"context_team_id\\\":\\\"T093JHQS18A\\\",\\\"updated\\\":1751169717797,\\\"parent_conversation\\\":null,\\\"creator\\\":\\\"U093JHQT2JW\\\",\\\"is_read_only\\\":false,\\\"is_thread_only\\\":false,\\\"is_non_threadable\\\":false,\\\"is_ext_shared\\\":false,\\\"shared_team_ids\\\":[\\\"T093JHQS18A\\\"],\\\"pending_connected_team_ids\\\":[],\\\"is_member\\\":true,\\\"last_read\\\":\\\"1751276355.711219\\\",\\\"topic\\\":{\\\"value\\\":\\\"\\\",\\\"creator\\\":\\\"\\\",\\\"last_set\\\":0},\\\"purpose\\\":{\\\"value\\\":\\\"Share announcements and updates about company news, upcoming events, or teammates who deserve some kudos. \\u2b50\\\",\\\"creator\\\":\\\"U093JHQT2JW\\\",\\\"last_set\\\":1751169199},\\\"properties\\\":{\\\"tabs\\\":[{\\\"id\\\":\\\"Ct093GG15ZBP\\\",\\\"type\\\":\\\"canvas\\\",\\\"data\\\":{\\\"file_id\\\":\\\"F093GG15ZAR\\\",\\\"shared_ts\\\":\\\"1751169203.499769\\\"},\\\"label\\\":\\\"\\\"}],\\\"tabz\\\":[{\\\"id\\\":\\\"Ct093GG15ZBP\\\",\\\"type\\\":\\\"canvas\\\",\\\"data\\\":{\\\"file_id\\\":\\\"F093GG15ZAR\\\",\\\"shared_ts\\\":\\\"1751169203.499769\\\"}}],\\\"use_case\\\":\\\"welcome\\\"},\\\"previous_names\\\":[\\\"all-new-workspace\\\"]},{\\\"id\\\":\\\"C0934AS6UB1\\\",\\\"name\\\":\\\"ljm\\\",\\\"is_channel\\\":true,\\\"is_group\\\":false,\\\"is_im\\\":false,\\\"is_mpim\\\":false,\\\"is_private\\\":false,\\\"created\\\":1751170141,\\\"is_archived\\\":false,\\\"is_general\\\":false,\\\"unlinked\\\":0,\\\"name_normalized\\\":\\\"ljm\\\",\\\"is_shared\\\":false,\\\"is_org_shared\\\":false,\\\"is_pending_ext_shared\\\":false,\\\"pending_shared\\\":[],\\\"context_team_id\\\":\\\"T093JHQS18A\\\",\\\"updated\\\":1751170141578,\\\"parent_conversation\\\":null,\\\"creator\\\":\\\"U093JHQT2JW\\\",\\\"is_ext_shared\\\":false,\\\"shared_team_ids\\\":[\\\"T093JHQS18A\\\"],\\\"pending_connected_team_ids\\\":[],\\\"is_member\\\":true,\\\"last_read\\\":\\\"1751276441.093129\\\",\\\"topic\\\":{\\\"value\\\":\\\"\\\",\\\"creator\\\":\\\"\\\",\\\"last_set\\\":0},\\\"purpose\\\":{\\\"value\\\":\\\"\\\",\\\"creator\\\":\\\"\\\",\\\"last_set\\\":0},\\\"previous_names\\\":[]}],\\\"response_metadata\\\":{\\\"next_cursor\\\":\\\"\\\"}}\"\n",
      "      }\n",
      "    ]\n",
      "  },\n",
      "  \"jsonrpc\": \"2.0\",\n",
      "  \"id\": 5\n",
      "}\n",
      "[TOOL CALL] slack_list_channels -> {\n",
      "  \"result\": {\n",
      "    \"content\": [\n",
      "      {\n",
      "        \"type\": \"text\",\n",
      "        \"text\": \"{\\\"ok\\\":true,\\\"channels\\\":[{\\\"id\\\":\\\"C093KK8DBGC\\\",\\\"name\\\":\\\"ai-team\\\",\\\"is_channel\\\":true,\\\"is_group\\\":false,\\\"is_im\\\":false,\\\"is_mpim\\\":false,\\\"is_private\\\":false,\\\"created\\\":1751170632,\\\"is_archived\\\":false,\\\"is_general\\\":false,\\\"unlinked\\\":0,\\\"name_normalized\\\":\\\"ai-team\\\",\\\"is_shared\\\":false,\\\"is_org_shared\\\":false,\\\"is_pending_ext_shared\\\":false,\\\"pending_shared\\\":[],\\\"context_team_id\\\":\\\"T093JHQS18A\\\",\\\"updated\\\":1751170632496,\\\"parent_conversation\\\":null,\\\"creator\\\":\\\"U093JHQT2JW\\\",\\\"is_ext_shared\\\":false,\\\"shared_team_ids\\\":[\\\"T093JHQS18A\\\"],\\\"pending_connected_team_ids\\\":[],\\\"is_member\\\":true,\\\"last_read\\\":\\\"1751276461.859299\\\",\\\"topic\\\":{\\\"value\\\":\\\"\\\",\\\"creator\\\":\\\"\\\",\\\"last_set\\\":0},\\\"purpose\\\":{\\\"value\\\":\\\"\\\",\\\"creator\\\":\\\"\\\",\\\"last_set\\\":0},\\\"previous_names\\\":[]},{\\\"id\\\":\\\"C093XNMPFLZ\\\",\\\"name\\\":\\\"designing-team\\\",\\\"is_channel\\\":true,\\\"is_group\\\":false,\\\"is_im\\\":false,\\\"is_mpim\\\":false,\\\"is_private\\\":false,\\\"created\\\":1751170654,\\\"is_archived\\\":false,\\\"is_general\\\":false,\\\"unlinked\\\":0,\\\"name_normalized\\\":\\\"designing-team\\\",\\\"is_shared\\\":false,\\\"is_org_shared\\\":false,\\\"is_pending_ext_shared\\\":false,\\\"pending_shared\\\":[],\\\"context_team_id\\\":\\\"T093JHQS18A\\\",\\\"updated\\\":1751170654995,\\\"parent_conversation\\\":null,\\\"creator\\\":\\\"U093JHQT2JW\\\",\\\"is_ext_shared\\\":false,\\\"shared_team_ids\\\":[\\\"T093JHQS18A\\\"],\\\"pending_connected_team_ids\\\":[],\\\"is_member\\\":true,\\\"last_read\\\":\\\"1751276289.363369\\\",\\\"topic\\\":{\\\"value\\\":\\\"\\\",\\\"creator\\\":\\\"\\\",\\\"last_set\\\":0},\\\"purpose\\\":{\\\"value\\\":\\\"\\\",\\\"creator\\\":\\\"\\\",\\\"last_set\\\":0},\\\"previous_names\\\":[]},{\\\"id\\\":\\\"C093JHR4DNE\\\",\\\"name\\\":\\\"all-abc\\\",\\\"is_channel\\\":true,\\\"is_group\\\":false,\\\"is_im\\\":false,\\\"is_mpim\\\":false,\\\"is_private\\\":false,\\\"created\\\":1751169199,\\\"is_archived\\\":false,\\\"is_general\\\":true,\\\"unlinked\\\":0,\\\"name_normalized\\\":\\\"all-abc\\\",\\\"is_shared\\\":false,\\\"is_org_shared\\\":false,\\\"is_pending_ext_shared\\\":false,\\\"pending_shared\\\":[],\\\"context_team_id\\\":\\\"T093JHQS18A\\\",\\\"updated\\\":1751169717797,\\\"parent_conversation\\\":null,\\\"creator\\\":\\\"U093JHQT2JW\\\",\\\"is_read_only\\\":false,\\\"is_thread_only\\\":false,\\\"is_non_threadable\\\":false,\\\"is_ext_shared\\\":false,\\\"shared_team_ids\\\":[\\\"T093JHQS18A\\\"],\\\"pending_connected_team_ids\\\":[],\\\"is_member\\\":true,\\\"last_read\\\":\\\"1751276355.711219\\\",\\\"topic\\\":{\\\"value\\\":\\\"\\\",\\\"creator\\\":\\\"\\\",\\\"last_set\\\":0},\\\"purpose\\\":{\\\"value\\\":\\\"Share announcements and updates about company news, upcoming events, or teammates who deserve some kudos. \\u2b50\\\",\\\"creator\\\":\\\"U093JHQT2JW\\\",\\\"last_set\\\":1751169199},\\\"properties\\\":{\\\"tabs\\\":[{\\\"id\\\":\\\"Ct093GG15ZBP\\\",\\\"type\\\":\\\"canvas\\\",\\\"data\\\":{\\\"file_id\\\":\\\"F093GG15ZAR\\\",\\\"shared_ts\\\":\\\"1751169203.499769\\\"},\\\"label\\\":\\\"\\\"}],\\\"tabz\\\":[{\\\"id\\\":\\\"Ct093GG15ZBP\\\",\\\"type\\\":\\\"canvas\\\",\\\"data\\\":{\\\"file_id\\\":\\\"F093GG15ZAR\\\",\\\"shared_ts\\\":\\\"1751169203.499769\\\"}}],\\\"use_case\\\":\\\"welcome\\\"},\\\"previous_names\\\":[\\\"all-new-workspace\\\"]},{\\\"id\\\":\\\"C0934AS6UB1\\\",\\\"name\\\":\\\"ljm\\\",\\\"is_channel\\\":true,\\\"is_group\\\":false,\\\"is_im\\\":false,\\\"is_mpim\\\":false,\\\"is_private\\\":false,\\\"created\\\":1751170141,\\\"is_archived\\\":false,\\\"is_general\\\":false,\\\"unlinked\\\":0,\\\"name_normalized\\\":\\\"ljm\\\",\\\"is_shared\\\":false,\\\"is_org_shared\\\":false,\\\"is_pending_ext_shared\\\":false,\\\"pending_shared\\\":[],\\\"context_team_id\\\":\\\"T093JHQS18A\\\",\\\"updated\\\":1751170141578,\\\"parent_conversation\\\":null,\\\"creator\\\":\\\"U093JHQT2JW\\\",\\\"is_ext_shared\\\":false,\\\"shared_team_ids\\\":[\\\"T093JHQS18A\\\"],\\\"pending_connected_team_ids\\\":[],\\\"is_member\\\":true,\\\"last_read\\\":\\\"1751276441.093129\\\",\\\"topic\\\":{\\\"value\\\":\\\"\\\",\\\"creator\\\":\\\"\\\",\\\"last_set\\\":0},\\\"purpose\\\":{\\\"value\\\":\\\"\\\",\\\"creator\\\":\\\"\\\",\\\"last_set\\\":0},\\\"previous_names\\\":[]}],\\\"response_metadata\\\":{\\\"next_cursor\\\":\\\"\\\"}}\"\n",
      "      }\n",
      "    ]\n",
      "  },\n",
      "  \"jsonrpc\": \"2.0\",\n",
      "  \"id\": 5\n",
      "}\n",
      "[MCP REQUEST] {\n",
      "  \"jsonrpc\": \"2.0\",\n",
      "  \"method\": \"tools/call\",\n",
      "  \"params\": {\n",
      "    \"name\": \"slack_post_message\",\n",
      "    \"arguments\": {\n",
      "      \"channel_id\": \"C093KK8DBGC\",\n",
      "      \"text\": \"Good Morning to ALL from Slack agent\"\n",
      "    }\n",
      "  },\n",
      "  \"id\": 6\n",
      "}\n",
      "[MCP RESPONSE] {\n",
      "  \"result\": {\n",
      "    \"content\": [\n",
      "      {\n",
      "        \"type\": \"text\",\n",
      "        \"text\": \"{\\\"ok\\\":true,\\\"channel\\\":\\\"C093KK8DBGC\\\",\\\"ts\\\":\\\"1751350471.870209\\\",\\\"message\\\":{\\\"user\\\":\\\"U0946J1TQHW\\\",\\\"type\\\":\\\"message\\\",\\\"ts\\\":\\\"1751350471.870209\\\",\\\"bot_id\\\":\\\"B0946J1T4M6\\\",\\\"app_id\\\":\\\"A093GGX8TE1\\\",\\\"text\\\":\\\"Good Morning to ALL from Slack agent\\\",\\\"team\\\":\\\"T093JHQS18A\\\",\\\"bot_profile\\\":{\\\"id\\\":\\\"B0946J1T4M6\\\",\\\"app_id\\\":\\\"A093GGX8TE1\\\",\\\"user_id\\\":\\\"U0946J1TQHW\\\",\\\"name\\\":\\\"meetingplus\\\",\\\"icons\\\":{\\\"image_36\\\":\\\"https://a.slack-edge.com/80588/img/plugins/app/bot_36.png\\\",\\\"image_48\\\":\\\"https://a.slack-edge.com/80588/img/plugins/app/bot_48.png\\\",\\\"image_72\\\":\\\"https://a.slack-edge.com/80588/img/plugins/app/service_72.png\\\"},\\\"deleted\\\":false,\\\"updated\\\":1751170336,\\\"team_id\\\":\\\"T093JHQS18A\\\"},\\\"blocks\\\":[{\\\"type\\\":\\\"rich_text\\\",\\\"block_id\\\":\\\"FYE\\\",\\\"elements\\\":[{\\\"type\\\":\\\"rich_text_section\\\",\\\"elements\\\":[{\\\"type\\\":\\\"text\\\",\\\"text\\\":\\\"Good Morning to ALL from Slack agent\\\"}]}]}]},\\\"warning\\\":\\\"missing_charset\\\",\\\"response_metadata\\\":{\\\"warnings\\\":[\\\"missing_charset\\\"]}}\"\n",
      "      }\n",
      "    ]\n",
      "  },\n",
      "  \"jsonrpc\": \"2.0\",\n",
      "  \"id\": 6\n",
      "}\n",
      "[TOOL CALL] slack_post_message -> {\n",
      "  \"result\": {\n",
      "    \"content\": [\n",
      "      {\n",
      "        \"type\": \"text\",\n",
      "        \"text\": \"{\\\"ok\\\":true,\\\"channel\\\":\\\"C093KK8DBGC\\\",\\\"ts\\\":\\\"1751350471.870209\\\",\\\"message\\\":{\\\"user\\\":\\\"U0946J1TQHW\\\",\\\"type\\\":\\\"message\\\",\\\"ts\\\":\\\"1751350471.870209\\\",\\\"bot_id\\\":\\\"B0946J1T4M6\\\",\\\"app_id\\\":\\\"A093GGX8TE1\\\",\\\"text\\\":\\\"Good Morning to ALL from Slack agent\\\",\\\"team\\\":\\\"T093JHQS18A\\\",\\\"bot_profile\\\":{\\\"id\\\":\\\"B0946J1T4M6\\\",\\\"app_id\\\":\\\"A093GGX8TE1\\\",\\\"user_id\\\":\\\"U0946J1TQHW\\\",\\\"name\\\":\\\"meetingplus\\\",\\\"icons\\\":{\\\"image_36\\\":\\\"https://a.slack-edge.com/80588/img/plugins/app/bot_36.png\\\",\\\"image_48\\\":\\\"https://a.slack-edge.com/80588/img/plugins/app/bot_48.png\\\",\\\"image_72\\\":\\\"https://a.slack-edge.com/80588/img/plugins/app/service_72.png\\\"},\\\"deleted\\\":false,\\\"updated\\\":1751170336,\\\"team_id\\\":\\\"T093JHQS18A\\\"},\\\"blocks\\\":[{\\\"type\\\":\\\"rich_text\\\",\\\"block_id\\\":\\\"FYE\\\",\\\"elements\\\":[{\\\"type\\\":\\\"rich_text_section\\\",\\\"elements\\\":[{\\\"type\\\":\\\"text\\\",\\\"text\\\":\\\"Good Morning to ALL from Slack agent\\\"}]}]}]},\\\"warning\\\":\\\"missing_charset\\\",\\\"response_metadata\\\":{\\\"warnings\\\":[\\\"missing_charset\\\"]}}\"\n",
      "      }\n",
      "    ]\n",
      "  },\n",
      "  \"jsonrpc\": \"2.0\",\n",
      "  \"id\": 6\n",
      "}\n",
      "Slack agent result: {'messages': [HumanMessage(content='send a message ( Good Morning to ALL from Slack agent ) on ai team channel ', additional_kwargs={}, response_metadata={}, id='a5946ea7-b844-4043-9c1d-4800d1dd7980'), AIMessage(content='', additional_kwargs={'tool_calls': [{'id': '6892sqg1c', 'function': {'arguments': '{\"channel_id\":\"ai_team_channel\",\"text\":\"Good Morning to ALL from Slack agent\"}', 'name': 'slack_post_message'}, 'type': 'function'}]}, response_metadata={'token_usage': {'completion_tokens': 59, 'prompt_tokens': 1342, 'total_tokens': 1401, 'completion_time': 0.179229908, 'prompt_time': 0.050419686, 'queue_time': 0.057482513000000006, 'total_time': 0.229649594}, 'model_name': 'llama3-70b-8192', 'system_fingerprint': 'fp_dd4ae1c591', 'finish_reason': 'tool_calls', 'logprobs': None}, id='run-14234766-497f-4e52-ba80-218d53682526-0', tool_calls=[{'name': 'slack_post_message', 'args': {'channel_id': 'ai_team_channel', 'text': 'Good Morning to ALL from Slack agent'}, 'id': '6892sqg1c', 'type': 'tool_call'}], usage_metadata={'input_tokens': 1342, 'output_tokens': 59, 'total_tokens': 1401}), ToolMessage(content='{\"result\": {\"content\": [{\"type\": \"text\", \"text\": \"{\\\\\"ok\\\\\":false,\\\\\"error\\\\\":\\\\\"channel_not_found\\\\\",\\\\\"warning\\\\\":\\\\\"missing_charset\\\\\",\\\\\"response_metadata\\\\\":{\\\\\"warnings\\\\\":[\\\\\"missing_charset\\\\\"]}}\"}]}, \"jsonrpc\": \"2.0\", \"id\": 4}', name='slack_post_message', id='8d57e2ce-b049-4efa-a4a0-aa75cf8c95be', tool_call_id='6892sqg1c'), AIMessage(content='', additional_kwargs={'tool_calls': [{'id': 'q2nkaxx7n', 'function': {'arguments': '{\"cursor\":null,\"limit\":100}', 'name': 'slack_list_channels'}, 'type': 'function'}]}, response_metadata={'token_usage': {'completion_tokens': 62, 'prompt_tokens': 1481, 'total_tokens': 1543, 'completion_time': 0.252314182, 'prompt_time': 0.054838754, 'queue_time': 0.057841186, 'total_time': 0.307152936}, 'model_name': 'llama3-70b-8192', 'system_fingerprint': 'fp_dd4ae1c591', 'finish_reason': 'tool_calls', 'logprobs': None}, id='run-cc30cada-dd44-4f48-81db-a788b7c6a9c9-0', tool_calls=[{'name': 'slack_list_channels', 'args': {'cursor': None, 'limit': 100}, 'id': 'q2nkaxx7n', 'type': 'tool_call'}], usage_metadata={'input_tokens': 1481, 'output_tokens': 62, 'total_tokens': 1543}), ToolMessage(content='{\"result\": {\"content\": [{\"type\": \"text\", \"text\": \"{\\\\\"ok\\\\\":true,\\\\\"channels\\\\\":[{\\\\\"id\\\\\":\\\\\"C093KK8DBGC\\\\\",\\\\\"name\\\\\":\\\\\"ai-team\\\\\",\\\\\"is_channel\\\\\":true,\\\\\"is_group\\\\\":false,\\\\\"is_im\\\\\":false,\\\\\"is_mpim\\\\\":false,\\\\\"is_private\\\\\":false,\\\\\"created\\\\\":1751170632,\\\\\"is_archived\\\\\":false,\\\\\"is_general\\\\\":false,\\\\\"unlinked\\\\\":0,\\\\\"name_normalized\\\\\":\\\\\"ai-team\\\\\",\\\\\"is_shared\\\\\":false,\\\\\"is_org_shared\\\\\":false,\\\\\"is_pending_ext_shared\\\\\":false,\\\\\"pending_shared\\\\\":[],\\\\\"context_team_id\\\\\":\\\\\"T093JHQS18A\\\\\",\\\\\"updated\\\\\":1751170632496,\\\\\"parent_conversation\\\\\":null,\\\\\"creator\\\\\":\\\\\"U093JHQT2JW\\\\\",\\\\\"is_ext_shared\\\\\":false,\\\\\"shared_team_ids\\\\\":[\\\\\"T093JHQS18A\\\\\"],\\\\\"pending_connected_team_ids\\\\\":[],\\\\\"is_member\\\\\":true,\\\\\"last_read\\\\\":\\\\\"1751276461.859299\\\\\",\\\\\"topic\\\\\":{\\\\\"value\\\\\":\\\\\"\\\\\",\\\\\"creator\\\\\":\\\\\"\\\\\",\\\\\"last_set\\\\\":0},\\\\\"purpose\\\\\":{\\\\\"value\\\\\":\\\\\"\\\\\",\\\\\"creator\\\\\":\\\\\"\\\\\",\\\\\"last_set\\\\\":0},\\\\\"previous_names\\\\\":[]},{\\\\\"id\\\\\":\\\\\"C093XNMPFLZ\\\\\",\\\\\"name\\\\\":\\\\\"designing-team\\\\\",\\\\\"is_channel\\\\\":true,\\\\\"is_group\\\\\":false,\\\\\"is_im\\\\\":false,\\\\\"is_mpim\\\\\":false,\\\\\"is_private\\\\\":false,\\\\\"created\\\\\":1751170654,\\\\\"is_archived\\\\\":false,\\\\\"is_general\\\\\":false,\\\\\"unlinked\\\\\":0,\\\\\"name_normalized\\\\\":\\\\\"designing-team\\\\\",\\\\\"is_shared\\\\\":false,\\\\\"is_org_shared\\\\\":false,\\\\\"is_pending_ext_shared\\\\\":false,\\\\\"pending_shared\\\\\":[],\\\\\"context_team_id\\\\\":\\\\\"T093JHQS18A\\\\\",\\\\\"updated\\\\\":1751170654995,\\\\\"parent_conversation\\\\\":null,\\\\\"creator\\\\\":\\\\\"U093JHQT2JW\\\\\",\\\\\"is_ext_shared\\\\\":false,\\\\\"shared_team_ids\\\\\":[\\\\\"T093JHQS18A\\\\\"],\\\\\"pending_connected_team_ids\\\\\":[],\\\\\"is_member\\\\\":true,\\\\\"last_read\\\\\":\\\\\"1751276289.363369\\\\\",\\\\\"topic\\\\\":{\\\\\"value\\\\\":\\\\\"\\\\\",\\\\\"creator\\\\\":\\\\\"\\\\\",\\\\\"last_set\\\\\":0},\\\\\"purpose\\\\\":{\\\\\"value\\\\\":\\\\\"\\\\\",\\\\\"creator\\\\\":\\\\\"\\\\\",\\\\\"last_set\\\\\":0},\\\\\"previous_names\\\\\":[]},{\\\\\"id\\\\\":\\\\\"C093JHR4DNE\\\\\",\\\\\"name\\\\\":\\\\\"all-abc\\\\\",\\\\\"is_channel\\\\\":true,\\\\\"is_group\\\\\":false,\\\\\"is_im\\\\\":false,\\\\\"is_mpim\\\\\":false,\\\\\"is_private\\\\\":false,\\\\\"created\\\\\":1751169199,\\\\\"is_archived\\\\\":false,\\\\\"is_general\\\\\":true,\\\\\"unlinked\\\\\":0,\\\\\"name_normalized\\\\\":\\\\\"all-abc\\\\\",\\\\\"is_shared\\\\\":false,\\\\\"is_org_shared\\\\\":false,\\\\\"is_pending_ext_shared\\\\\":false,\\\\\"pending_shared\\\\\":[],\\\\\"context_team_id\\\\\":\\\\\"T093JHQS18A\\\\\",\\\\\"updated\\\\\":1751169717797,\\\\\"parent_conversation\\\\\":null,\\\\\"creator\\\\\":\\\\\"U093JHQT2JW\\\\\",\\\\\"is_read_only\\\\\":false,\\\\\"is_thread_only\\\\\":false,\\\\\"is_non_threadable\\\\\":false,\\\\\"is_ext_shared\\\\\":false,\\\\\"shared_team_ids\\\\\":[\\\\\"T093JHQS18A\\\\\"],\\\\\"pending_connected_team_ids\\\\\":[],\\\\\"is_member\\\\\":true,\\\\\"last_read\\\\\":\\\\\"1751276355.711219\\\\\",\\\\\"topic\\\\\":{\\\\\"value\\\\\":\\\\\"\\\\\",\\\\\"creator\\\\\":\\\\\"\\\\\",\\\\\"last_set\\\\\":0},\\\\\"purpose\\\\\":{\\\\\"value\\\\\":\\\\\"Share announcements and updates about company news, upcoming events, or teammates who deserve some kudos. ⭐\\\\\",\\\\\"creator\\\\\":\\\\\"U093JHQT2JW\\\\\",\\\\\"last_set\\\\\":1751169199},\\\\\"properties\\\\\":{\\\\\"tabs\\\\\":[{\\\\\"id\\\\\":\\\\\"Ct093GG15ZBP\\\\\",\\\\\"type\\\\\":\\\\\"canvas\\\\\",\\\\\"data\\\\\":{\\\\\"file_id\\\\\":\\\\\"F093GG15ZAR\\\\\",\\\\\"shared_ts\\\\\":\\\\\"1751169203.499769\\\\\"},\\\\\"label\\\\\":\\\\\"\\\\\"}],\\\\\"tabz\\\\\":[{\\\\\"id\\\\\":\\\\\"Ct093GG15ZBP\\\\\",\\\\\"type\\\\\":\\\\\"canvas\\\\\",\\\\\"data\\\\\":{\\\\\"file_id\\\\\":\\\\\"F093GG15ZAR\\\\\",\\\\\"shared_ts\\\\\":\\\\\"1751169203.499769\\\\\"}}],\\\\\"use_case\\\\\":\\\\\"welcome\\\\\"},\\\\\"previous_names\\\\\":[\\\\\"all-new-workspace\\\\\"]},{\\\\\"id\\\\\":\\\\\"C0934AS6UB1\\\\\",\\\\\"name\\\\\":\\\\\"ljm\\\\\",\\\\\"is_channel\\\\\":true,\\\\\"is_group\\\\\":false,\\\\\"is_im\\\\\":false,\\\\\"is_mpim\\\\\":false,\\\\\"is_private\\\\\":false,\\\\\"created\\\\\":1751170141,\\\\\"is_archived\\\\\":false,\\\\\"is_general\\\\\":false,\\\\\"unlinked\\\\\":0,\\\\\"name_normalized\\\\\":\\\\\"ljm\\\\\",\\\\\"is_shared\\\\\":false,\\\\\"is_org_shared\\\\\":false,\\\\\"is_pending_ext_shared\\\\\":false,\\\\\"pending_shared\\\\\":[],\\\\\"context_team_id\\\\\":\\\\\"T093JHQS18A\\\\\",\\\\\"updated\\\\\":1751170141578,\\\\\"parent_conversation\\\\\":null,\\\\\"creator\\\\\":\\\\\"U093JHQT2JW\\\\\",\\\\\"is_ext_shared\\\\\":false,\\\\\"shared_team_ids\\\\\":[\\\\\"T093JHQS18A\\\\\"],\\\\\"pending_connected_team_ids\\\\\":[],\\\\\"is_member\\\\\":true,\\\\\"last_read\\\\\":\\\\\"1751276441.093129\\\\\",\\\\\"topic\\\\\":{\\\\\"value\\\\\":\\\\\"\\\\\",\\\\\"creator\\\\\":\\\\\"\\\\\",\\\\\"last_set\\\\\":0},\\\\\"purpose\\\\\":{\\\\\"value\\\\\":\\\\\"\\\\\",\\\\\"creator\\\\\":\\\\\"\\\\\",\\\\\"last_set\\\\\":0},\\\\\"previous_names\\\\\":[]}],\\\\\"response_metadata\\\\\":{\\\\\"next_cursor\\\\\":\\\\\"\\\\\"}}\"}]}, \"jsonrpc\": \"2.0\", \"id\": 5}', name='slack_list_channels', id='6e22e210-7dc4-4dd5-a59c-03c3aa5a14f3', tool_call_id='q2nkaxx7n'), AIMessage(content='', additional_kwargs={'tool_calls': [{'id': 'szzcqv7ge', 'function': {'arguments': '{\"channel_id\":\"C093KK8DBGC\",\"text\":\"Good Morning to ALL from Slack agent\"}', 'name': 'slack_post_message'}, 'type': 'function'}]}, response_metadata={'token_usage': {'completion_tokens': 50, 'prompt_tokens': 2609, 'total_tokens': 2659, 'completion_time': 0.18286828, 'prompt_time': 0.098505707, 'queue_time': 0.058352562999999996, 'total_time': 0.281373987}, 'model_name': 'llama3-70b-8192', 'system_fingerprint': 'fp_dd4ae1c591', 'finish_reason': 'tool_calls', 'logprobs': None}, id='run-0a8f4dbd-2bb8-47e5-bd25-a4bd805517f2-0', tool_calls=[{'name': 'slack_post_message', 'args': {'channel_id': 'C093KK8DBGC', 'text': 'Good Morning to ALL from Slack agent'}, 'id': 'szzcqv7ge', 'type': 'tool_call'}], usage_metadata={'input_tokens': 2609, 'output_tokens': 50, 'total_tokens': 2659}), ToolMessage(content='{\"result\": {\"content\": [{\"type\": \"text\", \"text\": \"{\\\\\"ok\\\\\":true,\\\\\"channel\\\\\":\\\\\"C093KK8DBGC\\\\\",\\\\\"ts\\\\\":\\\\\"1751350471.870209\\\\\",\\\\\"message\\\\\":{\\\\\"user\\\\\":\\\\\"U0946J1TQHW\\\\\",\\\\\"type\\\\\":\\\\\"message\\\\\",\\\\\"ts\\\\\":\\\\\"1751350471.870209\\\\\",\\\\\"bot_id\\\\\":\\\\\"B0946J1T4M6\\\\\",\\\\\"app_id\\\\\":\\\\\"A093GGX8TE1\\\\\",\\\\\"text\\\\\":\\\\\"Good Morning to ALL from Slack agent\\\\\",\\\\\"team\\\\\":\\\\\"T093JHQS18A\\\\\",\\\\\"bot_profile\\\\\":{\\\\\"id\\\\\":\\\\\"B0946J1T4M6\\\\\",\\\\\"app_id\\\\\":\\\\\"A093GGX8TE1\\\\\",\\\\\"user_id\\\\\":\\\\\"U0946J1TQHW\\\\\",\\\\\"name\\\\\":\\\\\"meetingplus\\\\\",\\\\\"icons\\\\\":{\\\\\"image_36\\\\\":\\\\\"https://a.slack-edge.com/80588/img/plugins/app/bot_36.png\\\\\",\\\\\"image_48\\\\\":\\\\\"https://a.slack-edge.com/80588/img/plugins/app/bot_48.png\\\\\",\\\\\"image_72\\\\\":\\\\\"https://a.slack-edge.com/80588/img/plugins/app/service_72.png\\\\\"},\\\\\"deleted\\\\\":false,\\\\\"updated\\\\\":1751170336,\\\\\"team_id\\\\\":\\\\\"T093JHQS18A\\\\\"},\\\\\"blocks\\\\\":[{\\\\\"type\\\\\":\\\\\"rich_text\\\\\",\\\\\"block_id\\\\\":\\\\\"FYE\\\\\",\\\\\"elements\\\\\":[{\\\\\"type\\\\\":\\\\\"rich_text_section\\\\\",\\\\\"elements\\\\\":[{\\\\\"type\\\\\":\\\\\"text\\\\\",\\\\\"text\\\\\":\\\\\"Good Morning to ALL from Slack agent\\\\\"}]}]}]},\\\\\"warning\\\\\":\\\\\"missing_charset\\\\\",\\\\\"response_metadata\\\\\":{\\\\\"warnings\\\\\":[\\\\\"missing_charset\\\\\"]}}\"}]}, \"jsonrpc\": \"2.0\", \"id\": 6}', name='slack_post_message', id='0b845013-83cb-4018-b027-d44358975cf6', tool_call_id='szzcqv7ge'), AIMessage(content='The message has been successfully posted to the \"ai-team\" channel.', additional_kwargs={}, response_metadata={'token_usage': {'completion_tokens': 15, 'prompt_tokens': 3022, 'total_tokens': 3037, 'completion_time': 0.170741523, 'prompt_time': 0.119361774, 'queue_time': 0.05929937599999999, 'total_time': 0.290103297}, 'model_name': 'llama3-70b-8192', 'system_fingerprint': 'fp_dd4ae1c591', 'finish_reason': 'stop', 'logprobs': None}, id='run-98850dbc-7295-4618-bd02-886acbd35ccf-0', usage_metadata={'input_tokens': 3022, 'output_tokens': 15, 'total_tokens': 3037})]}\n"
     ]
    },
    {
     "data": {
      "text/plain": [
       "{'messages': [HumanMessage(content='send a message ( Good Morning to ALL from Slack agent ) on ai team channel ', additional_kwargs={}, response_metadata={}, id='a5946ea7-b844-4043-9c1d-4800d1dd7980'),\n",
       "  AIMessage(content='', additional_kwargs={'tool_calls': [{'id': '6892sqg1c', 'function': {'arguments': '{\"channel_id\":\"ai_team_channel\",\"text\":\"Good Morning to ALL from Slack agent\"}', 'name': 'slack_post_message'}, 'type': 'function'}]}, response_metadata={'token_usage': {'completion_tokens': 59, 'prompt_tokens': 1342, 'total_tokens': 1401, 'completion_time': 0.179229908, 'prompt_time': 0.050419686, 'queue_time': 0.057482513000000006, 'total_time': 0.229649594}, 'model_name': 'llama3-70b-8192', 'system_fingerprint': 'fp_dd4ae1c591', 'finish_reason': 'tool_calls', 'logprobs': None}, id='run-14234766-497f-4e52-ba80-218d53682526-0', tool_calls=[{'name': 'slack_post_message', 'args': {'channel_id': 'ai_team_channel', 'text': 'Good Morning to ALL from Slack agent'}, 'id': '6892sqg1c', 'type': 'tool_call'}], usage_metadata={'input_tokens': 1342, 'output_tokens': 59, 'total_tokens': 1401}),\n",
       "  ToolMessage(content='{\"result\": {\"content\": [{\"type\": \"text\", \"text\": \"{\\\\\"ok\\\\\":false,\\\\\"error\\\\\":\\\\\"channel_not_found\\\\\",\\\\\"warning\\\\\":\\\\\"missing_charset\\\\\",\\\\\"response_metadata\\\\\":{\\\\\"warnings\\\\\":[\\\\\"missing_charset\\\\\"]}}\"}]}, \"jsonrpc\": \"2.0\", \"id\": 4}', name='slack_post_message', id='8d57e2ce-b049-4efa-a4a0-aa75cf8c95be', tool_call_id='6892sqg1c'),\n",
       "  AIMessage(content='', additional_kwargs={'tool_calls': [{'id': 'q2nkaxx7n', 'function': {'arguments': '{\"cursor\":null,\"limit\":100}', 'name': 'slack_list_channels'}, 'type': 'function'}]}, response_metadata={'token_usage': {'completion_tokens': 62, 'prompt_tokens': 1481, 'total_tokens': 1543, 'completion_time': 0.252314182, 'prompt_time': 0.054838754, 'queue_time': 0.057841186, 'total_time': 0.307152936}, 'model_name': 'llama3-70b-8192', 'system_fingerprint': 'fp_dd4ae1c591', 'finish_reason': 'tool_calls', 'logprobs': None}, id='run-cc30cada-dd44-4f48-81db-a788b7c6a9c9-0', tool_calls=[{'name': 'slack_list_channels', 'args': {'cursor': None, 'limit': 100}, 'id': 'q2nkaxx7n', 'type': 'tool_call'}], usage_metadata={'input_tokens': 1481, 'output_tokens': 62, 'total_tokens': 1543}),\n",
       "  ToolMessage(content='{\"result\": {\"content\": [{\"type\": \"text\", \"text\": \"{\\\\\"ok\\\\\":true,\\\\\"channels\\\\\":[{\\\\\"id\\\\\":\\\\\"C093KK8DBGC\\\\\",\\\\\"name\\\\\":\\\\\"ai-team\\\\\",\\\\\"is_channel\\\\\":true,\\\\\"is_group\\\\\":false,\\\\\"is_im\\\\\":false,\\\\\"is_mpim\\\\\":false,\\\\\"is_private\\\\\":false,\\\\\"created\\\\\":1751170632,\\\\\"is_archived\\\\\":false,\\\\\"is_general\\\\\":false,\\\\\"unlinked\\\\\":0,\\\\\"name_normalized\\\\\":\\\\\"ai-team\\\\\",\\\\\"is_shared\\\\\":false,\\\\\"is_org_shared\\\\\":false,\\\\\"is_pending_ext_shared\\\\\":false,\\\\\"pending_shared\\\\\":[],\\\\\"context_team_id\\\\\":\\\\\"T093JHQS18A\\\\\",\\\\\"updated\\\\\":1751170632496,\\\\\"parent_conversation\\\\\":null,\\\\\"creator\\\\\":\\\\\"U093JHQT2JW\\\\\",\\\\\"is_ext_shared\\\\\":false,\\\\\"shared_team_ids\\\\\":[\\\\\"T093JHQS18A\\\\\"],\\\\\"pending_connected_team_ids\\\\\":[],\\\\\"is_member\\\\\":true,\\\\\"last_read\\\\\":\\\\\"1751276461.859299\\\\\",\\\\\"topic\\\\\":{\\\\\"value\\\\\":\\\\\"\\\\\",\\\\\"creator\\\\\":\\\\\"\\\\\",\\\\\"last_set\\\\\":0},\\\\\"purpose\\\\\":{\\\\\"value\\\\\":\\\\\"\\\\\",\\\\\"creator\\\\\":\\\\\"\\\\\",\\\\\"last_set\\\\\":0},\\\\\"previous_names\\\\\":[]},{\\\\\"id\\\\\":\\\\\"C093XNMPFLZ\\\\\",\\\\\"name\\\\\":\\\\\"designing-team\\\\\",\\\\\"is_channel\\\\\":true,\\\\\"is_group\\\\\":false,\\\\\"is_im\\\\\":false,\\\\\"is_mpim\\\\\":false,\\\\\"is_private\\\\\":false,\\\\\"created\\\\\":1751170654,\\\\\"is_archived\\\\\":false,\\\\\"is_general\\\\\":false,\\\\\"unlinked\\\\\":0,\\\\\"name_normalized\\\\\":\\\\\"designing-team\\\\\",\\\\\"is_shared\\\\\":false,\\\\\"is_org_shared\\\\\":false,\\\\\"is_pending_ext_shared\\\\\":false,\\\\\"pending_shared\\\\\":[],\\\\\"context_team_id\\\\\":\\\\\"T093JHQS18A\\\\\",\\\\\"updated\\\\\":1751170654995,\\\\\"parent_conversation\\\\\":null,\\\\\"creator\\\\\":\\\\\"U093JHQT2JW\\\\\",\\\\\"is_ext_shared\\\\\":false,\\\\\"shared_team_ids\\\\\":[\\\\\"T093JHQS18A\\\\\"],\\\\\"pending_connected_team_ids\\\\\":[],\\\\\"is_member\\\\\":true,\\\\\"last_read\\\\\":\\\\\"1751276289.363369\\\\\",\\\\\"topic\\\\\":{\\\\\"value\\\\\":\\\\\"\\\\\",\\\\\"creator\\\\\":\\\\\"\\\\\",\\\\\"last_set\\\\\":0},\\\\\"purpose\\\\\":{\\\\\"value\\\\\":\\\\\"\\\\\",\\\\\"creator\\\\\":\\\\\"\\\\\",\\\\\"last_set\\\\\":0},\\\\\"previous_names\\\\\":[]},{\\\\\"id\\\\\":\\\\\"C093JHR4DNE\\\\\",\\\\\"name\\\\\":\\\\\"all-abc\\\\\",\\\\\"is_channel\\\\\":true,\\\\\"is_group\\\\\":false,\\\\\"is_im\\\\\":false,\\\\\"is_mpim\\\\\":false,\\\\\"is_private\\\\\":false,\\\\\"created\\\\\":1751169199,\\\\\"is_archived\\\\\":false,\\\\\"is_general\\\\\":true,\\\\\"unlinked\\\\\":0,\\\\\"name_normalized\\\\\":\\\\\"all-abc\\\\\",\\\\\"is_shared\\\\\":false,\\\\\"is_org_shared\\\\\":false,\\\\\"is_pending_ext_shared\\\\\":false,\\\\\"pending_shared\\\\\":[],\\\\\"context_team_id\\\\\":\\\\\"T093JHQS18A\\\\\",\\\\\"updated\\\\\":1751169717797,\\\\\"parent_conversation\\\\\":null,\\\\\"creator\\\\\":\\\\\"U093JHQT2JW\\\\\",\\\\\"is_read_only\\\\\":false,\\\\\"is_thread_only\\\\\":false,\\\\\"is_non_threadable\\\\\":false,\\\\\"is_ext_shared\\\\\":false,\\\\\"shared_team_ids\\\\\":[\\\\\"T093JHQS18A\\\\\"],\\\\\"pending_connected_team_ids\\\\\":[],\\\\\"is_member\\\\\":true,\\\\\"last_read\\\\\":\\\\\"1751276355.711219\\\\\",\\\\\"topic\\\\\":{\\\\\"value\\\\\":\\\\\"\\\\\",\\\\\"creator\\\\\":\\\\\"\\\\\",\\\\\"last_set\\\\\":0},\\\\\"purpose\\\\\":{\\\\\"value\\\\\":\\\\\"Share announcements and updates about company news, upcoming events, or teammates who deserve some kudos. ⭐\\\\\",\\\\\"creator\\\\\":\\\\\"U093JHQT2JW\\\\\",\\\\\"last_set\\\\\":1751169199},\\\\\"properties\\\\\":{\\\\\"tabs\\\\\":[{\\\\\"id\\\\\":\\\\\"Ct093GG15ZBP\\\\\",\\\\\"type\\\\\":\\\\\"canvas\\\\\",\\\\\"data\\\\\":{\\\\\"file_id\\\\\":\\\\\"F093GG15ZAR\\\\\",\\\\\"shared_ts\\\\\":\\\\\"1751169203.499769\\\\\"},\\\\\"label\\\\\":\\\\\"\\\\\"}],\\\\\"tabz\\\\\":[{\\\\\"id\\\\\":\\\\\"Ct093GG15ZBP\\\\\",\\\\\"type\\\\\":\\\\\"canvas\\\\\",\\\\\"data\\\\\":{\\\\\"file_id\\\\\":\\\\\"F093GG15ZAR\\\\\",\\\\\"shared_ts\\\\\":\\\\\"1751169203.499769\\\\\"}}],\\\\\"use_case\\\\\":\\\\\"welcome\\\\\"},\\\\\"previous_names\\\\\":[\\\\\"all-new-workspace\\\\\"]},{\\\\\"id\\\\\":\\\\\"C0934AS6UB1\\\\\",\\\\\"name\\\\\":\\\\\"ljm\\\\\",\\\\\"is_channel\\\\\":true,\\\\\"is_group\\\\\":false,\\\\\"is_im\\\\\":false,\\\\\"is_mpim\\\\\":false,\\\\\"is_private\\\\\":false,\\\\\"created\\\\\":1751170141,\\\\\"is_archived\\\\\":false,\\\\\"is_general\\\\\":false,\\\\\"unlinked\\\\\":0,\\\\\"name_normalized\\\\\":\\\\\"ljm\\\\\",\\\\\"is_shared\\\\\":false,\\\\\"is_org_shared\\\\\":false,\\\\\"is_pending_ext_shared\\\\\":false,\\\\\"pending_shared\\\\\":[],\\\\\"context_team_id\\\\\":\\\\\"T093JHQS18A\\\\\",\\\\\"updated\\\\\":1751170141578,\\\\\"parent_conversation\\\\\":null,\\\\\"creator\\\\\":\\\\\"U093JHQT2JW\\\\\",\\\\\"is_ext_shared\\\\\":false,\\\\\"shared_team_ids\\\\\":[\\\\\"T093JHQS18A\\\\\"],\\\\\"pending_connected_team_ids\\\\\":[],\\\\\"is_member\\\\\":true,\\\\\"last_read\\\\\":\\\\\"1751276441.093129\\\\\",\\\\\"topic\\\\\":{\\\\\"value\\\\\":\\\\\"\\\\\",\\\\\"creator\\\\\":\\\\\"\\\\\",\\\\\"last_set\\\\\":0},\\\\\"purpose\\\\\":{\\\\\"value\\\\\":\\\\\"\\\\\",\\\\\"creator\\\\\":\\\\\"\\\\\",\\\\\"last_set\\\\\":0},\\\\\"previous_names\\\\\":[]}],\\\\\"response_metadata\\\\\":{\\\\\"next_cursor\\\\\":\\\\\"\\\\\"}}\"}]}, \"jsonrpc\": \"2.0\", \"id\": 5}', name='slack_list_channels', id='6e22e210-7dc4-4dd5-a59c-03c3aa5a14f3', tool_call_id='q2nkaxx7n'),\n",
       "  AIMessage(content='', additional_kwargs={'tool_calls': [{'id': 'szzcqv7ge', 'function': {'arguments': '{\"channel_id\":\"C093KK8DBGC\",\"text\":\"Good Morning to ALL from Slack agent\"}', 'name': 'slack_post_message'}, 'type': 'function'}]}, response_metadata={'token_usage': {'completion_tokens': 50, 'prompt_tokens': 2609, 'total_tokens': 2659, 'completion_time': 0.18286828, 'prompt_time': 0.098505707, 'queue_time': 0.058352562999999996, 'total_time': 0.281373987}, 'model_name': 'llama3-70b-8192', 'system_fingerprint': 'fp_dd4ae1c591', 'finish_reason': 'tool_calls', 'logprobs': None}, id='run-0a8f4dbd-2bb8-47e5-bd25-a4bd805517f2-0', tool_calls=[{'name': 'slack_post_message', 'args': {'channel_id': 'C093KK8DBGC', 'text': 'Good Morning to ALL from Slack agent'}, 'id': 'szzcqv7ge', 'type': 'tool_call'}], usage_metadata={'input_tokens': 2609, 'output_tokens': 50, 'total_tokens': 2659}),\n",
       "  ToolMessage(content='{\"result\": {\"content\": [{\"type\": \"text\", \"text\": \"{\\\\\"ok\\\\\":true,\\\\\"channel\\\\\":\\\\\"C093KK8DBGC\\\\\",\\\\\"ts\\\\\":\\\\\"1751350471.870209\\\\\",\\\\\"message\\\\\":{\\\\\"user\\\\\":\\\\\"U0946J1TQHW\\\\\",\\\\\"type\\\\\":\\\\\"message\\\\\",\\\\\"ts\\\\\":\\\\\"1751350471.870209\\\\\",\\\\\"bot_id\\\\\":\\\\\"B0946J1T4M6\\\\\",\\\\\"app_id\\\\\":\\\\\"A093GGX8TE1\\\\\",\\\\\"text\\\\\":\\\\\"Good Morning to ALL from Slack agent\\\\\",\\\\\"team\\\\\":\\\\\"T093JHQS18A\\\\\",\\\\\"bot_profile\\\\\":{\\\\\"id\\\\\":\\\\\"B0946J1T4M6\\\\\",\\\\\"app_id\\\\\":\\\\\"A093GGX8TE1\\\\\",\\\\\"user_id\\\\\":\\\\\"U0946J1TQHW\\\\\",\\\\\"name\\\\\":\\\\\"meetingplus\\\\\",\\\\\"icons\\\\\":{\\\\\"image_36\\\\\":\\\\\"https://a.slack-edge.com/80588/img/plugins/app/bot_36.png\\\\\",\\\\\"image_48\\\\\":\\\\\"https://a.slack-edge.com/80588/img/plugins/app/bot_48.png\\\\\",\\\\\"image_72\\\\\":\\\\\"https://a.slack-edge.com/80588/img/plugins/app/service_72.png\\\\\"},\\\\\"deleted\\\\\":false,\\\\\"updated\\\\\":1751170336,\\\\\"team_id\\\\\":\\\\\"T093JHQS18A\\\\\"},\\\\\"blocks\\\\\":[{\\\\\"type\\\\\":\\\\\"rich_text\\\\\",\\\\\"block_id\\\\\":\\\\\"FYE\\\\\",\\\\\"elements\\\\\":[{\\\\\"type\\\\\":\\\\\"rich_text_section\\\\\",\\\\\"elements\\\\\":[{\\\\\"type\\\\\":\\\\\"text\\\\\",\\\\\"text\\\\\":\\\\\"Good Morning to ALL from Slack agent\\\\\"}]}]}]},\\\\\"warning\\\\\":\\\\\"missing_charset\\\\\",\\\\\"response_metadata\\\\\":{\\\\\"warnings\\\\\":[\\\\\"missing_charset\\\\\"]}}\"}]}, \"jsonrpc\": \"2.0\", \"id\": 6}', name='slack_post_message', id='0b845013-83cb-4018-b027-d44358975cf6', tool_call_id='szzcqv7ge'),\n",
       "  AIMessage(content='The message has been successfully posted to the \"ai-team\" channel.', additional_kwargs={}, response_metadata={'token_usage': {'completion_tokens': 15, 'prompt_tokens': 3022, 'total_tokens': 3037, 'completion_time': 0.170741523, 'prompt_time': 0.119361774, 'queue_time': 0.05929937599999999, 'total_time': 0.290103297}, 'model_name': 'llama3-70b-8192', 'system_fingerprint': 'fp_dd4ae1c591', 'finish_reason': 'stop', 'logprobs': None}, id='run-98850dbc-7295-4618-bd02-886acbd35ccf-0', usage_metadata={'input_tokens': 3022, 'output_tokens': 15, 'total_tokens': 3037})]}"
      ]
     },
     "execution_count": 22,
     "metadata": {},
     "output_type": "execute_result"
    }
   ],
   "source": [
    "slack_node(\"send a message ( Good Morning to ALL from Slack agent ) on ai team channel \")"
   ]
  },
  {
   "cell_type": "code",
   "execution_count": null,
   "metadata": {},
   "outputs": [],
   "source": []
  },
  {
   "cell_type": "code",
   "execution_count": 22,
   "metadata": {},
   "outputs": [
    {
     "name": "stdout",
     "output_type": "stream",
     "text": [
      "*****************slack NODE CALLED************\n",
      "[MCP REQUEST] {\n",
      "  \"jsonrpc\": \"2.0\",\n",
      "  \"method\": \"tools/call\",\n",
      "  \"params\": {\n",
      "    \"name\": \"slack_post_message\",\n",
      "    \"arguments\": {\n",
      "      \"channel_id\": \"all-abc\",\n",
      "      \"text\": \"Good Evening <@UACLKJQJQ>!\"\n",
      "    }\n",
      "  },\n",
      "  \"id\": 6\n",
      "}\n",
      "[MCP RESPONSE] {\n",
      "  \"result\": {\n",
      "    \"content\": [\n",
      "      {\n",
      "        \"type\": \"text\",\n",
      "        \"text\": \"{\\\"ok\\\":true,\\\"channel\\\":\\\"C093JHR4DNE\\\",\\\"ts\\\":\\\"1751378627.804079\\\",\\\"message\\\":{\\\"user\\\":\\\"U0946J1TQHW\\\",\\\"type\\\":\\\"message\\\",\\\"ts\\\":\\\"1751378627.804079\\\",\\\"bot_id\\\":\\\"B0946J1T4M6\\\",\\\"app_id\\\":\\\"A093GGX8TE1\\\",\\\"text\\\":\\\"Good Evening <@UACLKJQJQ>!\\\",\\\"team\\\":\\\"T093JHQS18A\\\",\\\"bot_profile\\\":{\\\"id\\\":\\\"B0946J1T4M6\\\",\\\"app_id\\\":\\\"A093GGX8TE1\\\",\\\"user_id\\\":\\\"U0946J1TQHW\\\",\\\"name\\\":\\\"meetingplus\\\",\\\"icons\\\":{\\\"image_36\\\":\\\"https://a.slack-edge.com/80588/img/plugins/app/bot_36.png\\\",\\\"image_48\\\":\\\"https://a.slack-edge.com/80588/img/plugins/app/bot_48.png\\\",\\\"image_72\\\":\\\"https://a.slack-edge.com/80588/img/plugins/app/service_72.png\\\"},\\\"deleted\\\":false,\\\"updated\\\":1751170336,\\\"team_id\\\":\\\"T093JHQS18A\\\"},\\\"blocks\\\":[{\\\"type\\\":\\\"rich_text\\\",\\\"block_id\\\":\\\"sb5\\\",\\\"elements\\\":[{\\\"type\\\":\\\"rich_text_section\\\",\\\"elements\\\":[{\\\"type\\\":\\\"text\\\",\\\"text\\\":\\\"Good Evening \\\"},{\\\"type\\\":\\\"user\\\",\\\"user_id\\\":\\\"UACLKJQJQ\\\"},{\\\"type\\\":\\\"text\\\",\\\"text\\\":\\\"!\\\"}]}]}]},\\\"warning\\\":\\\"missing_charset\\\",\\\"response_metadata\\\":{\\\"warnings\\\":[\\\"missing_charset\\\"]}}\"\n",
      "      }\n",
      "    ]\n",
      "  },\n",
      "  \"jsonrpc\": \"2.0\",\n",
      "  \"id\": 6\n",
      "}\n",
      "[TOOL CALL] slack_post_message -> {\n",
      "  \"result\": {\n",
      "    \"content\": [\n",
      "      {\n",
      "        \"type\": \"text\",\n",
      "        \"text\": \"{\\\"ok\\\":true,\\\"channel\\\":\\\"C093JHR4DNE\\\",\\\"ts\\\":\\\"1751378627.804079\\\",\\\"message\\\":{\\\"user\\\":\\\"U0946J1TQHW\\\",\\\"type\\\":\\\"message\\\",\\\"ts\\\":\\\"1751378627.804079\\\",\\\"bot_id\\\":\\\"B0946J1T4M6\\\",\\\"app_id\\\":\\\"A093GGX8TE1\\\",\\\"text\\\":\\\"Good Evening <@UACLKJQJQ>!\\\",\\\"team\\\":\\\"T093JHQS18A\\\",\\\"bot_profile\\\":{\\\"id\\\":\\\"B0946J1T4M6\\\",\\\"app_id\\\":\\\"A093GGX8TE1\\\",\\\"user_id\\\":\\\"U0946J1TQHW\\\",\\\"name\\\":\\\"meetingplus\\\",\\\"icons\\\":{\\\"image_36\\\":\\\"https://a.slack-edge.com/80588/img/plugins/app/bot_36.png\\\",\\\"image_48\\\":\\\"https://a.slack-edge.com/80588/img/plugins/app/bot_48.png\\\",\\\"image_72\\\":\\\"https://a.slack-edge.com/80588/img/plugins/app/service_72.png\\\"},\\\"deleted\\\":false,\\\"updated\\\":1751170336,\\\"team_id\\\":\\\"T093JHQS18A\\\"},\\\"blocks\\\":[{\\\"type\\\":\\\"rich_text\\\",\\\"block_id\\\":\\\"sb5\\\",\\\"elements\\\":[{\\\"type\\\":\\\"rich_text_section\\\",\\\"elements\\\":[{\\\"type\\\":\\\"text\\\",\\\"text\\\":\\\"Good Evening \\\"},{\\\"type\\\":\\\"user\\\",\\\"user_id\\\":\\\"UACLKJQJQ\\\"},{\\\"type\\\":\\\"text\\\",\\\"text\\\":\\\"!\\\"}]}]}]},\\\"warning\\\":\\\"missing_charset\\\",\\\"response_metadata\\\":{\\\"warnings\\\":[\\\"missing_charset\\\"]}}\"\n",
      "      }\n",
      "    ]\n",
      "  },\n",
      "  \"jsonrpc\": \"2.0\",\n",
      "  \"id\": 6\n",
      "}\n",
      "Slack agent result: {'messages': [HumanMessage(content='send a message ( Good Evening by tagging slackbot ) like @pa... on general channel all-abc', additional_kwargs={}, response_metadata={}, id='145cf0ab-38f3-4594-9d69-f91e428a50da'), AIMessage(content='', additional_kwargs={'tool_calls': [{'id': '7qk9z8sy1', 'function': {'arguments': '{\"channel_id\":\"all-abc\",\"text\":\"Good Evening \\\\u003c@UACLKJQJQ\\\\u003e!\"}', 'name': 'slack_post_message'}, 'type': 'function'}]}, response_metadata={'token_usage': {'completion_tokens': 65, 'prompt_tokens': 1288, 'total_tokens': 1353, 'completion_time': 0.230101047, 'prompt_time': 0.04961946, 'queue_time': 0.053490289, 'total_time': 0.279720507}, 'model_name': 'llama3-70b-8192', 'system_fingerprint': 'fp_dd4ae1c591', 'finish_reason': 'tool_calls', 'logprobs': None}, id='run--6720ca59-7bad-496d-9778-8649316b4645-0', tool_calls=[{'name': 'slack_post_message', 'args': {'channel_id': 'all-abc', 'text': 'Good Evening <@UACLKJQJQ>!'}, 'id': '7qk9z8sy1', 'type': 'tool_call'}], usage_metadata={'input_tokens': 1288, 'output_tokens': 65, 'total_tokens': 1353}), ToolMessage(content='{\"result\": {\"content\": [{\"type\": \"text\", \"text\": \"{\\\\\"ok\\\\\":true,\\\\\"channel\\\\\":\\\\\"C093JHR4DNE\\\\\",\\\\\"ts\\\\\":\\\\\"1751378627.804079\\\\\",\\\\\"message\\\\\":{\\\\\"user\\\\\":\\\\\"U0946J1TQHW\\\\\",\\\\\"type\\\\\":\\\\\"message\\\\\",\\\\\"ts\\\\\":\\\\\"1751378627.804079\\\\\",\\\\\"bot_id\\\\\":\\\\\"B0946J1T4M6\\\\\",\\\\\"app_id\\\\\":\\\\\"A093GGX8TE1\\\\\",\\\\\"text\\\\\":\\\\\"Good Evening <@UACLKJQJQ>!\\\\\",\\\\\"team\\\\\":\\\\\"T093JHQS18A\\\\\",\\\\\"bot_profile\\\\\":{\\\\\"id\\\\\":\\\\\"B0946J1T4M6\\\\\",\\\\\"app_id\\\\\":\\\\\"A093GGX8TE1\\\\\",\\\\\"user_id\\\\\":\\\\\"U0946J1TQHW\\\\\",\\\\\"name\\\\\":\\\\\"meetingplus\\\\\",\\\\\"icons\\\\\":{\\\\\"image_36\\\\\":\\\\\"https://a.slack-edge.com/80588/img/plugins/app/bot_36.png\\\\\",\\\\\"image_48\\\\\":\\\\\"https://a.slack-edge.com/80588/img/plugins/app/bot_48.png\\\\\",\\\\\"image_72\\\\\":\\\\\"https://a.slack-edge.com/80588/img/plugins/app/service_72.png\\\\\"},\\\\\"deleted\\\\\":false,\\\\\"updated\\\\\":1751170336,\\\\\"team_id\\\\\":\\\\\"T093JHQS18A\\\\\"},\\\\\"blocks\\\\\":[{\\\\\"type\\\\\":\\\\\"rich_text\\\\\",\\\\\"block_id\\\\\":\\\\\"sb5\\\\\",\\\\\"elements\\\\\":[{\\\\\"type\\\\\":\\\\\"rich_text_section\\\\\",\\\\\"elements\\\\\":[{\\\\\"type\\\\\":\\\\\"text\\\\\",\\\\\"text\\\\\":\\\\\"Good Evening \\\\\"},{\\\\\"type\\\\\":\\\\\"user\\\\\",\\\\\"user_id\\\\\":\\\\\"UACLKJQJQ\\\\\"},{\\\\\"type\\\\\":\\\\\"text\\\\\",\\\\\"text\\\\\":\\\\\"!\\\\\"}]}]}]},\\\\\"warning\\\\\":\\\\\"missing_charset\\\\\",\\\\\"response_metadata\\\\\":{\\\\\"warnings\\\\\":[\\\\\"missing_charset\\\\\"]}}\"}]}, \"jsonrpc\": \"2.0\", \"id\": 6}', name='slack_post_message', id='18fdc102-80eb-4ba1-b281-fbf0d2a130f3', tool_call_id='7qk9z8sy1'), AIMessage(content='The message has been successfully posted to the channel.', additional_kwargs={}, response_metadata={'token_usage': {'completion_tokens': 11, 'prompt_tokens': 1743, 'total_tokens': 1754, 'completion_time': 0.129983218, 'prompt_time': 0.064531576, 'queue_time': 0.054666294000000004, 'total_time': 0.194514794}, 'model_name': 'llama3-70b-8192', 'system_fingerprint': 'fp_dd4ae1c591', 'finish_reason': 'stop', 'logprobs': None}, id='run--c09876ae-3522-417b-8563-087faa9b7670-0', usage_metadata={'input_tokens': 1743, 'output_tokens': 11, 'total_tokens': 1754})]}\n"
     ]
    }
   ],
   "source": [
    "ress = slack_node(\"send a message ( Good Evening by tagging slackbot ) like @pa... on general channel all-abc\")"
   ]
  },
  {
   "cell_type": "code",
   "execution_count": 23,
   "metadata": {},
   "outputs": [
    {
     "data": {
      "text/plain": [
       "{'messages': [HumanMessage(content='send a message ( Good Evening by tagging slackbot ) like @pa... on general channel all-abc', additional_kwargs={}, response_metadata={}, id='145cf0ab-38f3-4594-9d69-f91e428a50da'),\n",
       "  AIMessage(content='', additional_kwargs={'tool_calls': [{'id': '7qk9z8sy1', 'function': {'arguments': '{\"channel_id\":\"all-abc\",\"text\":\"Good Evening \\\\u003c@UACLKJQJQ\\\\u003e!\"}', 'name': 'slack_post_message'}, 'type': 'function'}]}, response_metadata={'token_usage': {'completion_tokens': 65, 'prompt_tokens': 1288, 'total_tokens': 1353, 'completion_time': 0.230101047, 'prompt_time': 0.04961946, 'queue_time': 0.053490289, 'total_time': 0.279720507}, 'model_name': 'llama3-70b-8192', 'system_fingerprint': 'fp_dd4ae1c591', 'finish_reason': 'tool_calls', 'logprobs': None}, id='run--6720ca59-7bad-496d-9778-8649316b4645-0', tool_calls=[{'name': 'slack_post_message', 'args': {'channel_id': 'all-abc', 'text': 'Good Evening <@UACLKJQJQ>!'}, 'id': '7qk9z8sy1', 'type': 'tool_call'}], usage_metadata={'input_tokens': 1288, 'output_tokens': 65, 'total_tokens': 1353}),\n",
       "  ToolMessage(content='{\"result\": {\"content\": [{\"type\": \"text\", \"text\": \"{\\\\\"ok\\\\\":true,\\\\\"channel\\\\\":\\\\\"C093JHR4DNE\\\\\",\\\\\"ts\\\\\":\\\\\"1751378627.804079\\\\\",\\\\\"message\\\\\":{\\\\\"user\\\\\":\\\\\"U0946J1TQHW\\\\\",\\\\\"type\\\\\":\\\\\"message\\\\\",\\\\\"ts\\\\\":\\\\\"1751378627.804079\\\\\",\\\\\"bot_id\\\\\":\\\\\"B0946J1T4M6\\\\\",\\\\\"app_id\\\\\":\\\\\"A093GGX8TE1\\\\\",\\\\\"text\\\\\":\\\\\"Good Evening <@UACLKJQJQ>!\\\\\",\\\\\"team\\\\\":\\\\\"T093JHQS18A\\\\\",\\\\\"bot_profile\\\\\":{\\\\\"id\\\\\":\\\\\"B0946J1T4M6\\\\\",\\\\\"app_id\\\\\":\\\\\"A093GGX8TE1\\\\\",\\\\\"user_id\\\\\":\\\\\"U0946J1TQHW\\\\\",\\\\\"name\\\\\":\\\\\"meetingplus\\\\\",\\\\\"icons\\\\\":{\\\\\"image_36\\\\\":\\\\\"https://a.slack-edge.com/80588/img/plugins/app/bot_36.png\\\\\",\\\\\"image_48\\\\\":\\\\\"https://a.slack-edge.com/80588/img/plugins/app/bot_48.png\\\\\",\\\\\"image_72\\\\\":\\\\\"https://a.slack-edge.com/80588/img/plugins/app/service_72.png\\\\\"},\\\\\"deleted\\\\\":false,\\\\\"updated\\\\\":1751170336,\\\\\"team_id\\\\\":\\\\\"T093JHQS18A\\\\\"},\\\\\"blocks\\\\\":[{\\\\\"type\\\\\":\\\\\"rich_text\\\\\",\\\\\"block_id\\\\\":\\\\\"sb5\\\\\",\\\\\"elements\\\\\":[{\\\\\"type\\\\\":\\\\\"rich_text_section\\\\\",\\\\\"elements\\\\\":[{\\\\\"type\\\\\":\\\\\"text\\\\\",\\\\\"text\\\\\":\\\\\"Good Evening \\\\\"},{\\\\\"type\\\\\":\\\\\"user\\\\\",\\\\\"user_id\\\\\":\\\\\"UACLKJQJQ\\\\\"},{\\\\\"type\\\\\":\\\\\"text\\\\\",\\\\\"text\\\\\":\\\\\"!\\\\\"}]}]}]},\\\\\"warning\\\\\":\\\\\"missing_charset\\\\\",\\\\\"response_metadata\\\\\":{\\\\\"warnings\\\\\":[\\\\\"missing_charset\\\\\"]}}\"}]}, \"jsonrpc\": \"2.0\", \"id\": 6}', name='slack_post_message', id='18fdc102-80eb-4ba1-b281-fbf0d2a130f3', tool_call_id='7qk9z8sy1'),\n",
       "  AIMessage(content='The message has been successfully posted to the channel.', additional_kwargs={}, response_metadata={'token_usage': {'completion_tokens': 11, 'prompt_tokens': 1743, 'total_tokens': 1754, 'completion_time': 0.129983218, 'prompt_time': 0.064531576, 'queue_time': 0.054666294000000004, 'total_time': 0.194514794}, 'model_name': 'llama3-70b-8192', 'system_fingerprint': 'fp_dd4ae1c591', 'finish_reason': 'stop', 'logprobs': None}, id='run--c09876ae-3522-417b-8563-087faa9b7670-0', usage_metadata={'input_tokens': 1743, 'output_tokens': 11, 'total_tokens': 1754})]}"
      ]
     },
     "execution_count": 23,
     "metadata": {},
     "output_type": "execute_result"
    }
   ],
   "source": [
    "ress"
   ]
  },
  {
   "cell_type": "code",
   "execution_count": 24,
   "metadata": {},
   "outputs": [
    {
     "name": "stdout",
     "output_type": "stream",
     "text": [
      "================================\u001b[1m Human Message \u001b[0m=================================\n",
      "\n",
      "send a message ( Good Evening by tagging slackbot ) like @pa... on general channel all-abc\n",
      "==================================\u001b[1m Ai Message \u001b[0m==================================\n",
      "Tool Calls:\n",
      "  slack_post_message (7qk9z8sy1)\n",
      " Call ID: 7qk9z8sy1\n",
      "  Args:\n",
      "    channel_id: all-abc\n",
      "    text: Good Evening <@UACLKJQJQ>!\n",
      "=================================\u001b[1m Tool Message \u001b[0m=================================\n",
      "Name: slack_post_message\n",
      "\n",
      "{\"result\": {\"content\": [{\"type\": \"text\", \"text\": \"{\\\"ok\\\":true,\\\"channel\\\":\\\"C093JHR4DNE\\\",\\\"ts\\\":\\\"1751378627.804079\\\",\\\"message\\\":{\\\"user\\\":\\\"U0946J1TQHW\\\",\\\"type\\\":\\\"message\\\",\\\"ts\\\":\\\"1751378627.804079\\\",\\\"bot_id\\\":\\\"B0946J1T4M6\\\",\\\"app_id\\\":\\\"A093GGX8TE1\\\",\\\"text\\\":\\\"Good Evening <@UACLKJQJQ>!\\\",\\\"team\\\":\\\"T093JHQS18A\\\",\\\"bot_profile\\\":{\\\"id\\\":\\\"B0946J1T4M6\\\",\\\"app_id\\\":\\\"A093GGX8TE1\\\",\\\"user_id\\\":\\\"U0946J1TQHW\\\",\\\"name\\\":\\\"meetingplus\\\",\\\"icons\\\":{\\\"image_36\\\":\\\"https://a.slack-edge.com/80588/img/plugins/app/bot_36.png\\\",\\\"image_48\\\":\\\"https://a.slack-edge.com/80588/img/plugins/app/bot_48.png\\\",\\\"image_72\\\":\\\"https://a.slack-edge.com/80588/img/plugins/app/service_72.png\\\"},\\\"deleted\\\":false,\\\"updated\\\":1751170336,\\\"team_id\\\":\\\"T093JHQS18A\\\"},\\\"blocks\\\":[{\\\"type\\\":\\\"rich_text\\\",\\\"block_id\\\":\\\"sb5\\\",\\\"elements\\\":[{\\\"type\\\":\\\"rich_text_section\\\",\\\"elements\\\":[{\\\"type\\\":\\\"text\\\",\\\"text\\\":\\\"Good Evening \\\"},{\\\"type\\\":\\\"user\\\",\\\"user_id\\\":\\\"UACLKJQJQ\\\"},{\\\"type\\\":\\\"text\\\",\\\"text\\\":\\\"!\\\"}]}]}]},\\\"warning\\\":\\\"missing_charset\\\",\\\"response_metadata\\\":{\\\"warnings\\\":[\\\"missing_charset\\\"]}}\"}]}, \"jsonrpc\": \"2.0\", \"id\": 6}\n",
      "==================================\u001b[1m Ai Message \u001b[0m==================================\n",
      "\n",
      "The message has been successfully posted to the channel.\n"
     ]
    }
   ],
   "source": [
    "for message in ress[\"messages\"]:\n",
    "    message.pretty_print()"
   ]
  },
  {
   "cell_type": "code",
   "execution_count": null,
   "metadata": {},
   "outputs": [],
   "source": []
  }
 ],
 "metadata": {
  "kernelspec": {
   "display_name": "smartcopilot-api",
   "language": "python",
   "name": "python3"
  },
  "language_info": {
   "codemirror_mode": {
    "name": "ipython",
    "version": 3
   },
   "file_extension": ".py",
   "mimetype": "text/x-python",
   "name": "python",
   "nbconvert_exporter": "python",
   "pygments_lexer": "ipython3",
   "version": "3.12.3"
  }
 },
 "nbformat": 4,
 "nbformat_minor": 2
}
